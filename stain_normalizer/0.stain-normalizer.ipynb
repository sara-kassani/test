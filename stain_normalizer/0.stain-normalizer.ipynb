{
 "cells": [
  {
   "cell_type": "code",
   "execution_count": 1,
   "metadata": {},
   "outputs": [],
   "source": [
    "import os\n",
    "import sys\n",
    "import cv2 as cv\n",
    "import glob\n",
    "\n",
    "import stainNorm_Vahadane as stain_Vahadane\n",
    "import stainNorm_Macenko as stain_Macenko\n",
    "import stainNorm_Reinhard as stain_Reinhard"
   ]
  },
  {
   "cell_type": "code",
   "execution_count": 2,
   "metadata": {},
   "outputs": [],
   "source": [
    "def get_file_name_dir(rootDir, ext):\n",
    " \n",
    "    # Return file names with certain extension\n",
    "\n",
    "    return glob.glob1(rootDir, \"*.\" + ext)"
   ]
  },
  {
   "cell_type": "code",
   "execution_count": 3,
   "metadata": {},
   "outputs": [
    {
     "name": "stdout",
     "output_type": "stream",
     "text": [
      "Preprocessing: b005.png: 1\n",
      "Preprocessing: b006.png: 2\n",
      "Preprocessing: b007.png: 3\n",
      "Preprocessing: b011.png: 4\n",
      "Preprocessing: b015.png: 5\n",
      "Preprocessing: b016.png: 6\n",
      "Preprocessing: b022.png: 7\n",
      "Preprocessing: b027.png: 8\n",
      "Preprocessing: b030.png: 9\n",
      "Preprocessing: b033.png: 10\n",
      "Preprocessing: b038.png: 11\n",
      "Preprocessing: b041.png: 12\n",
      "Preprocessing: b043.png: 13\n",
      "Preprocessing: b050.png: 14\n",
      "Preprocessing: b057.png: 15\n",
      "Preprocessing: b058.png: 16\n",
      "Preprocessing: b059.png: 17\n",
      "Preprocessing: b069.png: 18\n",
      "Preprocessing: b072.png: 19\n",
      "Preprocessing: b073.png: 20\n",
      "Preprocessing: b078.png: 21\n",
      "Preprocessing: b080.png: 22\n",
      "Preprocessing: b084.png: 23\n",
      "Preprocessing: b091.png: 24\n",
      "Preprocessing: b099.png: 25\n"
     ]
    }
   ],
   "source": [
    "input_path = 'data/data-ICIAR-final/Vahadane/test/Benign/'\n",
    "input_extension = 'png'\n",
    "\n",
    "inputs_files = sorted(get_file_name_dir(input_path, input_extension))\n",
    "\n",
    "cont = 1\n",
    "\n",
    "for file_name in inputs_files:\n",
    "    print('Preprocessing: ' + file_name + ': ' + str(cont))\n",
    "    cont += 1\n",
    "    # Get the image\n",
    "    img = input_path + file_name\n",
    "    im_in = cv.imread(img)\n",
    "\n",
    "    target = cv.imread(os.path.join(input_path, file_name))\n",
    "    n = stain_Vahadane.normalizer()\n",
    "    n.fit(target)\n",
    "    normal = n.transform(im_in)\n",
    "    \n",
    "    cv.imwrite('data/data-ICIAR-final/Vahadane/test/Benign/' + file_name , normal)"
   ]
  },
  {
   "cell_type": "code",
   "execution_count": 4,
   "metadata": {},
   "outputs": [
    {
     "name": "stdout",
     "output_type": "stream",
     "text": [
      "Preprocessing: is005.png: 1\n",
      "Preprocessing: is006.png: 2\n",
      "Preprocessing: is007.png: 3\n",
      "Preprocessing: is011.png: 4\n",
      "Preprocessing: is015.png: 5\n",
      "Preprocessing: is016.png: 6\n",
      "Preprocessing: is022.png: 7\n",
      "Preprocessing: is027.png: 8\n",
      "Preprocessing: is030.png: 9\n",
      "Preprocessing: is032.png: 10\n",
      "Preprocessing: is033.png: 11\n",
      "Preprocessing: is038.png: 12\n",
      "Preprocessing: is041.png: 13\n",
      "Preprocessing: is043.png: 14\n",
      "Preprocessing: is050.png: 15\n",
      "Preprocessing: is067.png: 16\n",
      "Preprocessing: is069.png: 17\n",
      "Preprocessing: is072.png: 18\n",
      "Preprocessing: is073.png: 19\n",
      "Preprocessing: is078.png: 20\n",
      "Preprocessing: is080.png: 21\n",
      "Preprocessing: is084.png: 22\n",
      "Preprocessing: is091.png: 23\n",
      "Preprocessing: is099.png: 24\n",
      "Preprocessing: is100.png: 25\n"
     ]
    }
   ],
   "source": [
    "input_path = 'data/data-ICIAR-final/Vahadane/test/InSitu/'\n",
    "input_extension = 'png'\n",
    "\n",
    "inputs_files = sorted(get_file_name_dir(input_path, input_extension))\n",
    "\n",
    "cont = 1\n",
    "\n",
    "for file_name in inputs_files:\n",
    "    print('Preprocessing: ' + file_name + ': ' + str(cont))\n",
    "    cont += 1\n",
    "    # Get the image\n",
    "    img = input_path + file_name\n",
    "    im_in = cv.imread(img)\n",
    "\n",
    "    target = cv.imread(os.path.join(input_path, file_name))\n",
    "    n = stain_Vahadane.normalizer()\n",
    "    n.fit(target)\n",
    "    normal = n.transform(im_in)\n",
    "    \n",
    "    cv.imwrite('data/data-ICIAR-final/Vahadane/test/InSitu/' + file_name , normal)"
   ]
  },
  {
   "cell_type": "code",
   "execution_count": 5,
   "metadata": {},
   "outputs": [
    {
     "name": "stdout",
     "output_type": "stream",
     "text": [
      "Preprocessing: iv005.png: 1\n",
      "Preprocessing: iv006.png: 2\n",
      "Preprocessing: iv007.png: 3\n",
      "Preprocessing: iv011.png: 4\n",
      "Preprocessing: iv015.png: 5\n",
      "Preprocessing: iv016.png: 6\n",
      "Preprocessing: iv022.png: 7\n",
      "Preprocessing: iv027.png: 8\n",
      "Preprocessing: iv030.png: 9\n",
      "Preprocessing: iv032.png: 10\n",
      "Preprocessing: iv038.png: 11\n",
      "Preprocessing: iv041.png: 12\n",
      "Preprocessing: iv043.png: 13\n",
      "Preprocessing: iv050.png: 14\n",
      "Preprocessing: iv057.png: 15\n",
      "Preprocessing: iv059.png: 16\n",
      "Preprocessing: iv067.png: 17\n",
      "Preprocessing: iv069.png: 18\n",
      "Preprocessing: iv073.png: 19\n",
      "Preprocessing: iv078.png: 20\n",
      "Preprocessing: iv080.png: 21\n",
      "Preprocessing: iv084.png: 22\n",
      "Preprocessing: iv091.png: 23\n",
      "Preprocessing: iv099.png: 24\n",
      "Preprocessing: iv100.png: 25\n"
     ]
    }
   ],
   "source": [
    "input_path = 'data/data-ICIAR-final/Vahadane/test/Invasive/'\n",
    "input_extension = 'png'\n",
    "\n",
    "inputs_files = sorted(get_file_name_dir(input_path, input_extension))\n",
    "\n",
    "cont = 1\n",
    "\n",
    "for file_name in inputs_files:\n",
    "    print('Preprocessing: ' + file_name + ': ' + str(cont))\n",
    "    cont += 1\n",
    "    # Get the image\n",
    "    img = input_path + file_name\n",
    "    im_in = cv.imread(img)\n",
    "\n",
    "    target = cv.imread(os.path.join(input_path, file_name))\n",
    "    n = stain_Vahadane.normalizer()\n",
    "    n.fit(target)\n",
    "    normal = n.transform(im_in)\n",
    "    \n",
    "    cv.imwrite('data/data-ICIAR-final/Vahadane/test/Invasive/' + file_name , normal)"
   ]
  },
  {
   "cell_type": "code",
   "execution_count": 6,
   "metadata": {},
   "outputs": [
    {
     "name": "stdout",
     "output_type": "stream",
     "text": [
      "Preprocessing: n005.png: 1\n",
      "Preprocessing: n006.png: 2\n",
      "Preprocessing: n007.png: 3\n",
      "Preprocessing: n011.png: 4\n",
      "Preprocessing: n015.png: 5\n",
      "Preprocessing: n016.png: 6\n",
      "Preprocessing: n022.png: 7\n",
      "Preprocessing: n027.png: 8\n",
      "Preprocessing: n030.png: 9\n",
      "Preprocessing: n033.png: 10\n",
      "Preprocessing: n038.png: 11\n",
      "Preprocessing: n041.png: 12\n",
      "Preprocessing: n043.png: 13\n",
      "Preprocessing: n057.png: 14\n",
      "Preprocessing: n058.png: 15\n",
      "Preprocessing: n059.png: 16\n",
      "Preprocessing: n067.png: 17\n",
      "Preprocessing: n069.png: 18\n",
      "Preprocessing: n072.png: 19\n",
      "Preprocessing: n073.png: 20\n",
      "Preprocessing: n080.png: 21\n",
      "Preprocessing: n084.png: 22\n",
      "Preprocessing: n091.png: 23\n",
      "Preprocessing: n099.png: 24\n",
      "Preprocessing: n100.png: 25\n"
     ]
    }
   ],
   "source": [
    "input_path = 'data/data-ICIAR-final/Vahadane/test/Normal/'\n",
    "input_extension = 'png'\n",
    "\n",
    "inputs_files = sorted(get_file_name_dir(input_path, input_extension))\n",
    "\n",
    "cont = 1\n",
    "\n",
    "for file_name in inputs_files:\n",
    "    print('Preprocessing: ' + file_name + ': ' + str(cont))\n",
    "    cont += 1\n",
    "    # Get the image\n",
    "    img = input_path + file_name\n",
    "    im_in = cv.imread(img)\n",
    "\n",
    "    target = cv.imread(os.path.join(input_path, file_name))\n",
    "    n = stain_Vahadane.normalizer()\n",
    "    n.fit(target)\n",
    "    normal = n.transform(im_in)\n",
    "    \n",
    "    cv.imwrite('data/data-ICIAR-final/Vahadane/test/Normal/' + file_name , normal)"
   ]
  },
  {
   "cell_type": "code",
   "execution_count": null,
   "metadata": {},
   "outputs": [],
   "source": []
  },
  {
   "cell_type": "code",
   "execution_count": null,
   "metadata": {},
   "outputs": [],
   "source": []
  },
  {
   "cell_type": "code",
   "execution_count": null,
   "metadata": {},
   "outputs": [],
   "source": []
  },
  {
   "cell_type": "code",
   "execution_count": null,
   "metadata": {},
   "outputs": [],
   "source": []
  }
 ],
 "metadata": {
  "kernelspec": {
   "display_name": "Python 3",
   "language": "python",
   "name": "python3"
  },
  "language_info": {
   "codemirror_mode": {
    "name": "ipython",
    "version": 3
   },
   "file_extension": ".py",
   "mimetype": "text/x-python",
   "name": "python",
   "nbconvert_exporter": "python",
   "pygments_lexer": "ipython3",
   "version": "3.6.5"
  }
 },
 "nbformat": 4,
 "nbformat_minor": 2
}
