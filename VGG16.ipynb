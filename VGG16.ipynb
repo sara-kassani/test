{
 "cells": [
  {
   "cell_type": "code",
   "execution_count": null,
   "metadata": {},
   "outputs": [],
   "source": [
    "from keras.models import Sequential\n",
    "from keras.layers import Conv2D, MaxPool2D, Flatten, Dense, Dropout"
   ]
  },
  {
   "cell_type": "code",
   "execution_count": null,
   "metadata": {},
   "outputs": [],
   "source": [
    "def vgg_16():\n",
    "    model = Sequential()\n",
    "\n",
    "    model.add(Conv2D(input_shape=(224, 224, 3), filters=64, kernel_size=3, activation='relu'))\n",
    "    model.add(Conv2D(filters=64, kernel_size=3, activation='relu'))\n",
    "    model.add(MaxPool2D(strides=2))\n",
    "\n",
    "    model.add(Conv2D(filters=128, kernel_size=3, activation='relu'))\n",
    "    model.add(Conv2D(filters=128, kernel_size=3, activation='relu'))\n",
    "    model.add(MaxPool2D(strides=2))\n",
    "\n",
    "    model.add(Conv2D(filters=256, kernel_size=3, activation='relu'))\n",
    "    model.add(Conv2D(filters=256, kernel_size=3, activation='relu'))\n",
    "    model.add(Conv2D(filters=256, kernel_size=3, activation='relu'))\n",
    "    model.add(MaxPool2D(strides=2))\n",
    "\n",
    "    model.add(Conv2D(filters=512, kernel_size=3, activation='relu'))\n",
    "    model.add(Conv2D(filters=512, kernel_size=3, activation='relu'))\n",
    "    model.add(Conv2D(filters=512, kernel_size=3, activation='relu'))\n",
    "    model.add(MaxPool2D(strides=2))\n",
    "\n",
    "    model.add(Conv2D(filters=512, kernel_size=3, activation='relu'))\n",
    "    model.add(Conv2D(filters=512, kernel_size=3, activation='relu'))\n",
    "    model.add(Conv2D(filters=512, kernel_size=3, activation='relu'))\n",
    "    model.add(MaxPool2D(strides=2))\n",
    "\n",
    "    model.add(Flatten())\n",
    "    model.add(Dense(units=4096, activation='relu'))\n",
    "    model.add(Dropout(0.5))\n",
    "    model.add(Dense(units=4096, activation='relu'))\n",
    "    model.add(Dropout(0.5))\n",
    "    model.add(Dense(units=17, activation='softmax'))\n",
    "\n",
    "  return model"
   ]
  },
  {
   "cell_type": "code",
   "execution_count": null,
   "metadata": {},
   "outputs": [],
   "source": []
  },
  {
   "cell_type": "code",
   "execution_count": null,
   "metadata": {},
   "outputs": [],
   "source": []
  }
 ],
 "metadata": {
  "kernelspec": {
   "display_name": "Python 3",
   "language": "python",
   "name": "python3"
  },
  "language_info": {
   "codemirror_mode": {
    "name": "ipython",
    "version": 3
   },
   "file_extension": ".py",
   "mimetype": "text/x-python",
   "name": "python",
   "nbconvert_exporter": "python",
   "pygments_lexer": "ipython3",
   "version": "3.6.5"
  }
 },
 "nbformat": 4,
 "nbformat_minor": 2
}
