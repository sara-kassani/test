{
 "cells": [
  {
   "cell_type": "code",
   "execution_count": 1,
   "metadata": {},
   "outputs": [
    {
     "name": "stdout",
     "output_type": "stream",
     "text": [
      "/device:GPU:0\n"
     ]
    }
   ],
   "source": [
    "import tensorflow as tf\n",
    "print(tf.test.gpu_device_name())\n",
    "# See https://www.tensorflow.org/tutorials/using_gpu#allowing_gpu_memory_growth\n",
    "config = tf.ConfigProto()\n",
    "config.gpu_options.allow_growth = True"
   ]
  },
  {
   "cell_type": "code",
   "execution_count": 2,
   "metadata": {
    "scrolled": true
   },
   "outputs": [
    {
     "name": "stderr",
     "output_type": "stream",
     "text": [
      "Using TensorFlow backend.\n"
     ]
    }
   ],
   "source": [
    "import os\n",
    "import pandas as pd\n",
    "\n",
    "import numpy as np\n",
    "from glob import glob\n",
    "import cv2\n",
    "import skimage\n",
    "from skimage.transform import resize\n",
    "\n",
    "from keras import layers\n",
    "from keras import models\n",
    "from keras import optimizers\n",
    "from keras.models import load_model\n",
    "import keras.callbacks as kcall\n",
    "from keras.optimizers import Adam\n",
    "from keras.models import Model\n",
    "from keras.models import Sequential\n",
    "from keras.layers import Flatten, Dense, Activation, Dropout, Conv2D, MaxPooling2D, BatchNormalization\n",
    "from keras.applications.xception import Xception, preprocess_input\n",
    "from keras.preprocessing.image import ImageDataGenerator\n",
    "from keras.callbacks import ModelCheckpoint\n",
    "import matplotlib.pyplot as plt\n",
    "\n",
    "%matplotlib inline"
   ]
  },
  {
   "cell_type": "code",
   "execution_count": 3,
   "metadata": {},
   "outputs": [],
   "source": [
    "train_dir = 'data/train'\n",
    "validation_dir = 'data/validation'"
   ]
  },
  {
   "cell_type": "code",
   "execution_count": 4,
   "metadata": {},
   "outputs": [
    {
     "name": "stdout",
     "output_type": "stream",
     "text": [
      "data/train 0\n",
      "data/train\\AKIEC 964\n",
      "data/train\\BCC 1537\n",
      "data/train\\BKL 3275\n",
      "data/train\\DF 346\n",
      "data/train\\MEL 3308\n",
      "data/train\\NV 20050\n",
      "data/train\\VASC 436\n"
     ]
    }
   ],
   "source": [
    "for root,dirs,files in os.walk(train_dir):\n",
    "    print (root, len(files))"
   ]
  },
  {
   "cell_type": "code",
   "execution_count": 5,
   "metadata": {},
   "outputs": [
    {
     "name": "stdout",
     "output_type": "stream",
     "text": [
      "data/validation 0\n",
      "data/validation\\AKIEC 344\n",
      "data/validation\\BCC 519\n",
      "data/validation\\BKL 1121\n",
      "data/validation\\DF 114\n",
      "data/validation\\MEL 1144\n",
      "data/validation\\NV 6770\n",
      "data/validation\\VASC 132\n"
     ]
    }
   ],
   "source": [
    "for root,dirs,files in os.walk(validation_dir):\n",
    "    print (root, len(files))"
   ]
  },
  {
   "cell_type": "code",
   "execution_count": 6,
   "metadata": {},
   "outputs": [
    {
     "name": "stdout",
     "output_type": "stream",
     "text": [
      "Found 29916 images belonging to 7 classes.\n",
      "Found 10144 images belonging to 7 classes.\n"
     ]
    }
   ],
   "source": [
    "from keras.preprocessing.image import ImageDataGenerator\n",
    "\n",
    "# this is the augmentation configuration we will use for training\n",
    "train_datagen = ImageDataGenerator(\n",
    "    rescale=1. / 255,\n",
    "    featurewise_center=True,\n",
    "    featurewise_std_normalization=True)\n",
    "\n",
    "\n",
    "# target_size = (height, width)\n",
    "target_size = (225, 300)\n",
    "\n",
    "\n",
    "train_generator = train_datagen.flow_from_directory(\n",
    "        train_dir,\n",
    "        target_size = target_size,       \n",
    "        class_mode = 'categorical',\n",
    "        shuffle = True)\n",
    "\n",
    "validation_generator = train_datagen.flow_from_directory(\n",
    "        validation_dir,\n",
    "        target_size = target_size,        \n",
    "        class_mode = 'categorical',\n",
    "        shuffle = True)"
   ]
  },
  {
   "cell_type": "code",
   "execution_count": 7,
   "metadata": {},
   "outputs": [],
   "source": [
    "## Intilizing variables\n",
    "output_classes = 7\n",
    "\n",
    "batch_size = 32 \n",
    "epochs = 50\n",
    "droput_rate= 0.5\n",
    "\n",
    "\n",
    "adam_opt = Adam(lr=1e-5, beta_1=0.9, beta_2=0.999, epsilon=1e-08, decay=1e-5)\n",
    "\n",
    "xception_weights = 'pretrained-models/xception_weights_tf_dim_ordering_tf_kernels_notop.h5'"
   ]
  },
  {
   "cell_type": "code",
   "execution_count": 8,
   "metadata": {},
   "outputs": [],
   "source": [
    "model = Sequential()\n",
    "\n",
    "model.add(Xception(weights = xception_weights , include_top=False,pooling = 'avg'))\n",
    "model.add(Dropout(rate=droput_rate))\n",
    "model.add(Dense(units=output_classes, activation='softmax'))\n",
    "\n",
    "model.layers[0].trainable = True\n",
    "\n",
    "model.compile(loss='categorical_crossentropy',\n",
    "              optimizer=adam_opt,\n",
    "              metrics=['accuracy'])"
   ]
  },
  {
   "cell_type": "code",
   "execution_count": 9,
   "metadata": {},
   "outputs": [
    {
     "name": "stdout",
     "output_type": "stream",
     "text": [
      "Epoch 1/50\n"
     ]
    },
    {
     "name": "stderr",
     "output_type": "stream",
     "text": [
      "c:\\users\\reza-lab\\appdata\\local\\programs\\python\\python35\\lib\\site-packages\\keras_preprocessing\\image.py:1131: UserWarning: This ImageDataGenerator specifies `featurewise_center`, but it hasn't been fit on any training data. Fit it first by calling `.fit(numpy_data)`.\n",
      "  warnings.warn('This ImageDataGenerator specifies '\n",
      "c:\\users\\reza-lab\\appdata\\local\\programs\\python\\python35\\lib\\site-packages\\keras_preprocessing\\image.py:1139: UserWarning: This ImageDataGenerator specifies `featurewise_std_normalization`, but it hasn't been fit on any training data. Fit it first by calling `.fit(numpy_data)`.\n",
      "  warnings.warn('This ImageDataGenerator specifies '\n"
     ]
    },
    {
     "name": "stdout",
     "output_type": "stream",
     "text": [
      "2000/2000 [==============================] - 1236s 618ms/step - loss: 0.7346 - acc: 0.7465 - val_loss: 0.4350 - val_acc: 0.8432\n",
      "Epoch 2/50\n",
      "2000/2000 [==============================] - 1214s 607ms/step - loss: 0.2845 - acc: 0.9039 - val_loss: 0.2307 - val_acc: 0.9233\n",
      "Epoch 3/50\n",
      "2000/2000 [==============================] - 1216s 608ms/step - loss: 0.1025 - acc: 0.9710 - val_loss: 0.1668 - val_acc: 0.9462\n",
      "Epoch 4/50\n",
      "2000/2000 [==============================] - 1216s 608ms/step - loss: 0.0370 - acc: 0.9918 - val_loss: 0.1523 - val_acc: 0.9549\n",
      "Epoch 5/50\n",
      "2000/2000 [==============================] - 1216s 608ms/step - loss: 0.0187 - acc: 0.9961 - val_loss: 0.1553 - val_acc: 0.9559\n",
      "Epoch 6/50\n",
      "2000/2000 [==============================] - 1214s 607ms/step - loss: 0.0100 - acc: 0.9982 - val_loss: 0.1570 - val_acc: 0.9558\n",
      "Epoch 7/50\n",
      "2000/2000 [==============================] - 1214s 607ms/step - loss: 0.0071 - acc: 0.9986 - val_loss: 0.1577 - val_acc: 0.9579\n",
      "Epoch 8/50\n",
      "2000/2000 [==============================] - 1214s 607ms/step - loss: 0.0049 - acc: 0.9990 - val_loss: 0.1574 - val_acc: 0.9588\n",
      "Epoch 9/50\n",
      "2000/2000 [==============================] - 1214s 607ms/step - loss: 0.0036 - acc: 0.9993 - val_loss: 0.1556 - val_acc: 0.9582\n",
      "Epoch 10/50\n",
      "2000/2000 [==============================] - 1213s 607ms/step - loss: 0.0031 - acc: 0.9994 - val_loss: 0.1730 - val_acc: 0.9574\n",
      "Epoch 11/50\n",
      "2000/2000 [==============================] - 1213s 606ms/step - loss: 0.0026 - acc: 0.9994 - val_loss: 0.1927 - val_acc: 0.9604\n",
      "Epoch 12/50\n",
      "2000/2000 [==============================] - 1215s 607ms/step - loss: 0.0027 - acc: 0.9994 - val_loss: 0.1750 - val_acc: 0.9612\n",
      "Epoch 13/50\n",
      "2000/2000 [==============================] - 1213s 607ms/step - loss: 0.0019 - acc: 0.9996 - val_loss: 0.1744 - val_acc: 0.9623\n",
      "Epoch 14/50\n",
      "2000/2000 [==============================] - 1213s 607ms/step - loss: 0.0019 - acc: 0.9996 - val_loss: 0.1766 - val_acc: 0.9608\n",
      "Epoch 15/50\n",
      "2000/2000 [==============================] - 1214s 607ms/step - loss: 0.0015 - acc: 0.9996 - val_loss: 0.1633 - val_acc: 0.9641\n",
      "Epoch 16/50\n",
      "2000/2000 [==============================] - 1213s 607ms/step - loss: 0.0015 - acc: 0.9998 - val_loss: 0.1743 - val_acc: 0.9635\n",
      "Epoch 17/50\n",
      "2000/2000 [==============================] - 1212s 606ms/step - loss: 0.0014 - acc: 0.9996 - val_loss: 0.1698 - val_acc: 0.9646\n",
      "Epoch 18/50\n",
      "2000/2000 [==============================] - 1212s 606ms/step - loss: 0.0012 - acc: 0.9997 - val_loss: 0.1794 - val_acc: 0.9619\n",
      "Epoch 19/50\n",
      "2000/2000 [==============================] - 1213s 607ms/step - loss: 0.0011 - acc: 0.9998 - val_loss: 0.1735 - val_acc: 0.9653\n",
      "Epoch 20/50\n",
      "2000/2000 [==============================] - 1214s 607ms/step - loss: 0.0014 - acc: 0.9996 - val_loss: 0.1641 - val_acc: 0.9645\n",
      "Epoch 21/50\n",
      "2000/2000 [==============================] - 1213s 607ms/step - loss: 0.0012 - acc: 0.9997 - val_loss: 0.1580 - val_acc: 0.9658\n",
      "Epoch 22/50\n",
      "2000/2000 [==============================] - 1213s 606ms/step - loss: 9.7448e-04 - acc: 0.9998 - val_loss: 0.1702 - val_acc: 0.9642\n",
      "Epoch 23/50\n",
      "2000/2000 [==============================] - 1214s 607ms/step - loss: 8.3793e-04 - acc: 0.9998 - val_loss: 0.1754 - val_acc: 0.9640\n",
      "Epoch 24/50\n",
      "2000/2000 [==============================] - 1215s 607ms/step - loss: 8.9842e-04 - acc: 0.9998 - val_loss: 0.1809 - val_acc: 0.9646\n",
      "Epoch 25/50\n",
      "2000/2000 [==============================] - 1213s 606ms/step - loss: 7.6527e-04 - acc: 0.9999 - val_loss: 0.1745 - val_acc: 0.9669\n",
      "Epoch 26/50\n",
      "2000/2000 [==============================] - 1213s 607ms/step - loss: 7.7823e-04 - acc: 0.9998 - val_loss: 0.1819 - val_acc: 0.9643\n",
      "Epoch 27/50\n",
      "2000/2000 [==============================] - 1214s 607ms/step - loss: 5.8769e-04 - acc: 0.9998 - val_loss: 0.1927 - val_acc: 0.9644\n",
      "Epoch 28/50\n",
      "2000/2000 [==============================] - 1214s 607ms/step - loss: 5.8354e-04 - acc: 0.9999 - val_loss: 0.1848 - val_acc: 0.9648\n",
      "Epoch 29/50\n",
      "2000/2000 [==============================] - 1215s 607ms/step - loss: 5.4829e-04 - acc: 0.9998 - val_loss: 0.1892 - val_acc: 0.9657\n",
      "Epoch 30/50\n",
      "2000/2000 [==============================] - 1214s 607ms/step - loss: 5.4422e-04 - acc: 0.9999 - val_loss: 0.1792 - val_acc: 0.9641\n",
      "Epoch 31/50\n",
      "2000/2000 [==============================] - 1214s 607ms/step - loss: 8.6250e-04 - acc: 0.9997 - val_loss: 0.1762 - val_acc: 0.9646\n",
      "Epoch 32/50\n",
      "2000/2000 [==============================] - 1214s 607ms/step - loss: 5.6578e-04 - acc: 0.9998 - val_loss: 0.1795 - val_acc: 0.9653\n",
      "Epoch 33/50\n",
      "2000/2000 [==============================] - 1214s 607ms/step - loss: 4.9769e-04 - acc: 0.9999 - val_loss: 0.1773 - val_acc: 0.9657\n",
      "Epoch 34/50\n",
      "2000/2000 [==============================] - 1214s 607ms/step - loss: 5.5604e-04 - acc: 0.9998 - val_loss: 0.1744 - val_acc: 0.9657\n",
      "Epoch 35/50\n",
      "2000/2000 [==============================] - 1214s 607ms/step - loss: 5.9757e-04 - acc: 0.9998 - val_loss: 0.1717 - val_acc: 0.9670\n",
      "Epoch 36/50\n",
      "2000/2000 [==============================] - 1215s 607ms/step - loss: 4.9068e-04 - acc: 0.9999 - val_loss: 0.1672 - val_acc: 0.9663\n",
      "Epoch 37/50\n",
      "2000/2000 [==============================] - 1214s 607ms/step - loss: 2.6912e-04 - acc: 1.0000 - val_loss: 0.1741 - val_acc: 0.9646\n",
      "Epoch 38/50\n",
      "2000/2000 [==============================] - 1214s 607ms/step - loss: 3.6703e-04 - acc: 0.9999 - val_loss: 0.1712 - val_acc: 0.9677\n",
      "Epoch 39/50\n",
      "2000/2000 [==============================] - 1214s 607ms/step - loss: 2.3085e-04 - acc: 1.0000 - val_loss: 0.1713 - val_acc: 0.9670\n",
      "Epoch 40/50\n",
      "2000/2000 [==============================] - 1214s 607ms/step - loss: 3.1263e-04 - acc: 1.0000 - val_loss: 0.1706 - val_acc: 0.9673\n",
      "Epoch 41/50\n",
      "2000/2000 [==============================] - 1214s 607ms/step - loss: 2.9770e-04 - acc: 0.9999 - val_loss: 0.1813 - val_acc: 0.9673\n",
      "Epoch 42/50\n",
      "2000/2000 [==============================] - 1214s 607ms/step - loss: 2.5134e-04 - acc: 1.0000 - val_loss: 0.1832 - val_acc: 0.9655\n",
      "Epoch 43/50\n",
      "2000/2000 [==============================] - 1213s 607ms/step - loss: 2.5987e-04 - acc: 0.9999 - val_loss: 0.1964 - val_acc: 0.9671\n",
      "Epoch 44/50\n",
      "2000/2000 [==============================] - 1211s 606ms/step - loss: 4.5397e-04 - acc: 0.9999 - val_loss: 0.1780 - val_acc: 0.9683\n",
      "Epoch 45/50\n",
      "2000/2000 [==============================] - 1211s 606ms/step - loss: 2.3055e-04 - acc: 0.9999 - val_loss: 0.1712 - val_acc: 0.9690\n",
      "Epoch 46/50\n",
      "2000/2000 [==============================] - 1213s 606ms/step - loss: 2.6234e-04 - acc: 0.9999 - val_loss: 0.1587 - val_acc: 0.9683\n",
      "Epoch 47/50\n",
      "2000/2000 [==============================] - 1214s 607ms/step - loss: 2.4137e-04 - acc: 1.0000 - val_loss: 0.1644 - val_acc: 0.9681\n",
      "Epoch 48/50\n",
      "2000/2000 [==============================] - 1214s 607ms/step - loss: 1.6002e-04 - acc: 1.0000 - val_loss: 0.1671 - val_acc: 0.9690\n",
      "Epoch 49/50\n",
      "2000/2000 [==============================] - 1214s 607ms/step - loss: 2.9088e-04 - acc: 0.9999 - val_loss: 0.1686 - val_acc: 0.9694\n",
      "Epoch 50/50\n",
      "2000/2000 [==============================] - 1214s 607ms/step - loss: 2.5788e-04 - acc: 1.0000 - val_loss: 0.1849 - val_acc: 0.9663\n"
     ]
    }
   ],
   "source": [
    "history = model.fit_generator(train_generator,\n",
    "    steps_per_epoch=2000,\n",
    "    epochs = epochs,\n",
    "    validation_data = validation_generator,\n",
    "    validation_steps=1000)"
   ]
  },
  {
   "cell_type": "code",
   "execution_count": 11,
   "metadata": {},
   "outputs": [
    {
     "name": "stdout",
     "output_type": "stream",
     "text": [
      "Test Score:  0.22207001045278957\n",
      "Test Accuracy:  0.960625\n"
     ]
    }
   ],
   "source": [
    "score = model.evaluate_generator(validation_generator, steps=50)\n",
    "\n",
    "print ('Test Score: ', score[0])\n",
    "print ('Test Accuracy: ',score[1])"
   ]
  },
  {
   "cell_type": "code",
   "execution_count": 12,
   "metadata": {},
   "outputs": [
    {
     "data": {
      "image/png": "[encoded data removed]",
      "text/plain": [
       "<Figure size 432x288 with 1 Axes>"
      ]
     },
     "metadata": {
      "needs_background": "light"
     },
     "output_type": "display_data"
    },
    {
     "data": {
      "image/png": "[encoded data removed]",
      "text/plain": [
       "<Figure size 432x288 with 1 Axes>"
      ]
     },
     "metadata": {
      "needs_background": "light"
     },
     "output_type": "display_data"
    }
   ],
   "source": [
    "import matplotlib.pyplot as plt\n",
    "\n",
    "plt.plot(history.history['acc'])\n",
    "plt.plot(history.history['val_acc'])\n",
    "plt.title('model accuracy')\n",
    "plt.ylabel('accuracy')\n",
    "plt.xlabel('epoch')\n",
    "plt.legend(['train', 'test'], loc='upper left')\n",
    "plt.show()\n",
    "# summarize history for loss\n",
    "plt.plot(history.history['loss'])\n",
    "plt.plot(history.history['val_loss'])\n",
    "plt.title('model loss')\n",
    "plt.ylabel('loss')\n",
    "plt.xlabel('epoch')\n",
    "plt.legend(['train', 'test'], loc='upper left')\n",
    "plt.show()"
   ]
  },
  {
   "cell_type": "code",
   "execution_count": 13,
   "metadata": {},
   "outputs": [],
   "source": [
    "filename = validation_generator.filenames\n",
    "truth = validation_generator.classes\n",
    "label = validation_generator.class_indices\n",
    "indexlabel = dict((value, key) for key, value in label.items())"
   ]
  },
  {
   "cell_type": "code",
   "execution_count": 14,
   "metadata": {},
   "outputs": [
    {
     "name": "stdout",
     "output_type": "stream",
     "text": [
      "317/317 [==============================] - 38s 119ms/step\n",
      "No of errors = 5278/10144\n"
     ]
    }
   ],
   "source": [
    "predicts = model.predict_generator(validation_generator, steps=validation_generator.samples/validation_generator.batch_size, verbose=1)\n",
    "predict_class = np.argmax(predicts, axis=1)\n",
    "errors = np.where(predict_class != truth)[0]\n",
    "print(\"No of errors = {}/{}\".format(len(errors),validation_generator.samples))"
   ]
  },
  {
   "cell_type": "code",
   "execution_count": null,
   "metadata": {},
   "outputs": [],
   "source": []
  },
  {
   "cell_type": "code",
   "execution_count": 15,
   "metadata": {},
   "outputs": [
    {
     "name": "stdout",
     "output_type": "stream",
     "text": [
      "Confusion matrix\n",
      "[[   9   26   42    1   33  230    3]\n",
      " [  19   33   51    5   46  358    7]\n",
      " [  37   68  109    8  113  778    8]\n",
      " [   6    7   15    1   12   72    1]\n",
      " [  35   55  107   12  127  788   20]\n",
      " [ 211  338  730   75  735 4583   98]\n",
      " [   7    7   12    2   15   85    4]]\n"
     ]
    },
    {
     "data": {
      "image/png": "[encoded data removed]",
      "text/plain": [
       "<Figure size 720x720 with 2 Axes>"
      ]
     },
     "metadata": {
      "needs_background": "light"
     },
     "output_type": "display_data"
    }
   ],
   "source": [
    "from sklearn.metrics import confusion_matrix\n",
    "cm = confusion_matrix(truth,predict_class)\n",
    "\n",
    "labels = []\n",
    "for k,v in indexlabel.items():\n",
    "    labels.append(v)\n",
    "    \n",
    "import itertools\n",
    "def plot_confusion_matrix(cm, classes,\n",
    "                          normalize=False,\n",
    "                          title='Confusion matrix',\n",
    "                          cmap=plt.cm.Blues):\n",
    "\n",
    "    if normalize:\n",
    "        cm = cm.astype('float') / cm.sum(axis=1)[:, np.newaxis]\n",
    "        print(\"Normalized confusion matrix\")\n",
    "    else:\n",
    "        print('Confusion matrix')\n",
    "\n",
    "    print(cm)\n",
    "\n",
    "    plt.imshow(cm, interpolation='nearest', cmap=cmap)\n",
    "    plt.title(title)\n",
    "    plt.colorbar()\n",
    "    tick_marks = np.arange(len(classes))\n",
    "    plt.xticks(tick_marks, classes, rotation=45)\n",
    "    plt.yticks(tick_marks, classes)\n",
    "\n",
    "    fmt = '.2f' if normalize else 'd'\n",
    "    thresh = cm.max() / 2.\n",
    "    for i, j in itertools.product(range(cm.shape[0]), range(cm.shape[1])):\n",
    "        plt.text(j, i, format(cm[i, j], fmt),\n",
    "                 horizontalalignment=\"center\",\n",
    "                 color=\"white\" if cm[i, j] > thresh else \"black\")\n",
    "\n",
    "    plt.tight_layout()\n",
    "    plt.ylabel('True label')\n",
    "    plt.xlabel('Predicted label')\n",
    "    \n",
    "\n",
    "plt.figure(figsize=(10,10))\n",
    "plot_confusion_matrix(cm, classes=labels,\n",
    "                      title='Confusion matrix')"
   ]
  },
  {
   "cell_type": "code",
   "execution_count": 16,
   "metadata": {},
   "outputs": [],
   "source": [
    "from sklearn.metrics import accuracy_score, roc_auc_score, classification_report\n",
    "\n",
    "#and reports metrics with classification_report method\n",
    "def predict_and_report(gen, model):\n",
    "    y_true = []\n",
    "    y_pred = []\n",
    "    gen.reset()\n",
    "    for img, label in gen:\n",
    "        #get true labels for batch and store them\n",
    "        y_true.extend([int(z[1]) for z in label])\n",
    "        #Get predictions as probabilities\n",
    "        batch_pred = model.predict_on_batch(img)\n",
    "        #turn probabilities to class labels and store\n",
    "        batch_pred = np.argmax(batch_pred, axis=1)\n",
    "        y_pred.extend(batch_pred)\n",
    "        #break loop\n",
    "        if gen.batch_index == 0:\n",
    "            break\n",
    "            \n",
    "    print('Accuracy:', accuracy_score(y_true, y_pred))\n",
    "    print('Area Under the Receiver Operating Characteristic Curve:', roc_auc_score(y_true, y_pred)) #Area under the curve\n",
    "    print(classification_report(y_true, y_pred))"
   ]
  },
  {
   "cell_type": "code",
   "execution_count": 17,
   "metadata": {},
   "outputs": [
    {
     "name": "stderr",
     "output_type": "stream",
     "text": [
      "c:\\users\\reza-lab\\appdata\\local\\programs\\python\\python35\\lib\\site-packages\\keras_preprocessing\\image.py:1131: UserWarning: This ImageDataGenerator specifies `featurewise_center`, but it hasn't been fit on any training data. Fit it first by calling `.fit(numpy_data)`.\n",
      "  warnings.warn('This ImageDataGenerator specifies '\n",
      "c:\\users\\reza-lab\\appdata\\local\\programs\\python\\python35\\lib\\site-packages\\keras_preprocessing\\image.py:1139: UserWarning: This ImageDataGenerator specifies `featurewise_std_normalization`, but it hasn't been fit on any training data. Fit it first by calling `.fit(numpy_data)`.\n",
      "  warnings.warn('This ImageDataGenerator specifies '\n"
     ]
    },
    {
     "name": "stdout",
     "output_type": "stream",
     "text": [
      "Accuracy: 0.08360074876320364\n",
      "Area Under the Receiver Operating Characteristic Curve: 0.033968779731491594\n",
      "              precision    recall  f1-score   support\n",
      "\n",
      "           0       1.00      0.03      0.07     28379\n",
      "           1       1.00      1.00      1.00      1537\n",
      "           2       0.00      0.00      0.00         0\n",
      "           3       0.00      0.00      0.00         0\n",
      "           4       0.00      0.00      0.00         0\n",
      "           5       0.00      0.00      0.00         0\n",
      "           6       0.00      0.00      0.00         0\n",
      "\n",
      "   micro avg       0.08      0.08      0.08     29916\n",
      "   macro avg       0.29      0.15      0.15     29916\n",
      "weighted avg       1.00      0.08      0.11     29916\n",
      "\n"
     ]
    },
    {
     "name": "stderr",
     "output_type": "stream",
     "text": [
      "c:\\users\\reza-lab\\appdata\\local\\programs\\python\\python35\\lib\\site-packages\\sklearn\\metrics\\classification.py:1145: UndefinedMetricWarning: Recall and F-score are ill-defined and being set to 0.0 in labels with no true samples.\n",
      "  'recall', 'true', average, warn_for)\n"
     ]
    }
   ],
   "source": [
    "predict_and_report(train_generator, model)"
   ]
  },
  {
   "cell_type": "code",
   "execution_count": 18,
   "metadata": {},
   "outputs": [
    {
     "name": "stdout",
     "output_type": "stream",
     "text": [
      "Accuracy: 0.07916009463722397\n",
      "Area Under the Receiver Operating Characteristic Curve: 0.05809503791006683\n",
      "              precision    recall  f1-score   support\n",
      "\n",
      "           0       0.99      0.03      0.06      9625\n",
      "           1       0.95      0.93      0.94       519\n",
      "           2       0.00      0.00      0.00         0\n",
      "           3       0.00      0.00      0.00         0\n",
      "           4       0.00      0.00      0.00         0\n",
      "           5       0.00      0.00      0.00         0\n",
      "           6       0.00      0.00      0.00         0\n",
      "\n",
      "   micro avg       0.08      0.08      0.08     10144\n",
      "   macro avg       0.28      0.14      0.14     10144\n",
      "weighted avg       0.99      0.08      0.11     10144\n",
      "\n"
     ]
    }
   ],
   "source": [
    "predict_and_report(validation_generator, model)"
   ]
  },
  {
   "cell_type": "code",
   "execution_count": 19,
   "metadata": {},
   "outputs": [],
   "source": [
    "model.save('models/2.Xception-Adam-without-Dropout-Model.h5')\n",
    "model.save_weights('models/2.Xception-Adam-without-Dropout-Weights.h5')"
   ]
  },
  {
   "cell_type": "code",
   "execution_count": null,
   "metadata": {},
   "outputs": [],
   "source": []
  },
  {
   "cell_type": "code",
   "execution_count": null,
   "metadata": {},
   "outputs": [],
   "source": []
  }
 ],
 "metadata": {
  "anaconda-cloud": {},
  "kernelspec": {
   "display_name": "Python 3",
   "language": "python",
   "name": "python3"
  },
  "language_info": {
   "codemirror_mode": {
    "name": "ipython",
    "version": 3
   },
   "file_extension": ".py",
   "mimetype": "text/x-python",
   "name": "python",
   "nbconvert_exporter": "python",
   "pygments_lexer": "ipython3",
   "version": "3.5.2"
  }
 },
 "nbformat": 4,
 "nbformat_minor": 2
}
