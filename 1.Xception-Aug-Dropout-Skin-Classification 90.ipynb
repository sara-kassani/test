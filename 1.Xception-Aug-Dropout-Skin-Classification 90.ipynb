{
 "cells": [
  {
   "cell_type": "code",
   "execution_count": 1,
   "metadata": {},
   "outputs": [],
   "source": [
    "import warnings\n",
    "warnings.filterwarnings('always')\n",
    "warnings.filterwarnings('ignore')"
   ]
  },
  {
   "cell_type": "code",
   "execution_count": 2,
   "metadata": {},
   "outputs": [
    {
     "name": "stdout",
     "output_type": "stream",
     "text": [
      "\n"
     ]
    }
   ],
   "source": [
    "import tensorflow as tf\n",
    "print(tf.test.gpu_device_name())\n",
    "# See https://www.tensorflow.org/tutorials/using_gpu#allowing_gpu_memory_growth\n",
    "config = tf.ConfigProto()\n",
    "config.gpu_options.allow_growth = True"
   ]
  },
  {
   "cell_type": "code",
   "execution_count": 3,
   "metadata": {
    "scrolled": true
   },
   "outputs": [
    {
     "name": "stderr",
     "output_type": "stream",
     "text": [
      "Using TensorFlow backend.\n"
     ]
    }
   ],
   "source": [
    "import os\n",
    "import pandas as pd\n",
    "\n",
    "import numpy as np\n",
    "from glob import glob\n",
    "import cv2\n",
    "import skimage\n",
    "from skimage.transform import resize\n",
    "\n",
    "from keras import layers\n",
    "from keras import models\n",
    "from keras import optimizers\n",
    "from keras.models import load_model\n",
    "import keras.callbacks as kcall\n",
    "from keras.optimizers import Adam\n",
    "from keras.models import Model\n",
    "from keras.models import Sequential\n",
    "from keras.layers import Flatten, Dense, Activation, Dropout, Conv2D, MaxPooling2D, BatchNormalization\n",
    "from keras.applications.xception import Xception, preprocess_input\n",
    "from keras.preprocessing.image import ImageDataGenerator\n",
    "from keras.callbacks import ModelCheckpoint\n",
    "import matplotlib.pyplot as plt\n",
    "\n",
    "%matplotlib inline"
   ]
  },
  {
   "cell_type": "code",
   "execution_count": 4,
   "metadata": {},
   "outputs": [],
   "source": [
    "train_dir = 'data/train'\n",
    "validation_dir = 'data/validation'"
   ]
  },
  {
   "cell_type": "code",
   "execution_count": 5,
   "metadata": {},
   "outputs": [
    {
     "name": "stdout",
     "output_type": "stream",
     "text": [
      "data/train 0\n",
      "data/train/MEL 3308\n",
      "data/train/DF 4152\n",
      "data/train/BKL 3275\n",
      "data/train/BCC 4773\n",
      "data/train/VASC 3488\n",
      "data/train/AKIEC 3856\n",
      "data/train/NV 4975\n"
     ]
    }
   ],
   "source": [
    "for root,dirs,files in os.walk(train_dir):\n",
    "    print (root, len(files))"
   ]
  },
  {
   "cell_type": "code",
   "execution_count": 6,
   "metadata": {},
   "outputs": [
    {
     "name": "stdout",
     "output_type": "stream",
     "text": [
      "data/validation 0\n",
      "data/validation\\AKIEC 1552\n",
      "data/validation\\BCC 1692\n",
      "data/validation\\BKL 1479\n",
      "data/validation\\DF 1632\n",
      "data/validation\\MEL 1664\n",
      "data/validation\\NV 1730\n",
      "data/validation\\VASC 1484\n"
     ]
    }
   ],
   "source": [
    "for root,dirs,files in os.walk(validation_dir):\n",
    "    print (root, len(files))"
   ]
  },
  {
   "cell_type": "code",
   "execution_count": 7,
   "metadata": {},
   "outputs": [
    {
     "name": "stdout",
     "output_type": "stream",
     "text": [
      "Found 27827 images belonging to 7 classes.\n",
      "Found 11233 images belonging to 7 classes.\n"
     ]
    }
   ],
   "source": [
    "from keras.preprocessing.image import ImageDataGenerator\n",
    "\n",
    "batch_size = 32 \n",
    "\n",
    "# this is the augmentation configuration we will use for training\n",
    "train_datagen = ImageDataGenerator(\n",
    "    rescale=1. / 255,\n",
    "    featurewise_center=True,\n",
    "    featurewise_std_normalization=True)\n",
    "\n",
    "\n",
    "# target_size = (height, width)\n",
    "target_size = (225, 300)\n",
    "\n",
    "\n",
    "train_generator = train_datagen.flow_from_directory(\n",
    "        train_dir,\n",
    "        target_size = target_size,       \n",
    "        class_mode = 'categorical',\n",
    "        shuffle = False)\n",
    "\n",
    "validation_generator = train_datagen.flow_from_directory(\n",
    "        validation_dir,\n",
    "        target_size = target_size,        \n",
    "        class_mode = 'categorical',\n",
    "        shuffle = False)"
   ]
  },
  {
   "cell_type": "code",
   "execution_count": 8,
   "metadata": {},
   "outputs": [],
   "source": [
    "## Intilizing variables\n",
    "output_classes = 7\n",
    "\n",
    "epochs = 50\n",
    "droput_rate= 0.5\n",
    "adam_opt = Adam(lr=1e-5, beta_1=0.9, beta_2=0.999, epsilon=1e-08, decay=1e-5)\n",
    "\n",
    "xception_weights = 'pretrained-models/xception_weights_tf_dim_ordering_tf_kernels_notop.h5'"
   ]
  },
  {
   "cell_type": "code",
   "execution_count": 8,
   "metadata": {},
   "outputs": [],
   "source": [
    "model = Sequential()\n",
    "\n",
    "model.add(Xception(weights = xception_weights , include_top=False,pooling = 'avg'))\n",
    "model.add(Dropout(rate=droput_rate))\n",
    "model.add(Dense(units=output_classes, activation='softmax'))\n",
    "\n",
    "model.layers[0].trainable = True\n",
    "\n",
    "model.compile(loss='categorical_crossentropy',\n",
    "              optimizer=adam_opt,\n",
    "              metrics=['accuracy'])"
   ]
  },
  {
   "cell_type": "code",
   "execution_count": 9,
   "metadata": {},
   "outputs": [
    {
     "name": "stdout",
     "output_type": "stream",
     "text": [
      "Epoch 1/50\n"
     ]
    },
    {
     "name": "stderr",
     "output_type": "stream",
     "text": [
      "c:\\users\\reza-lab\\appdata\\local\\programs\\python\\python35\\lib\\site-packages\\keras_preprocessing\\image.py:1131: UserWarning: This ImageDataGenerator specifies `featurewise_center`, but it hasn't been fit on any training data. Fit it first by calling `.fit(numpy_data)`.\n",
      "  warnings.warn('This ImageDataGenerator specifies '\n",
      "c:\\users\\reza-lab\\appdata\\local\\programs\\python\\python35\\lib\\site-packages\\keras_preprocessing\\image.py:1139: UserWarning: This ImageDataGenerator specifies `featurewise_std_normalization`, but it hasn't been fit on any training data. Fit it first by calling `.fit(numpy_data)`.\n",
      "  warnings.warn('This ImageDataGenerator specifies '\n"
     ]
    },
    {
     "name": "stdout",
     "output_type": "stream",
     "text": [
      "2048/2048 [==============================] - 1247s 609ms/step - loss: 0.8035 - acc: 0.7252 - val_loss: 0.4866 - val_acc: 0.8336\n",
      "Epoch 2/50\n",
      "2048/2048 [==============================] - 1226s 599ms/step - loss: 0.1786 - acc: 0.9446 - val_loss: 0.3417 - val_acc: 0.8766\n",
      "Epoch 3/50\n",
      "2048/2048 [==============================] - 1228s 599ms/step - loss: 0.0551 - acc: 0.9854 - val_loss: 0.3219 - val_acc: 0.8852\n",
      "Epoch 4/50\n",
      "2048/2048 [==============================] - 1228s 599ms/step - loss: 0.0193 - acc: 0.9959 - val_loss: 0.3270 - val_acc: 0.8854\n",
      "Epoch 5/50\n",
      "2048/2048 [==============================] - 1226s 598ms/step - loss: 0.0095 - acc: 0.9982 - val_loss: 0.3290 - val_acc: 0.8895\n",
      "Epoch 6/50\n",
      "2048/2048 [==============================] - 1225s 598ms/step - loss: 0.0062 - acc: 0.9987 - val_loss: 0.3657 - val_acc: 0.8895\n",
      "Epoch 7/50\n",
      "2048/2048 [==============================] - 1228s 600ms/step - loss: 0.0041 - acc: 0.9992 - val_loss: 0.3651 - val_acc: 0.8914\n",
      "Epoch 8/50\n",
      "2048/2048 [==============================] - 1225s 598ms/step - loss: 0.0035 - acc: 0.9992 - val_loss: 0.3534 - val_acc: 0.8936\n",
      "Epoch 9/50\n",
      "2048/2048 [==============================] - 1225s 598ms/step - loss: 0.0026 - acc: 0.9995 - val_loss: 0.3721 - val_acc: 0.8959\n",
      "Epoch 10/50\n",
      "2048/2048 [==============================] - 1226s 599ms/step - loss: 0.0030 - acc: 0.9993 - val_loss: 0.3743 - val_acc: 0.8949\n",
      "Epoch 11/50\n",
      "2048/2048 [==============================] - 1227s 599ms/step - loss: 0.0022 - acc: 0.9995 - val_loss: 0.3675 - val_acc: 0.8950\n",
      "Epoch 12/50\n",
      "2048/2048 [==============================] - 1221s 596ms/step - loss: 0.0019 - acc: 0.9996 - val_loss: 0.3670 - val_acc: 0.8951\n",
      "Epoch 13/50\n",
      "2048/2048 [==============================] - 1226s 598ms/step - loss: 0.0015 - acc: 0.9996 - val_loss: 0.4048 - val_acc: 0.8939\n",
      "Epoch 14/50\n",
      "2048/2048 [==============================] - 1225s 598ms/step - loss: 0.0013 - acc: 0.9997 - val_loss: 0.4099 - val_acc: 0.8959\n",
      "Epoch 15/50\n",
      "2048/2048 [==============================] - 1226s 599ms/step - loss: 0.0014 - acc: 0.9997 - val_loss: 0.3606 - val_acc: 0.9020\n",
      "Epoch 16/50\n",
      "2048/2048 [==============================] - 1227s 599ms/step - loss: 9.1259e-04 - acc: 0.9999 - val_loss: 0.4170 - val_acc: 0.8957\n",
      "Epoch 17/50\n",
      "2048/2048 [==============================] - 1226s 599ms/step - loss: 0.0013 - acc: 0.9997 - val_loss: 0.3708 - val_acc: 0.9030\n",
      "Epoch 18/50\n",
      "2048/2048 [==============================] - 1226s 599ms/step - loss: 9.6064e-04 - acc: 0.9998 - val_loss: 0.4093 - val_acc: 0.8975\n",
      "Epoch 19/50\n",
      "2048/2048 [==============================] - 1226s 598ms/step - loss: 8.2657e-04 - acc: 0.9998 - val_loss: 0.4126 - val_acc: 0.9000\n",
      "Epoch 20/50\n",
      "2048/2048 [==============================] - 1224s 598ms/step - loss: 9.6112e-04 - acc: 0.9997 - val_loss: 0.4334 - val_acc: 0.8970\n",
      "Epoch 21/50\n",
      "2048/2048 [==============================] - 1226s 599ms/step - loss: 4.7200e-04 - acc: 0.9999 - val_loss: 0.4293 - val_acc: 0.9003\n",
      "Epoch 22/50\n",
      "2048/2048 [==============================] - 1226s 599ms/step - loss: 6.9862e-04 - acc: 0.9998 - val_loss: 0.4503 - val_acc: 0.8977\n",
      "Epoch 23/50\n",
      "2048/2048 [==============================] - 1226s 599ms/step - loss: 8.2017e-04 - acc: 0.9998 - val_loss: 0.4494 - val_acc: 0.9015\n",
      "Epoch 24/50\n",
      "2048/2048 [==============================] - 1227s 599ms/step - loss: 6.8280e-04 - acc: 0.9998 - val_loss: 0.4125 - val_acc: 0.9062\n",
      "Epoch 25/50\n",
      "2048/2048 [==============================] - 1225s 598ms/step - loss: 5.0898e-04 - acc: 0.9999 - val_loss: 0.4265 - val_acc: 0.9009\n",
      "Epoch 26/50\n",
      "2048/2048 [==============================] - 1224s 598ms/step - loss: 6.1137e-04 - acc: 0.9998 - val_loss: 0.4274 - val_acc: 0.9050\n",
      "Epoch 27/50\n",
      "2048/2048 [==============================] - 1225s 598ms/step - loss: 6.3450e-04 - acc: 0.9999 - val_loss: 0.4364 - val_acc: 0.9046\n",
      "Epoch 28/50\n",
      "2048/2048 [==============================] - 1225s 598ms/step - loss: 3.9511e-04 - acc: 0.9999 - val_loss: 0.4315 - val_acc: 0.9022\n",
      "Epoch 29/50\n",
      "2048/2048 [==============================] - 1225s 598ms/step - loss: 3.2445e-04 - acc: 0.9999 - val_loss: 0.4567 - val_acc: 0.9015\n",
      "Epoch 30/50\n",
      "2048/2048 [==============================] - 1225s 598ms/step - loss: 3.1365e-04 - acc: 1.0000 - val_loss: 0.4381 - val_acc: 0.9062\n",
      "Epoch 31/50\n",
      "2048/2048 [==============================] - 1224s 598ms/step - loss: 4.6822e-04 - acc: 0.9999 - val_loss: 0.4864 - val_acc: 0.9010\n",
      "Epoch 32/50\n",
      "2048/2048 [==============================] - 1224s 598ms/step - loss: 3.6013e-04 - acc: 0.9999 - val_loss: 0.4441 - val_acc: 0.9024\n",
      "Epoch 33/50\n",
      "2048/2048 [==============================] - 1225s 598ms/step - loss: 4.1742e-04 - acc: 0.9999 - val_loss: 0.4609 - val_acc: 0.9028\n",
      "Epoch 34/50\n",
      "2048/2048 [==============================] - 1225s 598ms/step - loss: 2.5017e-04 - acc: 1.0000 - val_loss: 0.4544 - val_acc: 0.9011\n",
      "Epoch 35/50\n",
      "2048/2048 [==============================] - 1225s 598ms/step - loss: 2.4937e-04 - acc: 0.9999 - val_loss: 0.4588 - val_acc: 0.9023\n",
      "Epoch 36/50\n",
      "2048/2048 [==============================] - 1225s 598ms/step - loss: 3.0788e-04 - acc: 0.9999 - val_loss: 0.4495 - val_acc: 0.9089\n",
      "Epoch 37/50\n",
      "2048/2048 [==============================] - 1224s 598ms/step - loss: 1.8652e-04 - acc: 1.0000 - val_loss: 0.4876 - val_acc: 0.9010\n",
      "Epoch 38/50\n",
      "2048/2048 [==============================] - 1224s 598ms/step - loss: 2.3754e-04 - acc: 1.0000 - val_loss: 0.5018 - val_acc: 0.9045\n",
      "Epoch 39/50\n",
      "2048/2048 [==============================] - 1224s 598ms/step - loss: 2.6322e-04 - acc: 0.9999 - val_loss: 0.4161 - val_acc: 0.9092\n",
      "Epoch 40/50\n",
      "2048/2048 [==============================] - 1224s 598ms/step - loss: 2.7408e-04 - acc: 0.9999 - val_loss: 0.4459 - val_acc: 0.9049\n",
      "Epoch 41/50\n",
      "2048/2048 [==============================] - 1225s 598ms/step - loss: 1.6776e-04 - acc: 1.0000 - val_loss: 0.4514 - val_acc: 0.9035\n",
      "Epoch 42/50\n",
      "2048/2048 [==============================] - 1225s 598ms/step - loss: 2.3773e-04 - acc: 0.9999 - val_loss: 0.4646 - val_acc: 0.9077\n",
      "Epoch 43/50\n",
      "2048/2048 [==============================] - 1224s 598ms/step - loss: 3.6003e-04 - acc: 0.9999 - val_loss: 0.4722 - val_acc: 0.9011\n",
      "Epoch 44/50\n",
      "2048/2048 [==============================] - 1225s 598ms/step - loss: 3.2652e-04 - acc: 0.9999 - val_loss: 0.4481 - val_acc: 0.9064\n",
      "Epoch 45/50\n",
      "2048/2048 [==============================] - 1225s 598ms/step - loss: 2.6419e-04 - acc: 0.9999 - val_loss: 0.4383 - val_acc: 0.9037\n",
      "Epoch 46/50\n",
      "2048/2048 [==============================] - 1225s 598ms/step - loss: 2.0193e-04 - acc: 1.0000 - val_loss: 0.4225 - val_acc: 0.9070\n",
      "Epoch 47/50\n",
      "2048/2048 [==============================] - 1225s 598ms/step - loss: 1.6924e-04 - acc: 1.0000 - val_loss: 0.4522 - val_acc: 0.9062\n",
      "Epoch 48/50\n",
      "2048/2048 [==============================] - 1227s 599ms/step - loss: 2.2332e-04 - acc: 0.9999 - val_loss: 0.4733 - val_acc: 0.9034\n",
      "Epoch 49/50\n",
      "2048/2048 [==============================] - 1230s 600ms/step - loss: 1.9915e-04 - acc: 0.9999 - val_loss: 0.4631 - val_acc: 0.9067\n",
      "Epoch 50/50\n",
      "2048/2048 [==============================] - 1225s 598ms/step - loss: 2.2887e-04 - acc: 0.9999 - val_loss: 0.4521 - val_acc: 0.9088\n"
     ]
    }
   ],
   "source": [
    "history = model.fit_generator(train_generator,\n",
    "    steps_per_epoch=2048,\n",
    "    epochs = epochs,\n",
    "    validation_data = validation_generator,\n",
    "    validation_steps=1024)"
   ]
  },
  {
   "cell_type": "code",
   "execution_count": 10,
   "metadata": {},
   "outputs": [
    {
     "name": "stdout",
     "output_type": "stream",
     "text": [
      "Test Score:  0.4533282817527652\n",
      "Test Accuracy:  0.9025\n"
     ]
    }
   ],
   "source": [
    "score = model.evaluate_generator(validation_generator, steps=50)\n",
    "\n",
    "print ('Test Score: ', score[0])\n",
    "print ('Test Accuracy: ',score[1])"
   ]
  },
  {
   "cell_type": "code",
   "execution_count": 11,
   "metadata": {},
   "outputs": [
    {
     "data": {
      "image/png": "[encoded data removed]",
      "text/plain": [
       "<Figure size 432x288 with 1 Axes>"
      ]
     },
     "metadata": {
      "needs_background": "light"
     },
     "output_type": "display_data"
    },
    {
     "data": {
      "image/png": "[encoded data removed]",
      "text/plain": [
       "<Figure size 432x288 with 1 Axes>"
      ]
     },
     "metadata": {
      "needs_background": "light"
     },
     "output_type": "display_data"
    }
   ],
   "source": [
    "import matplotlib.pyplot as plt\n",
    "\n",
    "plt.plot(history.history['acc'])\n",
    "plt.plot(history.history['val_acc'])\n",
    "plt.title('model accuracy')\n",
    "plt.ylabel('Accuracy')\n",
    "plt.xlabel('Epoch')\n",
    "plt.legend(['Training Acc', 'Test Acc'], loc='upper left')\n",
    "plt.show()\n",
    "# summarize history for loss\n",
    "plt.plot(history.history['loss'])\n",
    "plt.plot(history.history['val_loss'])\n",
    "plt.title('model loss')\n",
    "plt.ylabel('Loss')\n",
    "plt.xlabel('Epoch')\n",
    "plt.legend(['Training Loss', 'Test Loss'], loc='upper left')\n",
    "plt.show()"
   ]
  },
  {
   "cell_type": "code",
   "execution_count": 14,
   "metadata": {},
   "outputs": [],
   "source": [
    "filename = validation_generator.filenames\n",
    "truth = validation_generator.classes\n",
    "label = validation_generator.class_indices\n",
    "indexlabel = dict((value, key) for key, value in label.items())"
   ]
  },
  {
   "cell_type": "code",
   "execution_count": 15,
   "metadata": {},
   "outputs": [],
   "source": [
    "import keras.backend as K\n",
    "\n",
    "def precision(y_true, y_pred):\n",
    "    # Calculates the precision\n",
    "    true_positives = K.sum(K.round(K.clip(y_true * y_pred, 0, 1)))\n",
    "    predicted_positives = K.sum(K.round(K.clip(y_pred, 0, 1)))\n",
    "    precision = true_positives / (predicted_positives + K.epsilon())\n",
    "    return precision\n",
    "\n",
    "\n",
    "def recall(y_true, y_pred):\n",
    "    # Calculates the recall\n",
    "    true_positives = K.sum(K.round(K.clip(y_true * y_pred, 0, 1)))\n",
    "    possible_positives = K.sum(K.round(K.clip(y_true, 0, 1)))\n",
    "    recall = true_positives / (possible_positives + K.epsilon())\n",
    "    return recall\n",
    "\n",
    "def fbeta_score(y_true, y_pred, beta=1):\n",
    "    # Calculates the F score, the weighted harmonic mean of precision and recall.\n",
    "\n",
    "    if beta < 0:\n",
    "        raise ValueError('The lowest choosable beta is zero (only precision).')\n",
    "        \n",
    "    # If there are no true positives, fix the F score at 0 like sklearn.\n",
    "    if K.sum(K.round(K.clip(y_true, 0, 1))) == 0:\n",
    "        return 0\n",
    "\n",
    "    p = precision(y_true, y_pred)\n",
    "    r = recall(y_true, y_pred)\n",
    "    bb = beta ** 2\n",
    "    fbeta_score = (1 + bb) * (p * r) / (bb * p + r + K.epsilon())\n",
    "    return fbeta_score\n",
    "\n",
    "def fmeasure(y_true, y_pred):\n",
    "    # Calculates the f-measure, the harmonic mean of precision and recall.\n",
    "    return fbeta_score(y_true, y_pred, beta=1)"
   ]
  },
  {
   "cell_type": "code",
   "execution_count": 20,
   "metadata": {},
   "outputs": [],
   "source": [
    "from keras.models import load_model\n",
    "model = load_model(\"models/2.Xception2-Adam-without-Dropout-Model.h5\", custom_objects={'fmeasure': fmeasure,  'recall': recall, 'precision': precision })\n",
    "model.load_weights(\"models/2.Xception2-Adam-without-Dropout-Weights.h5\")\n"
   ]
  },
  {
   "cell_type": "code",
   "execution_count": 21,
   "metadata": {},
   "outputs": [
    {
     "name": "stdout",
     "output_type": "stream",
     "text": [
      "352/351 [==============================] - 3306s 9s/step\n",
      "No of errors = 1139/11233\n"
     ]
    }
   ],
   "source": [
    "predicts = model.predict_generator(validation_generator, steps=validation_generator.samples/validation_generator.batch_size, verbose=1)\n",
    "predict_class = np.argmax(predicts, axis=1)\n",
    "errors = np.where(predict_class != truth)[0]\n",
    "print(\"No of errors = {}/{}\".format(len(errors),validation_generator.samples))"
   ]
  },
  {
   "cell_type": "code",
   "execution_count": 22,
   "metadata": {},
   "outputs": [
    {
     "name": "stdout",
     "output_type": "stream",
     "text": [
      "Confusion matrix\n",
      "[[1413   41   43    0   36   19    0]\n",
      " [  16 1624   18    0   14   20    0]\n",
      " [   5    4 1377    0   46   47    0]\n",
      " [  21   90   56 1444    0   20    1]\n",
      " [   6   14   29    1 1448  166    0]\n",
      " [   3   14   29    1   35 1647    1]\n",
      " [   2    2  263    4   41   31 1141]]\n"
     ]
    },
    {
     "data": {
      "image/png": "[encoded data removed]",
      "text/plain": [
       "<Figure size 720x720 with 2 Axes>"
      ]
     },
     "metadata": {},
     "output_type": "display_data"
    }
   ],
   "source": [
    "from sklearn.metrics import confusion_matrix\n",
    "cm = confusion_matrix(truth,predict_class)\n",
    "\n",
    "labels = []\n",
    "for k,v in indexlabel.items():\n",
    "    labels.append(v)\n",
    "    \n",
    "import itertools\n",
    "def plot_confusion_matrix(cm, classes,\n",
    "                          normalize=False,\n",
    "                          title='Confusion matrix',\n",
    "                          cmap=plt.cm.Blues):\n",
    "\n",
    "    if normalize:\n",
    "        cm = cm.astype('float') / cm.sum(axis=1)[:, np.newaxis]\n",
    "        print(\"Normalized confusion matrix\")\n",
    "    else:\n",
    "        print('Confusion matrix')\n",
    "\n",
    "    print(cm)\n",
    "\n",
    "    plt.imshow(cm, interpolation='nearest', cmap=cmap)\n",
    "    plt.title(title)\n",
    "    plt.colorbar()\n",
    "    tick_marks = np.arange(len(classes))\n",
    "    plt.xticks(tick_marks, classes, rotation=45)\n",
    "    plt.yticks(tick_marks, classes)\n",
    "\n",
    "    fmt = '.2f' if normalize else 'd'\n",
    "    thresh = cm.max() / 2.\n",
    "    for i, j in itertools.product(range(cm.shape[0]), range(cm.shape[1])):\n",
    "        plt.text(j, i, format(cm[i, j], fmt),\n",
    "                 horizontalalignment=\"center\",\n",
    "                 color=\"white\" if cm[i, j] > thresh else \"black\")\n",
    "\n",
    "    plt.tight_layout()\n",
    "    plt.ylabel('True label')\n",
    "    plt.xlabel('Predicted label')\n",
    "    \n",
    "\n",
    "plt.figure(figsize=(10,10))\n",
    "plot_confusion_matrix(cm, classes=labels,\n",
    "                      title='Confusion matrix')"
   ]
  },
  {
   "cell_type": "code",
   "execution_count": 23,
   "metadata": {},
   "outputs": [],
   "source": [
    "from sklearn.metrics import accuracy_score, roc_auc_score, classification_report\n",
    "\n",
    "#and reports metrics with classification_report method\n",
    "def predict_and_report(gen, model):\n",
    "    y_true = []\n",
    "    y_pred = []\n",
    "    gen.reset()\n",
    "    for img, label in gen:\n",
    "        #get true labels for batch and store them\n",
    "        y_true.extend([int(z[1]) for z in label])\n",
    "        #Get predictions as probabilities\n",
    "        batch_pred = model.predict_on_batch(img)\n",
    "        #turn probabilities to class labels and store\n",
    "        batch_pred = np.argmax(batch_pred, axis=1)\n",
    "        y_pred.extend(batch_pred)\n",
    "        #break loop\n",
    "        if gen.batch_index == 0:\n",
    "            break\n",
    "            \n",
    "    print('Accuracy:', accuracy_score(y_true, y_pred))\n",
    "    print('Area Under the Receiver Operating Characteristic Curve:', roc_auc_score(y_true, y_pred)) #Area under the curve\n",
    "    print(classification_report(y_true, y_pred))"
   ]
  },
  {
   "cell_type": "code",
   "execution_count": 24,
   "metadata": {},
   "outputs": [
    {
     "name": "stdout",
     "output_type": "stream",
     "text": [
      "Accuracy: 0.3100945125238078\n",
      "Area Under the Receiver Operating Characteristic Curve: 0.1672594777478963\n",
      "             precision    recall  f1-score   support\n",
      "\n",
      "          0       1.00      0.17      0.29     23054\n",
      "          1       1.00      1.00      1.00      4773\n",
      "          2       0.00      0.00      0.00         0\n",
      "          3       0.00      0.00      0.00         0\n",
      "          4       0.00      0.00      0.00         0\n",
      "          5       0.00      0.00      0.00         0\n",
      "          6       0.00      0.00      0.00         0\n",
      "\n",
      "avg / total       1.00      0.31      0.41     27827\n",
      "\n"
     ]
    }
   ],
   "source": [
    "predict_and_report(train_generator, model)"
   ]
  },
  {
   "cell_type": "code",
   "execution_count": 25,
   "metadata": {},
   "outputs": [
    {
     "name": "stdout",
     "output_type": "stream",
     "text": [
      "Accuracy: 0.27365797204664827\n",
      "Area Under the Receiver Operating Characteristic Curve: 0.17181001590002384\n",
      "             precision    recall  f1-score   support\n",
      "\n",
      "          0       0.99      0.15      0.26      9541\n",
      "          1       0.91      0.96      0.93      1692\n",
      "          2       0.00      0.00      0.00         0\n",
      "          3       0.00      0.00      0.00         0\n",
      "          4       0.00      0.00      0.00         0\n",
      "          5       0.00      0.00      0.00         0\n",
      "          6       0.00      0.00      0.00         0\n",
      "\n",
      "avg / total       0.98      0.27      0.36     11233\n",
      "\n"
     ]
    }
   ],
   "source": [
    "predict_and_report(validation_generator, model)"
   ]
  },
  {
   "cell_type": "code",
   "execution_count": null,
   "metadata": {},
   "outputs": [],
   "source": []
  },
  {
   "cell_type": "code",
   "execution_count": null,
   "metadata": {},
   "outputs": [],
   "source": []
  },
  {
   "cell_type": "code",
   "execution_count": null,
   "metadata": {},
   "outputs": [],
   "source": []
  },
  {
   "cell_type": "code",
   "execution_count": null,
   "metadata": {},
   "outputs": [],
   "source": []
  },
  {
   "cell_type": "code",
   "execution_count": null,
   "metadata": {},
   "outputs": [],
   "source": []
  },
  {
   "cell_type": "code",
   "execution_count": null,
   "metadata": {},
   "outputs": [],
   "source": []
  },
  {
   "cell_type": "code",
   "execution_count": 18,
   "metadata": {},
   "outputs": [],
   "source": [
    "model.save('models/2.Xception-Adam-without-Dropout-Model.h5')\n",
    "model.save_weights('models/2.Xception-Adam-without-Dropout-Weights.h5')"
   ]
  },
  {
   "cell_type": "code",
   "execution_count": 19,
   "metadata": {},
   "outputs": [],
   "source": [
    "##########################################################################################################"
   ]
  },
  {
   "cell_type": "markdown",
   "metadata": {},
   "source": [
    "# Misclassified Images"
   ]
  },
  {
   "cell_type": "code",
   "execution_count": null,
   "metadata": {},
   "outputs": [],
   "source": [
    "from keras.preprocessing.image import ImageDataGenerator, load_img\n",
    "# Show the errors\n",
    "for i in range(len(errors)):\n",
    "    pred_class = np.argmax(predictions[errors[i]])\n",
    "    pred_label = idx2label[pred_class]\n",
    "    \n",
    "    title = 'Original label:{}, Prediction :{}, confidence : {:.3f}, class ID : {}'.format(\n",
    "        fnames[errors[i]].split('/')[0],\n",
    "        pred_label,\n",
    "        predictions[errors[i]][pred_class], pred_class)\n",
    "    \n",
    "    original = load_img('{}/{}'.format(validation_dir,fnames[errors[i]]))\n",
    "    plt.figure(figsize=[7,7])\n",
    "    plt.axis('off')\n",
    "    plt.title(title)\n",
    "    plt.imshow(original)\n",
    "plt.show()"
   ]
  },
  {
   "cell_type": "markdown",
   "metadata": {},
   "source": [
    "___"
   ]
  },
  {
   "cell_type": "code",
   "execution_count": 10,
   "metadata": {},
   "outputs": [],
   "source": [
    "from keras.applications import DenseNet201\n",
    "model = Xception(weights = xception_weights, include_top=False, pooling = 'avg', input_shape = (225, 300, 3))\n",
    "\n",
    "from keras.layers import Flatten, Dense, Dropout, BatchNormalization\n",
    "from keras.regularizers import l2\n",
    "#Adding custom Layers \n",
    "x = model.output\n",
    "# x = Flatten()(x)\n",
    "x = Dense(1024, activation=\"relu\", kernel_regularizer=l2(0.0001), bias_regularizer=l2(0.0001))(x)\n",
    "x = BatchNormalization()(x)\n",
    "x = Dropout(0.5)(x)\n",
    "x = Dense(1024, activation=\"relu\", kernel_regularizer=l2(0.0001), bias_regularizer=l2(0.0001))(x)\n",
    "x = BatchNormalization()(x)\n",
    "x = Dropout(0.5)(x)\n",
    "predictions = Dense(7, activation=\"softmax\", kernel_regularizer=l2(0.0001), bias_regularizer=l2(0.0001))(x)\n",
    "\n",
    "from keras.models import Model\n",
    "# creating the final model \n",
    "model = Model(input = model.input, output = predictions)\n",
    "\n",
    "model.compile(loss='categorical_crossentropy',\n",
    "              optimizer= adam_opt,\n",
    "              metrics = [\"categorical_accuracy\", fmeasure, recall, precision])"
   ]
  },
  {
   "cell_type": "code",
   "execution_count": 11,
   "metadata": {},
   "outputs": [
    {
     "name": "stdout",
     "output_type": "stream",
     "text": [
      "Epoch 1/50\n",
      "2048/2048 [==============================] - 1279s 625ms/step - loss: 1.7460 - categorical_accuracy: 0.5352 - fmeasure: 0.5237 - recall: 0.4758 - precision: 0.5877 - val_loss: 1.0665 - val_categorical_accuracy: 0.7224 - val_fmeasure: 0.7221 - val_recall: 0.6707 - val_precision: 0.7840\n",
      "Epoch 2/50\n",
      "2048/2048 [==============================] - 1309s 639ms/step - loss: 0.8476 - categorical_accuracy: 0.8002 - fmeasure: 0.8013 - recall: 0.7741 - precision: 0.8316 - val_loss: 0.8152 - val_categorical_accuracy: 0.8099 - val_fmeasure: 0.8131 - val_recall: 0.7852 - val_precision: 0.8442\n",
      "Epoch 3/50\n",
      "2048/2048 [==============================] - 1312s 641ms/step - loss: 0.5418 - categorical_accuracy: 0.8953 - fmeasure: 0.8960 - recall: 0.8834 - precision: 0.9094 - val_loss: 0.7169 - val_categorical_accuracy: 0.8475 - val_fmeasure: 0.8547 - val_recall: 0.8370 - val_precision: 0.8739\n",
      "Epoch 4/50\n",
      "2048/2048 [==============================] - 1312s 641ms/step - loss: 0.3932 - categorical_accuracy: 0.9455 - fmeasure: 0.9461 - recall: 0.9406 - precision: 0.9519 - val_loss: 0.7083 - val_categorical_accuracy: 0.8677 - val_fmeasure: 0.8724 - val_recall: 0.8604 - val_precision: 0.8851\n",
      "Epoch 5/50\n",
      "2048/2048 [==============================] - 1313s 641ms/step - loss: 0.3139 - categorical_accuracy: 0.9739 - fmeasure: 0.9741 - recall: 0.9720 - precision: 0.9762 - val_loss: 0.7288 - val_categorical_accuracy: 0.8719 - val_fmeasure: 0.8747 - val_recall: 0.8673 - val_precision: 0.8825\n",
      "Epoch 6/50\n",
      "2048/2048 [==============================] - 1313s 641ms/step - loss: 0.2795 - categorical_accuracy: 0.9854 - fmeasure: 0.9853 - recall: 0.9844 - precision: 0.9862 - val_loss: 0.7532 - val_categorical_accuracy: 0.8761 - val_fmeasure: 0.8792 - val_recall: 0.8723 - val_precision: 0.8864\n",
      "Epoch 7/50\n",
      "2048/2048 [==============================] - 1313s 641ms/step - loss: 0.2593 - categorical_accuracy: 0.9925 - fmeasure: 0.9925 - recall: 0.9920 - precision: 0.9929 - val_loss: 0.7552 - val_categorical_accuracy: 0.8761 - val_fmeasure: 0.8785 - val_recall: 0.8732 - val_precision: 0.8840\n",
      "Epoch 8/50\n",
      "2048/2048 [==============================] - 1313s 641ms/step - loss: 0.2492 - categorical_accuracy: 0.9951 - fmeasure: 0.9951 - recall: 0.9949 - precision: 0.9953 - val_loss: 0.7467 - val_categorical_accuracy: 0.8837 - val_fmeasure: 0.8847 - val_recall: 0.8792 - val_precision: 0.8904\n",
      "Epoch 9/50\n",
      "2048/2048 [==============================] - 1314s 641ms/step - loss: 0.2460 - categorical_accuracy: 0.9954 - fmeasure: 0.9954 - recall: 0.9952 - precision: 0.9956 - val_loss: 0.7706 - val_categorical_accuracy: 0.8842 - val_fmeasure: 0.8849 - val_recall: 0.8805 - val_precision: 0.8895\n",
      "Epoch 10/50\n",
      "2048/2048 [==============================] - 1312s 641ms/step - loss: 0.2398 - categorical_accuracy: 0.9967 - fmeasure: 0.9966 - recall: 0.9965 - precision: 0.9968 - val_loss: 0.7687 - val_categorical_accuracy: 0.8858 - val_fmeasure: 0.8867 - val_recall: 0.8840 - val_precision: 0.8896\n",
      "Epoch 11/50\n",
      "2048/2048 [==============================] - 1308s 639ms/step - loss: 0.2354 - categorical_accuracy: 0.9971 - fmeasure: 0.9971 - recall: 0.9969 - precision: 0.9972 - val_loss: 0.7702 - val_categorical_accuracy: 0.8871 - val_fmeasure: 0.8875 - val_recall: 0.8846 - val_precision: 0.8905\n",
      "Epoch 12/50\n",
      "2048/2048 [==============================] - 1310s 640ms/step - loss: 0.2292 - categorical_accuracy: 0.9980 - fmeasure: 0.9980 - recall: 0.9979 - precision: 0.9980 - val_loss: 0.7333 - val_categorical_accuracy: 0.8934 - val_fmeasure: 0.8937 - val_recall: 0.8908 - val_precision: 0.8966\n",
      "Epoch 13/50\n",
      "2048/2048 [==============================] - 1309s 639ms/step - loss: 0.2252 - categorical_accuracy: 0.9979 - fmeasure: 0.9979 - recall: 0.9978 - precision: 0.9980 - val_loss: 0.7476 - val_categorical_accuracy: 0.8924 - val_fmeasure: 0.8933 - val_recall: 0.8908 - val_precision: 0.8959\n",
      "Epoch 14/50\n",
      "2048/2048 [==============================] - 1310s 639ms/step - loss: 0.2209 - categorical_accuracy: 0.9982 - fmeasure: 0.9982 - recall: 0.9982 - precision: 0.9982 - val_loss: 0.7424 - val_categorical_accuracy: 0.8959 - val_fmeasure: 0.8967 - val_recall: 0.8940 - val_precision: 0.8996\n",
      "Epoch 15/50\n",
      "2048/2048 [==============================] - 1310s 640ms/step - loss: 0.2160 - categorical_accuracy: 0.9985 - fmeasure: 0.9985 - recall: 0.9985 - precision: 0.9985 - val_loss: 0.7769 - val_categorical_accuracy: 0.8949 - val_fmeasure: 0.8956 - val_recall: 0.8932 - val_precision: 0.8980\n",
      "Epoch 16/50\n",
      "2048/2048 [==============================] - 1310s 640ms/step - loss: 0.2119 - categorical_accuracy: 0.9987 - fmeasure: 0.9987 - recall: 0.9987 - precision: 0.9987 - val_loss: 0.7471 - val_categorical_accuracy: 0.8975 - val_fmeasure: 0.8980 - val_recall: 0.8962 - val_precision: 0.8999\n",
      "Epoch 17/50\n",
      "2048/2048 [==============================] - 1308s 639ms/step - loss: 0.2076 - categorical_accuracy: 0.9988 - fmeasure: 0.9988 - recall: 0.9988 - precision: 0.9989 - val_loss: 0.7320 - val_categorical_accuracy: 0.8961 - val_fmeasure: 0.8970 - val_recall: 0.8940 - val_precision: 0.9002\n",
      "Epoch 18/50\n",
      "2048/2048 [==============================] - 1310s 640ms/step - loss: 0.2038 - categorical_accuracy: 0.9989 - fmeasure: 0.9989 - recall: 0.9989 - precision: 0.9990 - val_loss: 0.7577 - val_categorical_accuracy: 0.8971 - val_fmeasure: 0.8982 - val_recall: 0.8957 - val_precision: 0.9008\n",
      "Epoch 19/50\n",
      "2048/2048 [==============================] - 1310s 639ms/step - loss: 0.2004 - categorical_accuracy: 0.9986 - fmeasure: 0.9986 - recall: 0.9986 - precision: 0.9987 - val_loss: 0.7958 - val_categorical_accuracy: 0.8960 - val_fmeasure: 0.8966 - val_recall: 0.8949 - val_precision: 0.8983\n",
      "Epoch 20/50\n",
      "2048/2048 [==============================] - 1309s 639ms/step - loss: 0.1956 - categorical_accuracy: 0.9991 - fmeasure: 0.9991 - recall: 0.9991 - precision: 0.9991 - val_loss: 0.7741 - val_categorical_accuracy: 0.8981 - val_fmeasure: 0.8980 - val_recall: 0.8963 - val_precision: 0.8998\n",
      "Epoch 21/50\n",
      "2048/2048 [==============================] - 1308s 639ms/step - loss: 0.1915 - categorical_accuracy: 0.9992 - fmeasure: 0.9992 - recall: 0.9991 - precision: 0.9993 - val_loss: 0.7732 - val_categorical_accuracy: 0.9001 - val_fmeasure: 0.9003 - val_recall: 0.8985 - val_precision: 0.9022\n",
      "Epoch 22/50\n",
      "2048/2048 [==============================] - 1306s 638ms/step - loss: 0.1880 - categorical_accuracy: 0.9990 - fmeasure: 0.9990 - recall: 0.9989 - precision: 0.9990 - val_loss: 0.7827 - val_categorical_accuracy: 0.8958 - val_fmeasure: 0.8957 - val_recall: 0.8935 - val_precision: 0.8979\n",
      "Epoch 23/50\n",
      "2048/2048 [==============================] - 1311s 640ms/step - loss: 0.1837 - categorical_accuracy: 0.9992 - fmeasure: 0.9992 - recall: 0.9992 - precision: 0.9993 - val_loss: 0.7862 - val_categorical_accuracy: 0.8990 - val_fmeasure: 0.8990 - val_recall: 0.8971 - val_precision: 0.9010\n",
      "Epoch 24/50\n",
      "2048/2048 [==============================] - 1310s 640ms/step - loss: 0.1802 - categorical_accuracy: 0.9991 - fmeasure: 0.9991 - recall: 0.9991 - precision: 0.9991 - val_loss: 0.7472 - val_categorical_accuracy: 0.9001 - val_fmeasure: 0.9007 - val_recall: 0.8982 - val_precision: 0.9033\n",
      "Epoch 25/50\n",
      "2048/2048 [==============================] - 1309s 639ms/step - loss: 0.1766 - categorical_accuracy: 0.9992 - fmeasure: 0.9992 - recall: 0.9992 - precision: 0.9992 - val_loss: 0.7740 - val_categorical_accuracy: 0.8975 - val_fmeasure: 0.8981 - val_recall: 0.8964 - val_precision: 0.8998\n",
      "Epoch 26/50\n",
      "2048/2048 [==============================] - 1308s 639ms/step - loss: 0.1728 - categorical_accuracy: 0.9991 - fmeasure: 0.9992 - recall: 0.9991 - precision: 0.9992 - val_loss: 0.7767 - val_categorical_accuracy: 0.8945 - val_fmeasure: 0.8958 - val_recall: 0.8940 - val_precision: 0.8976\n",
      "Epoch 27/50\n",
      "2048/2048 [==============================] - 1309s 639ms/step - loss: 0.1687 - categorical_accuracy: 0.9995 - fmeasure: 0.9995 - recall: 0.9995 - precision: 0.9995 - val_loss: 0.7655 - val_categorical_accuracy: 0.9008 - val_fmeasure: 0.9014 - val_recall: 0.8997 - val_precision: 0.9031\n",
      "Epoch 28/50\n",
      "2048/2048 [==============================] - 1307s 638ms/step - loss: 0.1655 - categorical_accuracy: 0.9992 - fmeasure: 0.9992 - recall: 0.9992 - precision: 0.9992 - val_loss: 0.8086 - val_categorical_accuracy: 0.8959 - val_fmeasure: 0.8962 - val_recall: 0.8946 - val_precision: 0.8978\n",
      "Epoch 29/50\n",
      "2048/2048 [==============================] - 1307s 638ms/step - loss: 0.1621 - categorical_accuracy: 0.9993 - fmeasure: 0.9993 - recall: 0.9993 - precision: 0.9993 - val_loss: 0.7726 - val_categorical_accuracy: 0.9003 - val_fmeasure: 0.9013 - val_recall: 0.8994 - val_precision: 0.9032\n",
      "Epoch 30/50\n",
      "2048/2048 [==============================] - 1308s 639ms/step - loss: 0.1587 - categorical_accuracy: 0.9994 - fmeasure: 0.9995 - recall: 0.9994 - precision: 0.9995 - val_loss: 0.7496 - val_categorical_accuracy: 0.8992 - val_fmeasure: 0.8999 - val_recall: 0.8981 - val_precision: 0.9019\n",
      "Epoch 31/50\n",
      "2048/2048 [==============================] - 1309s 639ms/step - loss: 0.1564 - categorical_accuracy: 0.9992 - fmeasure: 0.9992 - recall: 0.9992 - precision: 0.9992 - val_loss: 0.7475 - val_categorical_accuracy: 0.8995 - val_fmeasure: 0.8997 - val_recall: 0.8981 - val_precision: 0.9013\n",
      "Epoch 32/50\n",
      "2048/2048 [==============================] - 1308s 639ms/step - loss: 0.1526 - categorical_accuracy: 0.9995 - fmeasure: 0.9995 - recall: 0.9995 - precision: 0.9995 - val_loss: 0.7310 - val_categorical_accuracy: 0.9006 - val_fmeasure: 0.9011 - val_recall: 0.8992 - val_precision: 0.9030\n",
      "Epoch 33/50\n",
      "2048/2048 [==============================] - 1307s 638ms/step - loss: 0.1496 - categorical_accuracy: 0.9996 - fmeasure: 0.9996 - recall: 0.9995 - precision: 0.9996 - val_loss: 0.7811 - val_categorical_accuracy: 0.8971 - val_fmeasure: 0.8977 - val_recall: 0.8964 - val_precision: 0.8991\n",
      "Epoch 34/50\n",
      "2048/2048 [==============================] - 1306s 638ms/step - loss: 0.1463 - categorical_accuracy: 0.9995 - fmeasure: 0.9995 - recall: 0.9995 - precision: 0.9995 - val_loss: 0.7197 - val_categorical_accuracy: 0.8999 - val_fmeasure: 0.9003 - val_recall: 0.8986 - val_precision: 0.9021\n",
      "Epoch 35/50\n",
      "2048/2048 [==============================] - 1307s 638ms/step - loss: 0.1438 - categorical_accuracy: 0.9993 - fmeasure: 0.9993 - recall: 0.9993 - precision: 0.9993 - val_loss: 0.7103 - val_categorical_accuracy: 0.8983 - val_fmeasure: 0.8995 - val_recall: 0.8967 - val_precision: 0.9025\n",
      "Epoch 36/50\n",
      "2048/2048 [==============================] - 1308s 639ms/step - loss: 0.1407 - categorical_accuracy: 0.9996 - fmeasure: 0.9996 - recall: 0.9996 - precision: 0.9996 - val_loss: 0.6874 - val_categorical_accuracy: 0.9026 - val_fmeasure: 0.9038 - val_recall: 0.9010 - val_precision: 0.9067\n",
      "Epoch 37/50\n",
      "2048/2048 [==============================] - 1306s 638ms/step - loss: 0.1375 - categorical_accuracy: 0.9995 - fmeasure: 0.9995 - recall: 0.9995 - precision: 0.9995 - val_loss: 0.6673 - val_categorical_accuracy: 0.9021 - val_fmeasure: 0.9023 - val_recall: 0.9000 - val_precision: 0.9048\n",
      "Epoch 38/50\n",
      "2048/2048 [==============================] - 1307s 638ms/step - loss: 0.1346 - categorical_accuracy: 0.9995 - fmeasure: 0.9995 - recall: 0.9995 - precision: 0.9995 - val_loss: 0.6961 - val_categorical_accuracy: 0.9019 - val_fmeasure: 0.9033 - val_recall: 0.9005 - val_precision: 0.9061\n",
      "Epoch 39/50\n",
      "2048/2048 [==============================] - 1308s 639ms/step - loss: 0.1316 - categorical_accuracy: 0.9995 - fmeasure: 0.9995 - recall: 0.9995 - precision: 0.9995 - val_loss: 0.6982 - val_categorical_accuracy: 0.9010 - val_fmeasure: 0.9031 - val_recall: 0.9004 - val_precision: 0.9059\n",
      "Epoch 40/50\n",
      "2048/2048 [==============================] - 1309s 639ms/step - loss: 0.1292 - categorical_accuracy: 0.9995 - fmeasure: 0.9995 - recall: 0.9995 - precision: 0.9995 - val_loss: 0.6945 - val_categorical_accuracy: 0.9019 - val_fmeasure: 0.9032 - val_recall: 0.9010 - val_precision: 0.9055\n",
      "Epoch 41/50\n",
      "2048/2048 [==============================] - 1308s 639ms/step - loss: 0.1263 - categorical_accuracy: 0.9996 - fmeasure: 0.9996 - recall: 0.9996 - precision: 0.9996 - val_loss: 0.6933 - val_categorical_accuracy: 0.9011 - val_fmeasure: 0.9022 - val_recall: 0.9003 - val_precision: 0.9042\n",
      "Epoch 42/50\n",
      "2048/2048 [==============================] - 1306s 638ms/step - loss: 0.1239 - categorical_accuracy: 0.9996 - fmeasure: 0.9996 - recall: 0.9996 - precision: 0.9996 - val_loss: 0.6876 - val_categorical_accuracy: 0.9047 - val_fmeasure: 0.9051 - val_recall: 0.9031 - val_precision: 0.9072\n",
      "Epoch 43/50\n",
      "2048/2048 [==============================] - 1307s 638ms/step - loss: 0.1209 - categorical_accuracy: 0.9997 - fmeasure: 0.9997 - recall: 0.9997 - precision: 0.9997 - val_loss: 0.7095 - val_categorical_accuracy: 0.8996 - val_fmeasure: 0.9008 - val_recall: 0.8986 - val_precision: 0.9030\n",
      "Epoch 44/50\n",
      "2048/2048 [==============================] - 1305s 637ms/step - loss: 0.1181 - categorical_accuracy: 0.9997 - fmeasure: 0.9997 - recall: 0.9997 - precision: 0.9997 - val_loss: 0.7330 - val_categorical_accuracy: 0.8981 - val_fmeasure: 0.8988 - val_recall: 0.8977 - val_precision: 0.9000\n",
      "Epoch 45/50\n",
      "2048/2048 [==============================] - 1307s 638ms/step - loss: 0.1158 - categorical_accuracy: 0.9996 - fmeasure: 0.9995 - recall: 0.9995 - precision: 0.9996 - val_loss: 0.7004 - val_categorical_accuracy: 0.9031 - val_fmeasure: 0.9042 - val_recall: 0.9020 - val_precision: 0.9064\n",
      "Epoch 46/50\n",
      "2048/2048 [==============================] - 1304s 637ms/step - loss: 0.1132 - categorical_accuracy: 0.9997 - fmeasure: 0.9997 - recall: 0.9997 - precision: 0.9997 - val_loss: 0.7069 - val_categorical_accuracy: 0.8989 - val_fmeasure: 0.9008 - val_recall: 0.8978 - val_precision: 0.9040\n",
      "Epoch 47/50\n",
      "2048/2048 [==============================] - 1299s 634ms/step - loss: 0.1105 - categorical_accuracy: 0.9997 - fmeasure: 0.9997 - recall: 0.9997 - precision: 0.9997 - val_loss: 0.6957 - val_categorical_accuracy: 0.9012 - val_fmeasure: 0.9022 - val_recall: 0.9002 - val_precision: 0.9044\n",
      "Epoch 48/50\n",
      "2048/2048 [==============================] - 1299s 634ms/step - loss: 0.1078 - categorical_accuracy: 0.9997 - fmeasure: 0.9997 - recall: 0.9997 - precision: 0.9998 - val_loss: 0.6891 - val_categorical_accuracy: 0.9030 - val_fmeasure: 0.9040 - val_recall: 0.9021 - val_precision: 0.9060\n",
      "Epoch 49/50\n",
      "2048/2048 [==============================] - 1299s 634ms/step - loss: 0.1052 - categorical_accuracy: 0.9998 - fmeasure: 0.9998 - recall: 0.9998 - precision: 0.9998 - val_loss: 0.7138 - val_categorical_accuracy: 0.8987 - val_fmeasure: 0.8993 - val_recall: 0.8978 - val_precision: 0.9009\n",
      "Epoch 50/50\n",
      "2048/2048 [==============================] - 1300s 635ms/step - loss: 0.1025 - categorical_accuracy: 0.9998 - fmeasure: 0.9998 - recall: 0.9998 - precision: 0.9998 - val_loss: 0.7097 - val_categorical_accuracy: 0.9007 - val_fmeasure: 0.9014 - val_recall: 0.8999 - val_precision: 0.9029\n"
     ]
    }
   ],
   "source": [
    "history = model.fit_generator(train_generator,\n",
    "    steps_per_epoch=2048,\n",
    "    epochs = epochs,\n",
    "    validation_data = validation_generator,\n",
    "    validation_steps=1024)"
   ]
  },
  {
   "cell_type": "code",
   "execution_count": 12,
   "metadata": {},
   "outputs": [
    {
     "name": "stdout",
     "output_type": "stream",
     "text": [
      "Test Score:  0.6869810661673545\n",
      "Test Accuracy:  0.90125\n",
      "fmeasure:  0.9017162108421326\n",
      "Recall:  0.900625\n",
      "Precision:  0.9028427410125732\n"
     ]
    }
   ],
   "source": [
    "score = model.evaluate_generator(validation_generator, steps=50)\n",
    "\n",
    "print ('Test Score: ', score[0])\n",
    "print ('Test Accuracy: ',score[1])\n",
    "print ('fmeasure: ', score[2])\n",
    "print ('Recall: ', score[3])\n",
    "print ('Precision: ', score[4])"
   ]
  },
  {
   "cell_type": "code",
   "execution_count": 16,
   "metadata": {},
   "outputs": [
    {
     "data": {
      "image/png": "[encoded data removed]",
      "text/plain": [
       "<Figure size 432x288 with 1 Axes>"
      ]
     },
     "metadata": {
      "needs_background": "light"
     },
     "output_type": "display_data"
    },
    {
     "data": {
      "image/png": "[encoded data removed]",
      "text/plain": [
       "<Figure size 432x288 with 1 Axes>"
      ]
     },
     "metadata": {
      "needs_background": "light"
     },
     "output_type": "display_data"
    }
   ],
   "source": [
    "import matplotlib.pyplot as plt\n",
    "\n",
    "plt.plot(history.history['categorical_accuracy'])\n",
    "plt.plot(history.history['val_categorical_accuracy'])\n",
    "plt.title('model accuracy')\n",
    "plt.ylabel('Accuracy')\n",
    "plt.xlabel('Epoch')\n",
    "plt.legend(['Training Acc', 'Test Acc'], loc='upper left')\n",
    "plt.show()\n",
    "# summarize history for loss\n",
    "plt.plot(history.history['loss'])\n",
    "plt.plot(history.history['val_loss'])\n",
    "plt.title('model loss')\n",
    "plt.ylabel('Loss')\n",
    "plt.xlabel('Epoch')\n",
    "plt.legend(['Training Loss', 'Test Loss'], loc='upper left')\n",
    "plt.show()"
   ]
  },
  {
   "cell_type": "code",
   "execution_count": 32,
   "metadata": {},
   "outputs": [
    {
     "ename": "NameError",
     "evalue": "name 'history' is not defined",
     "output_type": "error",
     "traceback": [
      "\u001b[0;31m---------------------------------------------------------------------------\u001b[0m",
      "\u001b[0;31mNameError\u001b[0m                                 Traceback (most recent call last)",
      "\u001b[0;32m<ipython-input-32-07cc7ebc3088>\u001b[0m in \u001b[0;36m<module>\u001b[0;34m()\u001b[0m\n\u001b[1;32m      2\u001b[0m \u001b[0mplt\u001b[0m\u001b[0;34m.\u001b[0m\u001b[0mfigure\u001b[0m\u001b[0;34m(\u001b[0m\u001b[0;34m)\u001b[0m\u001b[0;34m\u001b[0m\u001b[0m\n\u001b[1;32m      3\u001b[0m \u001b[0mN\u001b[0m \u001b[0;34m=\u001b[0m \u001b[0mepochs\u001b[0m\u001b[0;34m\u001b[0m\u001b[0m\n\u001b[0;32m----> 4\u001b[0;31m \u001b[0mplt\u001b[0m\u001b[0;34m.\u001b[0m\u001b[0mplot\u001b[0m\u001b[0;34m(\u001b[0m\u001b[0mnp\u001b[0m\u001b[0;34m.\u001b[0m\u001b[0marange\u001b[0m\u001b[0;34m(\u001b[0m\u001b[0;36m0\u001b[0m\u001b[0;34m,\u001b[0m \u001b[0mN\u001b[0m\u001b[0;34m)\u001b[0m\u001b[0;34m,\u001b[0m \u001b[0mhistory\u001b[0m\u001b[0;34m.\u001b[0m\u001b[0mhistory\u001b[0m\u001b[0;34m[\u001b[0m\u001b[0;34m\"loss\"\u001b[0m\u001b[0;34m]\u001b[0m\u001b[0;34m,\u001b[0m \u001b[0mlabel\u001b[0m\u001b[0;34m=\u001b[0m\u001b[0;34m\"train_loss\"\u001b[0m\u001b[0;34m)\u001b[0m\u001b[0;34m\u001b[0m\u001b[0m\n\u001b[0m\u001b[1;32m      5\u001b[0m \u001b[0mplt\u001b[0m\u001b[0;34m.\u001b[0m\u001b[0mplot\u001b[0m\u001b[0;34m(\u001b[0m\u001b[0mnp\u001b[0m\u001b[0;34m.\u001b[0m\u001b[0marange\u001b[0m\u001b[0;34m(\u001b[0m\u001b[0;36m0\u001b[0m\u001b[0;34m,\u001b[0m \u001b[0mN\u001b[0m\u001b[0;34m)\u001b[0m\u001b[0;34m,\u001b[0m \u001b[0mhistory\u001b[0m\u001b[0;34m.\u001b[0m\u001b[0mhistory\u001b[0m\u001b[0;34m[\u001b[0m\u001b[0;34m\"val_loss\"\u001b[0m\u001b[0;34m]\u001b[0m\u001b[0;34m,\u001b[0m \u001b[0mlabel\u001b[0m\u001b[0;34m=\u001b[0m\u001b[0;34m\"val_loss\"\u001b[0m\u001b[0;34m)\u001b[0m\u001b[0;34m\u001b[0m\u001b[0m\n\u001b[1;32m      6\u001b[0m \u001b[0mplt\u001b[0m\u001b[0;34m.\u001b[0m\u001b[0mplot\u001b[0m\u001b[0;34m(\u001b[0m\u001b[0mnp\u001b[0m\u001b[0;34m.\u001b[0m\u001b[0marange\u001b[0m\u001b[0;34m(\u001b[0m\u001b[0;36m0\u001b[0m\u001b[0;34m,\u001b[0m \u001b[0mN\u001b[0m\u001b[0;34m)\u001b[0m\u001b[0;34m,\u001b[0m \u001b[0mhistory\u001b[0m\u001b[0;34m.\u001b[0m\u001b[0mhistory\u001b[0m\u001b[0;34m[\u001b[0m\u001b[0;34m\"categorical_accuracy\"\u001b[0m\u001b[0;34m]\u001b[0m\u001b[0;34m,\u001b[0m \u001b[0mlabel\u001b[0m\u001b[0;34m=\u001b[0m\u001b[0;34m\"train_acc\"\u001b[0m\u001b[0;34m)\u001b[0m\u001b[0;34m\u001b[0m\u001b[0m\n",
      "\u001b[0;31mNameError\u001b[0m: name 'history' is not defined"
     ]
    },
    {
     "data": {
      "text/plain": [
       "<Figure size 432x288 with 0 Axes>"
      ]
     },
     "metadata": {},
     "output_type": "display_data"
    }
   ],
   "source": [
    "plt.style.use(\"ggplot\")\n",
    "plt.figure()\n",
    "N = epochs\n",
    "plt.plot(np.arange(0, N), history.history[\"loss\"], label=\"train_loss\")\n",
    "plt.plot(np.arange(0, N), history.history[\"val_loss\"], label=\"val_loss\")\n",
    "plt.plot(np.arange(0, N), history.history[\"categorical_accuracy\"], label=\"train_acc\")\n",
    "plt.plot(np.arange(0, N), history.history[\"val_categorical_accuracy\"], label=\"val_acc\")\n",
    "plt.title(\"Training Loss and Accuracy\")\n",
    "plt.xlabel(\"Epoch #\")\n",
    "plt.ylabel(\"Loss/Accuracy\")\n",
    "plt.legend(loc=\"upper left\")"
   ]
  },
  {
   "cell_type": "code",
   "execution_count": 20,
   "metadata": {},
   "outputs": [],
   "source": [
    "model.save('models/2.Xception2-Adam-without-Dropout-Model.h5')\n",
    "model.save_weights('models/2.Xception2-Adam-without-Dropout-Weights.h5')"
   ]
  },
  {
   "cell_type": "code",
   "execution_count": null,
   "metadata": {},
   "outputs": [],
   "source": []
  }
 ],
 "metadata": {
  "anaconda-cloud": {},
  "kernelspec": {
   "display_name": "Python 3",
   "language": "python",
   "name": "python3"
  },
  "language_info": {
   "codemirror_mode": {
    "name": "ipython",
    "version": 3
   },
   "file_extension": ".py",
   "mimetype": "text/x-python",
   "name": "python",
   "nbconvert_exporter": "python",
   "pygments_lexer": "ipython3",
   "version": "3.6.5"
  }
 },
 "nbformat": 4,
 "nbformat_minor": 2
}
