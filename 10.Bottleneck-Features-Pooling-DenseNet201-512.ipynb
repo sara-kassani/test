{
 "cells": [
  {
   "cell_type": "code",
   "execution_count": 1,
   "metadata": {},
   "outputs": [],
   "source": [
    "import warnings\n",
    "warnings.filterwarnings('always')\n",
    "warnings.filterwarnings('ignore')"
   ]
  },
  {
   "cell_type": "code",
   "execution_count": 2,
   "metadata": {},
   "outputs": [
    {
     "name": "stderr",
     "output_type": "stream",
     "text": [
      "Using TensorFlow backend.\n"
     ]
    }
   ],
   "source": [
    "import os\n",
    "import math\n",
    "import numpy as np\n",
    "\n",
    "from keras.preprocessing.image import ImageDataGenerator, img_to_array, load_img\n",
    "from keras.models import Sequential, Model\n",
    "from keras import optimizers\n",
    "from keras.layers import Dropout, Flatten, Dense, AveragePooling2D\n",
    "from keras import applications\n",
    "from keras.utils.np_utils import to_categorical\n",
    "from sklearn.metrics import accuracy_score,roc_curve, confusion_matrix, roc_auc_score, auc, f1_score\n",
    "from keras.models import load_model\n",
    "\n",
    "import matplotlib.pyplot as plt\n",
    "%matplotlib inline"
   ]
  },
  {
   "cell_type": "code",
   "execution_count": 3,
   "metadata": {},
   "outputs": [],
   "source": [
    "train_dir = 'data/512/train/'\n",
    "test_dir = 'data/512/test/'\n",
    "\n",
    "extracted_features_dir = \"extracted_features/\"\n",
    "model_name = \"DenseNet201_pooling_512\""
   ]
  },
  {
   "cell_type": "code",
   "execution_count": 4,
   "metadata": {},
   "outputs": [
    {
     "name": "stdout",
     "output_type": "stream",
     "text": [
      "data/512/train/ 0\n",
      "data/512/train/Benign 1152\n",
      "data/512/train/InSitu 1152\n",
      "data/512/train/Invasive 1152\n",
      "data/512/train/Normal 1152\n",
      "******************************\n",
      "data/512/test/ 0\n",
      "data/512/test/Benign 448\n",
      "data/512/test/InSitu 448\n",
      "data/512/test/Invasive 448\n",
      "data/512/test/Normal 448\n"
     ]
    }
   ],
   "source": [
    "for root,dirs,files in os.walk(train_dir):\n",
    "    print (root, len(files))\n",
    "\n",
    "print(\"*\"*30)\n",
    "for root,dirs,files in os.walk(test_dir):\n",
    "    print (root, len(files))"
   ]
  },
  {
   "cell_type": "code",
   "execution_count": 46,
   "metadata": {},
   "outputs": [
    {
     "name": "stdout",
     "output_type": "stream",
     "text": [
      "train samples: 4608\n",
      "test samples: 1792\n"
     ]
    }
   ],
   "source": [
    "output_classes = 4\n",
    "batch_size = 32\n",
    "img_height, img_width = 512, 384\n",
    "input_shape = (img_height, img_width, 3)\n",
    "epochs = 200\n",
    "\n",
    "top_model_path = os.path.join(extracted_features_dir, 'bottleneck_fc_'+model_name+'_model.h5')\n",
    "top_model_weights_path = os.path.join(extracted_features_dir, 'bottleneck_fc_'+model_name+'_weights.h5')\n",
    "\n",
    "nb_train_samples = sum([len(files) for r, d, files in os.walk(train_dir)])\n",
    "nb_test_samples = sum([len(files) for r, d, files in os.walk(test_dir)])\n",
    "\n",
    "print(\"train samples:\", nb_train_samples)\n",
    "print(\"test samples:\", nb_test_samples)"
   ]
  },
  {
   "cell_type": "code",
   "execution_count": 6,
   "metadata": {},
   "outputs": [
    {
     "name": "stdout",
     "output_type": "stream",
     "text": [
      "Found 3456 images belonging to 4 classes.\n",
      "Found 1152 images belonging to 4 classes.\n"
     ]
    }
   ],
   "source": [
    "random_seed = np.random.seed(1142)\n",
    "\n",
    "train_datagen = ImageDataGenerator(\n",
    "    rescale=1. / 255,\n",
    "    featurewise_center=True,\n",
    "    featurewise_std_normalization=True,\n",
    "    validation_split= 0.25,\n",
    "    zoom_range=0.2,\n",
    "    shear_range=0.2)\n",
    "\n",
    "train_generator = train_datagen.flow_from_directory(\n",
    "    train_dir,\n",
    "    target_size=(img_height, img_width),\n",
    "    batch_size=batch_size,\n",
    "    seed = random_seed,\n",
    "    shuffle = False,\n",
    "    subset = 'training',\n",
    "    class_mode='categorical')\n",
    "\n",
    "validation_generator = train_datagen.flow_from_directory(\n",
    "    train_dir,\n",
    "    target_size=(img_height, img_width),\n",
    "    batch_size=batch_size,\n",
    "    seed = random_seed,\n",
    "    shuffle = False,\n",
    "    subset = 'validation',\n",
    "    class_mode='categorical')"
   ]
  },
  {
   "cell_type": "code",
   "execution_count": 7,
   "metadata": {},
   "outputs": [
    {
     "name": "stdout",
     "output_type": "stream",
     "text": [
      "nb_train_samples: 3456\n",
      "nb_validation_samples: 1152\n",
      "\n",
      "predict_size_train: 108\n",
      "predict_size_validation: 36\n",
      "\n",
      " num_classes: 4\n"
     ]
    }
   ],
   "source": [
    "nb_train_samples = len(train_generator.filenames)\n",
    "nb_validation_samples = len(validation_generator.filenames)\n",
    "predict_size_train = int(math.ceil(nb_train_samples / batch_size))\n",
    "predict_size_validation = int(math.ceil(nb_validation_samples / batch_size))\n",
    "\n",
    "num_classes = len(train_generator.class_indices)\n",
    "\n",
    "print(\"nb_train_samples:\", nb_train_samples)\n",
    "print(\"nb_validation_samples:\", nb_validation_samples)\n",
    "print(\"\\npredict_size_train:\", predict_size_train)\n",
    "print(\"predict_size_validation:\", predict_size_validation)\n",
    "\n",
    "print(\"\\n num_classes:\", num_classes)"
   ]
  },
  {
   "cell_type": "code",
   "execution_count": 8,
   "metadata": {},
   "outputs": [],
   "source": [
    "bottleneck_base_model = applications.DenseNet201(include_top=False,  pooling = 'avg', weights='imagenet')\n",
    "\n",
    "bottleneck_base_model = Model(input=bottleneck_base_model.input, output = bottleneck_base_model.layers[-2].output)\n",
    "bottleneck_top_model = Sequential()\n",
    "bottleneck_top_model.add(AveragePooling2D((3, 3), name='avg_pool', input_shape=input_shape))\n",
    "\n",
    "bottleneck_final_model = Sequential()\n",
    "bottleneck_final_model.add(bottleneck_base_model)\n",
    "bottleneck_final_model.add(bottleneck_top_model)"
   ]
  },
  {
   "cell_type": "code",
   "execution_count": 9,
   "metadata": {},
   "outputs": [],
   "source": [
    "bottleneck_features_train = bottleneck_final_model.predict_generator(train_generator, predict_size_train, max_q_size=1, pickle_safe=False)\n",
    "np.save(extracted_features_dir+'bottleneck_features_train_'+model_name+'.npy', bottleneck_features_train)"
   ]
  },
  {
   "cell_type": "code",
   "execution_count": 10,
   "metadata": {},
   "outputs": [],
   "source": [
    "bottleneck_features_validation = bottleneck_final_model.predict_generator(validation_generator, predict_size_validation)\n",
    "np.save(extracted_features_dir+'bottleneck_features_validation_'+model_name+'.npy', bottleneck_features_validation)"
   ]
  },
  {
   "cell_type": "code",
   "execution_count": 11,
   "metadata": {},
   "outputs": [
    {
     "name": "stdout",
     "output_type": "stream",
     "text": [
      "Found 1792 images belonging to 4 classes.\n"
     ]
    }
   ],
   "source": [
    "test_datagen = ImageDataGenerator(rescale=1. / 255)\n",
    "test_generator = test_datagen.flow_from_directory(\n",
    "    test_dir,\n",
    "    target_size=(img_height, img_width),\n",
    "    batch_size=batch_size,\n",
    "    seed = random_seed,\n",
    "    shuffle = False,\n",
    "    class_mode='categorical')"
   ]
  },
  {
   "cell_type": "code",
   "execution_count": 12,
   "metadata": {},
   "outputs": [
    {
     "name": "stdout",
     "output_type": "stream",
     "text": [
      "nb_test_samples: 1792\n",
      "predict_size_test: 56\n"
     ]
    }
   ],
   "source": [
    "nb_test_samples = len(test_generator.filenames)\n",
    "predict_size_test = int(math.ceil(nb_test_samples / batch_size))\n",
    "\n",
    "print(\"nb_test_samples:\", nb_test_samples)\n",
    "print(\"predict_size_test:\", predict_size_test)"
   ]
  },
  {
   "cell_type": "code",
   "execution_count": 13,
   "metadata": {},
   "outputs": [],
   "source": [
    "bottleneck_features_test = bottleneck_final_model.predict_generator(test_generator, predict_size_test)\n",
    "np.save(extracted_features_dir+'bottleneck_features_test_'+model_name+'.npy', bottleneck_features_test)"
   ]
  },
  {
   "cell_type": "code",
   "execution_count": 14,
   "metadata": {},
   "outputs": [],
   "source": [
    "train_data = np.load(extracted_features_dir+'bottleneck_features_train_'+model_name+'.npy')\n",
    "validation_data = np.load(extracted_features_dir+'bottleneck_features_validation_'+model_name+'.npy')\n",
    "\n",
    "train_labels = train_generator.classes\n",
    "train_labels = to_categorical(train_labels, num_classes=num_classes)\n",
    "\n",
    "validation_labels = validation_generator.classes\n",
    "validation_labels = to_categorical(validation_labels, num_classes=num_classes)"
   ]
  },
  {
   "cell_type": "code",
   "execution_count": 47,
   "metadata": {
    "scrolled": false
   },
   "outputs": [
    {
     "name": "stdout",
     "output_type": "stream",
     "text": [
      "Train on 3456 samples, validate on 1152 samples\n",
      "Epoch 1/200\n",
      " - 7s - loss: 1.2538 - acc: 0.4650 - val_loss: 0.8101 - val_acc: 0.7222\n",
      "Epoch 2/200\n",
      " - 2s - loss: 0.7826 - acc: 0.6869 - val_loss: 0.6135 - val_acc: 0.7925\n",
      "Epoch 3/200\n",
      " - 2s - loss: 0.5804 - acc: 0.7940 - val_loss: 0.4673 - val_acc: 0.8715\n",
      "Epoch 4/200\n",
      " - 2s - loss: 0.4424 - acc: 0.8547 - val_loss: 0.3759 - val_acc: 0.8906\n",
      "Epoch 5/200\n",
      " - 2s - loss: 0.3444 - acc: 0.8935 - val_loss: 0.3194 - val_acc: 0.9062\n",
      "Epoch 6/200\n",
      " - 2s - loss: 0.2763 - acc: 0.9219 - val_loss: 0.2584 - val_acc: 0.9384\n",
      "Epoch 7/200\n",
      " - 2s - loss: 0.2213 - acc: 0.9439 - val_loss: 0.2180 - val_acc: 0.9462\n",
      "Epoch 8/200\n",
      " - 2s - loss: 0.1826 - acc: 0.9609 - val_loss: 0.1866 - val_acc: 0.9583\n",
      "Epoch 9/200\n",
      " - 2s - loss: 0.1537 - acc: 0.9647 - val_loss: 0.1632 - val_acc: 0.9609\n",
      "Epoch 10/200\n",
      " - 2s - loss: 0.1249 - acc: 0.9786 - val_loss: 0.1415 - val_acc: 0.9757\n",
      "Epoch 11/200\n",
      " - 2s - loss: 0.1093 - acc: 0.9792 - val_loss: 0.1279 - val_acc: 0.9731\n",
      "Epoch 12/200\n",
      " - 2s - loss: 0.0973 - acc: 0.9852 - val_loss: 0.1134 - val_acc: 0.9809\n",
      "Epoch 13/200\n",
      " - 2s - loss: 0.0781 - acc: 0.9899 - val_loss: 0.1046 - val_acc: 0.9826\n",
      "Epoch 14/200\n",
      " - 2s - loss: 0.0736 - acc: 0.9907 - val_loss: 0.0919 - val_acc: 0.9861\n",
      "Epoch 15/200\n",
      " - 2s - loss: 0.0647 - acc: 0.9919 - val_loss: 0.0844 - val_acc: 0.9870\n",
      "Epoch 16/200\n",
      " - 2s - loss: 0.0586 - acc: 0.9942 - val_loss: 0.0833 - val_acc: 0.9861\n",
      "Epoch 17/200\n",
      " - 2s - loss: 0.0507 - acc: 0.9957 - val_loss: 0.0710 - val_acc: 0.9896\n",
      "Epoch 18/200\n",
      " - 2s - loss: 0.0442 - acc: 0.9971 - val_loss: 0.0712 - val_acc: 0.9870\n",
      "Epoch 19/200\n",
      " - 2s - loss: 0.0400 - acc: 0.9965 - val_loss: 0.0624 - val_acc: 0.9931\n",
      "Epoch 20/200\n",
      " - 2s - loss: 0.0340 - acc: 0.9986 - val_loss: 0.0584 - val_acc: 0.9922\n",
      "Epoch 21/200\n",
      " - 2s - loss: 0.0319 - acc: 0.9974 - val_loss: 0.0565 - val_acc: 0.9878\n",
      "Epoch 22/200\n",
      " - 2s - loss: 0.0293 - acc: 0.9983 - val_loss: 0.0522 - val_acc: 0.9887\n",
      "Epoch 23/200\n",
      " - 2s - loss: 0.0265 - acc: 0.9994 - val_loss: 0.0496 - val_acc: 0.9896\n",
      "Epoch 24/200\n",
      " - 2s - loss: 0.0258 - acc: 0.9991 - val_loss: 0.0460 - val_acc: 0.9922\n",
      "Epoch 25/200\n",
      " - 2s - loss: 0.0220 - acc: 0.9994 - val_loss: 0.0426 - val_acc: 0.9913\n",
      "Epoch 26/200\n",
      " - 2s - loss: 0.0207 - acc: 0.9991 - val_loss: 0.0413 - val_acc: 0.9931\n",
      "Epoch 27/200\n",
      " - 2s - loss: 0.0176 - acc: 0.9991 - val_loss: 0.0400 - val_acc: 0.9931\n",
      "Epoch 28/200\n",
      " - 2s - loss: 0.0172 - acc: 0.9994 - val_loss: 0.0380 - val_acc: 0.9948\n",
      "Epoch 29/200\n",
      " - 2s - loss: 0.0170 - acc: 0.9994 - val_loss: 0.0382 - val_acc: 0.9931\n",
      "Epoch 30/200\n",
      " - 2s - loss: 0.0156 - acc: 0.9997 - val_loss: 0.0357 - val_acc: 0.9922\n",
      "Epoch 31/200\n",
      " - 2s - loss: 0.0141 - acc: 1.0000 - val_loss: 0.0357 - val_acc: 0.9931\n",
      "Epoch 32/200\n",
      " - 2s - loss: 0.0127 - acc: 0.9994 - val_loss: 0.0326 - val_acc: 0.9948\n",
      "Epoch 33/200\n",
      " - 2s - loss: 0.0114 - acc: 0.9997 - val_loss: 0.0313 - val_acc: 0.9931\n",
      "Epoch 34/200\n",
      " - 2s - loss: 0.0125 - acc: 1.0000 - val_loss: 0.0301 - val_acc: 0.9939\n",
      "Epoch 35/200\n",
      " - 2s - loss: 0.0111 - acc: 0.9997 - val_loss: 0.0277 - val_acc: 0.9957\n",
      "Epoch 36/200\n",
      " - 2s - loss: 0.0099 - acc: 0.9997 - val_loss: 0.0283 - val_acc: 0.9939\n",
      "Epoch 37/200\n",
      " - 2s - loss: 0.0086 - acc: 1.0000 - val_loss: 0.0278 - val_acc: 0.9948\n",
      "Epoch 38/200\n",
      " - 2s - loss: 0.0081 - acc: 1.0000 - val_loss: 0.0293 - val_acc: 0.9939\n",
      "Epoch 39/200\n",
      " - 2s - loss: 0.0086 - acc: 0.9997 - val_loss: 0.0262 - val_acc: 0.9948\n",
      "Epoch 40/200\n",
      " - 2s - loss: 0.0074 - acc: 1.0000 - val_loss: 0.0257 - val_acc: 0.9948\n",
      "Epoch 41/200\n",
      " - 3s - loss: 0.0073 - acc: 1.0000 - val_loss: 0.0258 - val_acc: 0.9948\n",
      "Epoch 42/200\n",
      " - 2s - loss: 0.0074 - acc: 0.9997 - val_loss: 0.0249 - val_acc: 0.9948\n",
      "Epoch 43/200\n",
      " - 3s - loss: 0.0060 - acc: 1.0000 - val_loss: 0.0228 - val_acc: 0.9948\n",
      "Epoch 44/200\n",
      " - 2s - loss: 0.0064 - acc: 1.0000 - val_loss: 0.0235 - val_acc: 0.9948\n",
      "Epoch 45/200\n",
      " - 2s - loss: 0.0053 - acc: 1.0000 - val_loss: 0.0222 - val_acc: 0.9939\n",
      "Epoch 46/200\n",
      " - 3s - loss: 0.0059 - acc: 1.0000 - val_loss: 0.0213 - val_acc: 0.9939\n",
      "Epoch 47/200\n",
      " - 2s - loss: 0.0050 - acc: 1.0000 - val_loss: 0.0196 - val_acc: 0.9957\n",
      "Epoch 48/200\n",
      " - 2s - loss: 0.0048 - acc: 1.0000 - val_loss: 0.0189 - val_acc: 0.9957\n",
      "Epoch 49/200\n",
      " - 2s - loss: 0.0050 - acc: 1.0000 - val_loss: 0.0200 - val_acc: 0.9948\n",
      "Epoch 50/200\n",
      " - 2s - loss: 0.0043 - acc: 0.9997 - val_loss: 0.0221 - val_acc: 0.9948\n",
      "Epoch 51/200\n",
      " - 2s - loss: 0.0043 - acc: 1.0000 - val_loss: 0.0181 - val_acc: 0.9957\n",
      "Epoch 52/200\n",
      " - 2s - loss: 0.0041 - acc: 1.0000 - val_loss: 0.0207 - val_acc: 0.9948\n",
      "Epoch 53/200\n",
      " - 2s - loss: 0.0041 - acc: 0.9997 - val_loss: 0.0194 - val_acc: 0.9957\n",
      "Epoch 54/200\n",
      " - 2s - loss: 0.0040 - acc: 1.0000 - val_loss: 0.0211 - val_acc: 0.9939\n",
      "Epoch 55/200\n",
      " - 2s - loss: 0.0036 - acc: 0.9997 - val_loss: 0.0196 - val_acc: 0.9948\n",
      "Epoch 56/200\n",
      " - 2s - loss: 0.0030 - acc: 1.0000 - val_loss: 0.0168 - val_acc: 0.9957\n",
      "Epoch 57/200\n",
      " - 2s - loss: 0.0029 - acc: 1.0000 - val_loss: 0.0169 - val_acc: 0.9957\n",
      "Epoch 58/200\n",
      " - 2s - loss: 0.0025 - acc: 1.0000 - val_loss: 0.0181 - val_acc: 0.9957\n",
      "Epoch 59/200\n",
      " - 2s - loss: 0.0026 - acc: 1.0000 - val_loss: 0.0160 - val_acc: 0.9965\n",
      "Epoch 60/200\n",
      " - 2s - loss: 0.0030 - acc: 1.0000 - val_loss: 0.0156 - val_acc: 0.9957\n",
      "Epoch 61/200\n",
      " - 2s - loss: 0.0022 - acc: 1.0000 - val_loss: 0.0166 - val_acc: 0.9948\n",
      "Epoch 62/200\n",
      " - 2s - loss: 0.0038 - acc: 0.9997 - val_loss: 0.0180 - val_acc: 0.9948\n",
      "Epoch 63/200\n",
      " - 2s - loss: 0.0024 - acc: 1.0000 - val_loss: 0.0186 - val_acc: 0.9957\n",
      "Epoch 64/200\n",
      " - 2s - loss: 0.0022 - acc: 1.0000 - val_loss: 0.0158 - val_acc: 0.9957\n",
      "Epoch 65/200\n",
      " - 2s - loss: 0.0018 - acc: 1.0000 - val_loss: 0.0150 - val_acc: 0.9948\n",
      "Epoch 66/200\n",
      " - 2s - loss: 0.0021 - acc: 1.0000 - val_loss: 0.0165 - val_acc: 0.9948\n",
      "Epoch 67/200\n",
      " - 2s - loss: 0.0029 - acc: 1.0000 - val_loss: 0.0171 - val_acc: 0.9957\n",
      "Epoch 68/200\n",
      " - 2s - loss: 0.0022 - acc: 1.0000 - val_loss: 0.0155 - val_acc: 0.9957\n",
      "Epoch 69/200\n",
      " - 2s - loss: 0.0014 - acc: 1.0000 - val_loss: 0.0157 - val_acc: 0.9948\n",
      "Epoch 70/200\n",
      " - 2s - loss: 0.0017 - acc: 1.0000 - val_loss: 0.0141 - val_acc: 0.9957\n",
      "Epoch 71/200\n",
      " - 2s - loss: 0.0019 - acc: 1.0000 - val_loss: 0.0142 - val_acc: 0.9957\n",
      "Epoch 72/200\n",
      " - 2s - loss: 0.0017 - acc: 1.0000 - val_loss: 0.0144 - val_acc: 0.9957\n",
      "Epoch 73/200\n",
      " - 2s - loss: 0.0014 - acc: 1.0000 - val_loss: 0.0155 - val_acc: 0.9957\n",
      "Epoch 74/200\n",
      " - 2s - loss: 0.0012 - acc: 1.0000 - val_loss: 0.0148 - val_acc: 0.9957\n",
      "Epoch 75/200\n",
      " - 2s - loss: 0.0011 - acc: 1.0000 - val_loss: 0.0159 - val_acc: 0.9957\n",
      "Epoch 76/200\n",
      " - 2s - loss: 0.0010 - acc: 1.0000 - val_loss: 0.0133 - val_acc: 0.9948\n",
      "Epoch 77/200\n",
      " - 2s - loss: 0.0013 - acc: 1.0000 - val_loss: 0.0132 - val_acc: 0.9948\n",
      "Epoch 78/200\n",
      " - 2s - loss: 0.0011 - acc: 1.0000 - val_loss: 0.0117 - val_acc: 0.9957\n",
      "Epoch 79/200\n",
      " - 2s - loss: 0.0011 - acc: 1.0000 - val_loss: 0.0107 - val_acc: 0.9965\n",
      "Epoch 80/200\n",
      " - 2s - loss: 0.0010 - acc: 1.0000 - val_loss: 0.0111 - val_acc: 0.9957\n",
      "Epoch 81/200\n",
      " - 2s - loss: 9.0139e-04 - acc: 1.0000 - val_loss: 0.0133 - val_acc: 0.9948\n",
      "Epoch 82/200\n",
      " - 3s - loss: 8.5367e-04 - acc: 1.0000 - val_loss: 0.0114 - val_acc: 0.9965\n",
      "Epoch 83/200\n",
      " - 2s - loss: 8.6156e-04 - acc: 1.0000 - val_loss: 0.0143 - val_acc: 0.9939\n",
      "Epoch 84/200\n",
      " - 2s - loss: 8.8608e-04 - acc: 1.0000 - val_loss: 0.0129 - val_acc: 0.9957\n",
      "Epoch 85/200\n",
      " - 2s - loss: 8.7595e-04 - acc: 1.0000 - val_loss: 0.0117 - val_acc: 0.9965\n",
      "Epoch 86/200\n",
      " - 2s - loss: 8.5396e-04 - acc: 1.0000 - val_loss: 0.0112 - val_acc: 0.9957\n",
      "Epoch 87/200\n",
      " - 2s - loss: 6.9061e-04 - acc: 1.0000 - val_loss: 0.0149 - val_acc: 0.9957\n",
      "Epoch 88/200\n",
      " - 2s - loss: 6.7951e-04 - acc: 1.0000 - val_loss: 0.0094 - val_acc: 0.9957\n",
      "Epoch 89/200\n",
      " - 2s - loss: 5.7875e-04 - acc: 1.0000 - val_loss: 0.0097 - val_acc: 0.9957\n",
      "Epoch 90/200\n",
      " - 2s - loss: 6.6991e-04 - acc: 1.0000 - val_loss: 0.0112 - val_acc: 0.9957\n",
      "Epoch 91/200\n",
      " - 2s - loss: 5.6081e-04 - acc: 1.0000 - val_loss: 0.0102 - val_acc: 0.9957\n",
      "Epoch 92/200\n",
      " - 2s - loss: 5.6432e-04 - acc: 1.0000 - val_loss: 0.0103 - val_acc: 0.9957\n",
      "Epoch 93/200\n",
      " - 2s - loss: 5.7298e-04 - acc: 1.0000 - val_loss: 0.0109 - val_acc: 0.9965\n",
      "Epoch 94/200\n",
      " - 2s - loss: 4.8844e-04 - acc: 1.0000 - val_loss: 0.0109 - val_acc: 0.9974\n",
      "Epoch 95/200\n",
      " - 2s - loss: 4.4719e-04 - acc: 1.0000 - val_loss: 0.0099 - val_acc: 0.9948\n",
      "Epoch 96/200\n",
      " - 2s - loss: 4.6556e-04 - acc: 1.0000 - val_loss: 0.0106 - val_acc: 0.9957\n"
     ]
    },
    {
     "name": "stdout",
     "output_type": "stream",
     "text": [
      "Epoch 97/200\n",
      " - 2s - loss: 5.1293e-04 - acc: 1.0000 - val_loss: 0.0108 - val_acc: 0.9948\n",
      "Epoch 98/200\n",
      " - 2s - loss: 4.4068e-04 - acc: 1.0000 - val_loss: 0.0107 - val_acc: 0.9948\n",
      "Epoch 99/200\n",
      " - 2s - loss: 3.9821e-04 - acc: 1.0000 - val_loss: 0.0106 - val_acc: 0.9957\n",
      "Epoch 100/200\n",
      " - 2s - loss: 4.0653e-04 - acc: 1.0000 - val_loss: 0.0105 - val_acc: 0.9948\n",
      "Epoch 101/200\n",
      " - 2s - loss: 3.9411e-04 - acc: 1.0000 - val_loss: 0.0099 - val_acc: 0.9957\n",
      "Epoch 102/200\n",
      " - 2s - loss: 7.3816e-04 - acc: 1.0000 - val_loss: 0.0114 - val_acc: 0.9948\n",
      "Epoch 103/200\n",
      " - 2s - loss: 4.0919e-04 - acc: 1.0000 - val_loss: 0.0103 - val_acc: 0.9974\n",
      "Epoch 104/200\n",
      " - 2s - loss: 4.4807e-04 - acc: 1.0000 - val_loss: 0.0103 - val_acc: 0.9957\n",
      "Epoch 105/200\n",
      " - 2s - loss: 5.5902e-04 - acc: 1.0000 - val_loss: 0.0124 - val_acc: 0.9957\n",
      "Epoch 106/200\n",
      " - 2s - loss: 4.4027e-04 - acc: 1.0000 - val_loss: 0.0109 - val_acc: 0.9948\n",
      "Epoch 107/200\n",
      " - 2s - loss: 3.3648e-04 - acc: 1.0000 - val_loss: 0.0120 - val_acc: 0.9948\n",
      "Epoch 108/200\n",
      " - 2s - loss: 2.5593e-04 - acc: 1.0000 - val_loss: 0.0107 - val_acc: 0.9957\n",
      "Epoch 109/200\n",
      " - 2s - loss: 2.4037e-04 - acc: 1.0000 - val_loss: 0.0103 - val_acc: 0.9948\n",
      "Epoch 110/200\n",
      " - 2s - loss: 2.9848e-04 - acc: 1.0000 - val_loss: 0.0108 - val_acc: 0.9948\n",
      "Epoch 111/200\n",
      " - 2s - loss: 2.9820e-04 - acc: 1.0000 - val_loss: 0.0099 - val_acc: 0.9965\n",
      "Epoch 112/200\n",
      " - 2s - loss: 2.6184e-04 - acc: 1.0000 - val_loss: 0.0118 - val_acc: 0.9957\n",
      "Epoch 113/200\n",
      " - 2s - loss: 2.4217e-04 - acc: 1.0000 - val_loss: 0.0106 - val_acc: 0.9948\n",
      "Epoch 114/200\n",
      " - 2s - loss: 2.4863e-04 - acc: 1.0000 - val_loss: 0.0105 - val_acc: 0.9957\n",
      "Epoch 115/200\n",
      " - 2s - loss: 1.8721e-04 - acc: 1.0000 - val_loss: 0.0103 - val_acc: 0.9957\n",
      "Epoch 116/200\n",
      " - 2s - loss: 2.2932e-04 - acc: 1.0000 - val_loss: 0.0096 - val_acc: 0.9957\n",
      "Epoch 117/200\n",
      " - 2s - loss: 3.3588e-04 - acc: 1.0000 - val_loss: 0.0090 - val_acc: 0.9957\n",
      "Epoch 118/200\n",
      " - 2s - loss: 3.3133e-04 - acc: 1.0000 - val_loss: 0.0113 - val_acc: 0.9965\n",
      "Epoch 119/200\n",
      " - 2s - loss: 2.9321e-04 - acc: 1.0000 - val_loss: 0.0082 - val_acc: 0.9948\n",
      "Epoch 120/200\n",
      " - 2s - loss: 2.0518e-04 - acc: 1.0000 - val_loss: 0.0089 - val_acc: 0.9965\n",
      "Epoch 121/200\n",
      " - 2s - loss: 3.1331e-04 - acc: 1.0000 - val_loss: 0.0093 - val_acc: 0.9957\n",
      "Epoch 122/200\n",
      " - 2s - loss: 6.6731e-04 - acc: 1.0000 - val_loss: 0.0085 - val_acc: 0.9948\n",
      "Epoch 123/200\n",
      " - 2s - loss: 3.4454e-04 - acc: 1.0000 - val_loss: 0.0077 - val_acc: 0.9974\n",
      "Epoch 124/200\n",
      " - 2s - loss: 1.7297e-04 - acc: 1.0000 - val_loss: 0.0081 - val_acc: 0.9965\n",
      "Epoch 125/200\n",
      " - 2s - loss: 1.7376e-04 - acc: 1.0000 - val_loss: 0.0093 - val_acc: 0.9957\n",
      "Epoch 126/200\n",
      " - 2s - loss: 1.6274e-04 - acc: 1.0000 - val_loss: 0.0077 - val_acc: 0.9974\n",
      "Epoch 127/200\n",
      " - 2s - loss: 1.3641e-04 - acc: 1.0000 - val_loss: 0.0084 - val_acc: 0.9965\n",
      "Epoch 128/200\n",
      " - 2s - loss: 1.2931e-04 - acc: 1.0000 - val_loss: 0.0090 - val_acc: 0.9957\n",
      "Epoch 129/200\n",
      " - 2s - loss: 1.3305e-04 - acc: 1.0000 - val_loss: 0.0106 - val_acc: 0.9957\n",
      "Epoch 130/200\n",
      " - 2s - loss: 1.1642e-04 - acc: 1.0000 - val_loss: 0.0076 - val_acc: 0.9974\n",
      "Epoch 131/200\n",
      " - 2s - loss: 8.7282e-05 - acc: 1.0000 - val_loss: 0.0084 - val_acc: 0.9965\n",
      "Epoch 132/200\n",
      " - 2s - loss: 7.9990e-05 - acc: 1.0000 - val_loss: 0.0077 - val_acc: 0.9974\n",
      "Epoch 133/200\n",
      " - 2s - loss: 9.8449e-05 - acc: 1.0000 - val_loss: 0.0088 - val_acc: 0.9965\n",
      "Epoch 134/200\n",
      " - 2s - loss: 1.7741e-04 - acc: 1.0000 - val_loss: 0.0098 - val_acc: 0.9957\n",
      "Epoch 135/200\n",
      " - 2s - loss: 1.6995e-04 - acc: 1.0000 - val_loss: 0.0063 - val_acc: 0.9965\n",
      "Epoch 136/200\n",
      " - 2s - loss: 2.3834e-04 - acc: 1.0000 - val_loss: 0.0110 - val_acc: 0.9948\n",
      "Epoch 137/200\n",
      " - 2s - loss: 2.1225e-04 - acc: 1.0000 - val_loss: 0.0083 - val_acc: 0.9965\n",
      "Epoch 138/200\n",
      " - 2s - loss: 1.1044e-04 - acc: 1.0000 - val_loss: 0.0078 - val_acc: 0.9983\n",
      "Epoch 139/200\n",
      " - 2s - loss: 4.0716e-04 - acc: 1.0000 - val_loss: 0.0120 - val_acc: 0.9965\n",
      "Epoch 140/200\n",
      " - 2s - loss: 3.7682e-04 - acc: 1.0000 - val_loss: 0.0086 - val_acc: 0.9974\n",
      "Epoch 141/200\n",
      " - 2s - loss: 1.4808e-04 - acc: 1.0000 - val_loss: 0.0098 - val_acc: 0.9965\n",
      "Epoch 142/200\n",
      " - 2s - loss: 1.2781e-04 - acc: 1.0000 - val_loss: 0.0077 - val_acc: 0.9974\n",
      "Epoch 143/200\n",
      " - 2s - loss: 1.1544e-04 - acc: 1.0000 - val_loss: 0.0066 - val_acc: 0.9983\n",
      "Epoch 144/200\n",
      " - 2s - loss: 7.8452e-05 - acc: 1.0000 - val_loss: 0.0079 - val_acc: 0.9965\n",
      "Epoch 145/200\n",
      " - 2s - loss: 1.0413e-04 - acc: 1.0000 - val_loss: 0.0084 - val_acc: 0.9965\n",
      "Epoch 146/200\n",
      " - 2s - loss: 8.0667e-05 - acc: 1.0000 - val_loss: 0.0069 - val_acc: 0.9974\n",
      "Epoch 147/200\n",
      " - 2s - loss: 1.3884e-04 - acc: 1.0000 - val_loss: 0.0094 - val_acc: 0.9974\n",
      "Epoch 148/200\n",
      " - 2s - loss: 1.1090e-04 - acc: 1.0000 - val_loss: 0.0069 - val_acc: 0.9965\n",
      "Epoch 149/200\n",
      " - 2s - loss: 1.1784e-04 - acc: 1.0000 - val_loss: 0.0092 - val_acc: 0.9965\n",
      "Epoch 150/200\n",
      " - 2s - loss: 7.9506e-05 - acc: 1.0000 - val_loss: 0.0088 - val_acc: 0.9965\n",
      "Epoch 151/200\n",
      " - 2s - loss: 6.1528e-05 - acc: 1.0000 - val_loss: 0.0080 - val_acc: 0.9957\n",
      "Epoch 152/200\n",
      " - 2s - loss: 4.8691e-05 - acc: 1.0000 - val_loss: 0.0070 - val_acc: 0.9974\n",
      "Epoch 153/200\n",
      " - 2s - loss: 4.4161e-05 - acc: 1.0000 - val_loss: 0.0077 - val_acc: 0.9965\n",
      "Epoch 154/200\n",
      " - 2s - loss: 4.0932e-05 - acc: 1.0000 - val_loss: 0.0071 - val_acc: 0.9965\n",
      "Epoch 155/200\n",
      " - 2s - loss: 6.7759e-05 - acc: 1.0000 - val_loss: 0.0060 - val_acc: 0.9974\n",
      "Epoch 156/200\n",
      " - 2s - loss: 6.8981e-05 - acc: 1.0000 - val_loss: 0.0069 - val_acc: 0.9965\n",
      "Epoch 157/200\n",
      " - 2s - loss: 4.8577e-05 - acc: 1.0000 - val_loss: 0.0066 - val_acc: 0.9983\n",
      "Epoch 158/200\n",
      " - 2s - loss: 4.7404e-05 - acc: 1.0000 - val_loss: 0.0073 - val_acc: 0.9965\n",
      "Epoch 159/200\n",
      " - 2s - loss: 4.4772e-05 - acc: 1.0000 - val_loss: 0.0082 - val_acc: 0.9974\n",
      "Epoch 160/200\n",
      " - 2s - loss: 4.3622e-05 - acc: 1.0000 - val_loss: 0.0070 - val_acc: 0.9965\n",
      "Epoch 161/200\n",
      " - 2s - loss: 3.2741e-05 - acc: 1.0000 - val_loss: 0.0069 - val_acc: 0.9965\n",
      "Epoch 162/200\n",
      " - 2s - loss: 8.0158e-05 - acc: 1.0000 - val_loss: 0.0072 - val_acc: 0.9974\n",
      "Epoch 163/200\n",
      " - 2s - loss: 5.2927e-05 - acc: 1.0000 - val_loss: 0.0069 - val_acc: 0.9974\n",
      "Epoch 164/200\n",
      " - 2s - loss: 4.6837e-05 - acc: 1.0000 - val_loss: 0.0056 - val_acc: 0.9974\n",
      "Epoch 165/200\n",
      " - 2s - loss: 3.4307e-05 - acc: 1.0000 - val_loss: 0.0063 - val_acc: 0.9974\n",
      "Epoch 166/200\n",
      " - 2s - loss: 3.1221e-05 - acc: 1.0000 - val_loss: 0.0066 - val_acc: 0.9974\n",
      "Epoch 167/200\n",
      " - 2s - loss: 3.4394e-05 - acc: 1.0000 - val_loss: 0.0057 - val_acc: 0.9983\n",
      "Epoch 168/200\n",
      " - 2s - loss: 3.0781e-05 - acc: 1.0000 - val_loss: 0.0058 - val_acc: 0.9983\n",
      "Epoch 169/200\n",
      " - 2s - loss: 9.8736e-05 - acc: 1.0000 - val_loss: 0.0059 - val_acc: 0.9983\n",
      "Epoch 170/200\n",
      " - 2s - loss: 6.5790e-05 - acc: 1.0000 - val_loss: 0.0050 - val_acc: 0.9983\n",
      "Epoch 171/200\n",
      " - 2s - loss: 4.5026e-05 - acc: 1.0000 - val_loss: 0.0059 - val_acc: 0.9974\n",
      "Epoch 172/200\n",
      " - 2s - loss: 2.8136e-05 - acc: 1.0000 - val_loss: 0.0052 - val_acc: 0.9983\n",
      "Epoch 173/200\n",
      " - 2s - loss: 2.8460e-05 - acc: 1.0000 - val_loss: 0.0052 - val_acc: 0.9965\n",
      "Epoch 174/200\n",
      " - 2s - loss: 2.9481e-05 - acc: 1.0000 - val_loss: 0.0052 - val_acc: 0.9983\n",
      "Epoch 175/200\n",
      " - 2s - loss: 3.0138e-05 - acc: 1.0000 - val_loss: 0.0065 - val_acc: 0.9983\n",
      "Epoch 176/200\n",
      " - 2s - loss: 1.4626e-04 - acc: 1.0000 - val_loss: 0.0059 - val_acc: 0.9983\n",
      "Epoch 177/200\n",
      " - 2s - loss: 0.0010 - acc: 0.9997 - val_loss: 0.0108 - val_acc: 0.9957\n",
      "Epoch 178/200\n",
      " - 2s - loss: 3.9612e-04 - acc: 1.0000 - val_loss: 0.0102 - val_acc: 0.9965\n",
      "Epoch 179/200\n",
      " - 2s - loss: 1.0020e-04 - acc: 1.0000 - val_loss: 0.0095 - val_acc: 0.9974\n",
      "Epoch 180/200\n",
      " - 3s - loss: 4.7670e-05 - acc: 1.0000 - val_loss: 0.0077 - val_acc: 0.9991\n",
      "Epoch 181/200\n",
      " - 2s - loss: 5.3902e-05 - acc: 1.0000 - val_loss: 0.0076 - val_acc: 0.9974\n",
      "Epoch 182/200\n",
      " - 3s - loss: 4.3319e-05 - acc: 1.0000 - val_loss: 0.0073 - val_acc: 0.9974\n",
      "Epoch 183/200\n",
      " - 2s - loss: 3.8718e-05 - acc: 1.0000 - val_loss: 0.0072 - val_acc: 0.9983\n",
      "Epoch 184/200\n",
      " - 2s - loss: 3.0307e-05 - acc: 1.0000 - val_loss: 0.0082 - val_acc: 0.9983\n",
      "Epoch 185/200\n",
      " - 2s - loss: 2.8463e-05 - acc: 1.0000 - val_loss: 0.0071 - val_acc: 0.9991\n",
      "Epoch 186/200\n",
      " - 2s - loss: 4.3336e-05 - acc: 1.0000 - val_loss: 0.0077 - val_acc: 0.9983\n",
      "Epoch 187/200\n",
      " - 2s - loss: 3.8328e-05 - acc: 1.0000 - val_loss: 0.0064 - val_acc: 0.9983\n",
      "Epoch 188/200\n"
     ]
    },
    {
     "name": "stdout",
     "output_type": "stream",
     "text": [
      " - 2s - loss: 3.3836e-05 - acc: 1.0000 - val_loss: 0.0068 - val_acc: 0.9974\n",
      "Epoch 189/200\n",
      " - 3s - loss: 3.4466e-05 - acc: 1.0000 - val_loss: 0.0066 - val_acc: 0.9974\n",
      "Epoch 190/200\n",
      " - 3s - loss: 3.9512e-05 - acc: 1.0000 - val_loss: 0.0062 - val_acc: 0.9974\n",
      "Epoch 191/200\n",
      " - 2s - loss: 3.1985e-05 - acc: 1.0000 - val_loss: 0.0061 - val_acc: 0.9983\n",
      "Epoch 192/200\n",
      " - 2s - loss: 2.2737e-05 - acc: 1.0000 - val_loss: 0.0062 - val_acc: 0.9991\n",
      "Epoch 193/200\n",
      " - 2s - loss: 2.3030e-05 - acc: 1.0000 - val_loss: 0.0071 - val_acc: 0.9974\n",
      "Epoch 194/200\n",
      " - 2s - loss: 4.7731e-05 - acc: 1.0000 - val_loss: 0.0064 - val_acc: 0.9983\n",
      "Epoch 195/200\n",
      " - 2s - loss: 3.5618e-05 - acc: 1.0000 - val_loss: 0.0066 - val_acc: 0.9983\n",
      "Epoch 196/200\n",
      " - 2s - loss: 1.8990e-05 - acc: 1.0000 - val_loss: 0.0065 - val_acc: 0.9974\n",
      "Epoch 197/200\n",
      " - 2s - loss: 2.6468e-05 - acc: 1.0000 - val_loss: 0.0064 - val_acc: 0.9974\n",
      "Epoch 198/200\n",
      " - 2s - loss: 1.8347e-05 - acc: 1.0000 - val_loss: 0.0064 - val_acc: 0.9974\n",
      "Epoch 199/200\n",
      " - 2s - loss: 5.9179e-05 - acc: 1.0000 - val_loss: 0.0070 - val_acc: 0.9983\n",
      "Epoch 200/200\n",
      " - 2s - loss: 2.9207e-05 - acc: 1.0000 - val_loss: 0.0065 - val_acc: 0.9983\n"
     ]
    }
   ],
   "source": [
    "model = Sequential()\n",
    "model.add(Flatten(input_shape=train_data.shape[1:]))\n",
    "model.add(Dense(256, activation='relu'))\n",
    "model.add(Dropout(0.5))\n",
    "model.add(Dense(num_classes, activation='softmax'))\n",
    "\n",
    "model.compile(optimizer=optimizers.Adam(lr=0.00001),loss='categorical_crossentropy', metrics=['accuracy'])\n",
    "\n",
    "history = model.fit(train_data, train_labels,\n",
    "                    epochs=epochs,\n",
    "                    batch_size=batch_size,\n",
    "                    validation_data=(validation_data, validation_labels),\n",
    "                    verbose= 2)\n",
    "\n",
    "with open(extracted_features_dir+'history_'+model_name+'.txt','w') as f:\n",
    "    f.write(str(history.history))\n",
    "\n",
    "model.save_weights(top_model_weights_path)\n",
    "model.save(top_model_path)"
   ]
  },
  {
   "cell_type": "code",
   "execution_count": 48,
   "metadata": {},
   "outputs": [
    {
     "data": {
      "image/png": "[encoded data removed]",
      "text/plain": [
       "<Figure size 432x288 with 1 Axes>"
      ]
     },
     "metadata": {},
     "output_type": "display_data"
    },
    {
     "data": {
      "image/png": "[encoded data removed]",
      "text/plain": [
       "<Figure size 432x288 with 1 Axes>"
      ]
     },
     "metadata": {},
     "output_type": "display_data"
    },
    {
     "data": {
      "text/plain": [
       "<matplotlib.legend.Legend at 0x171eac6be48>"
      ]
     },
     "execution_count": 48,
     "metadata": {},
     "output_type": "execute_result"
    },
    {
     "data": {
      "image/png": "[encoded data removed]",
      "text/plain": [
       "<Figure size 432x288 with 1 Axes>"
      ]
     },
     "metadata": {},
     "output_type": "display_data"
    }
   ],
   "source": [
    "import seaborn\n",
    "plt.style.use('seaborn-white')\n",
    "\n",
    "plt.plot(history.history['acc'])\n",
    "plt.plot(history.history['val_acc'])\n",
    "plt.title('model accuracy')\n",
    "plt.ylabel('Accuracy')\n",
    "plt.xlabel('Epoch')\n",
    "plt.legend(['Training Acc', 'Test Acc'], loc='upper left')\n",
    "plt.show()\n",
    "\n",
    "# summarize history for loss\n",
    "plt.plot(history.history['loss'])\n",
    "plt.plot(history.history['val_loss'])\n",
    "plt.title('model loss')\n",
    "plt.ylabel('Loss')\n",
    "plt.xlabel('Epoch')\n",
    "plt.legend(['Training Loss', 'Test Loss'], loc='upper left')\n",
    "plt.show()\n",
    "\n",
    "plt.figure()\n",
    "N = epochs\n",
    "plt.plot(np.arange(0, N), history.history[\"loss\"], label=\"train_loss\")\n",
    "plt.plot(np.arange(0, N), history.history[\"val_loss\"], label=\"val_loss\")\n",
    "plt.plot(np.arange(0, N), history.history[\"acc\"], label=\"train_acc\")\n",
    "plt.plot(np.arange(0, N), history.history[\"val_acc\"], label=\"val_acc\")\n",
    "plt.title(\"Training Loss and Accuracy\")\n",
    "plt.xlabel(\"Epoch #\")\n",
    "plt.ylabel(\"Loss/Accuracy\")\n",
    "plt.legend(loc=\"upper left\")"
   ]
  },
  {
   "cell_type": "code",
   "execution_count": 49,
   "metadata": {},
   "outputs": [
    {
     "name": "stdout",
     "output_type": "stream",
     "text": [
      "1152/1152 [==============================] - 0s 386us/step\n",
      "Validation Accuracy: 99.8264%\n",
      "Validation Loss: 0.006535001645362273\n"
     ]
    }
   ],
   "source": [
    "(eval_loss, eval_accuracy) = model.evaluate(validation_data, validation_labels, batch_size= batch_size, verbose=1)\n",
    "\n",
    "print(\"Validation Accuracy: {:.4f}%\".format(eval_accuracy * 100))\n",
    "print(\"Validation Loss: {}\".format(eval_loss))"
   ]
  },
  {
   "cell_type": "code",
   "execution_count": 50,
   "metadata": {},
   "outputs": [],
   "source": [
    "test_data = np.load(extracted_features_dir+'bottleneck_features_test_'+model_name+'.npy')\n",
    "\n",
    "test_labels = test_generator.classes\n",
    "test_labels = to_categorical(test_labels, num_classes=num_classes)"
   ]
  },
  {
   "cell_type": "code",
   "execution_count": 51,
   "metadata": {},
   "outputs": [
    {
     "name": "stdout",
     "output_type": "stream",
     "text": [
      "Accuracy 0.8465401785714286\n"
     ]
    }
   ],
   "source": [
    "preds = model.predict(test_data)\n",
    "\n",
    "predictions = [i.argmax() for i in preds]\n",
    "y_true = [i.argmax() for i in test_labels]\n",
    "cm = confusion_matrix(y_pred=predictions, y_true=y_true)\n",
    "\n",
    "print('Accuracy {}'.format(accuracy_score(y_true=y_true, y_pred=predictions)))"
   ]
  },
  {
   "cell_type": "code",
   "execution_count": 52,
   "metadata": {},
   "outputs": [
    {
     "name": "stdout",
     "output_type": "stream",
     "text": [
      "Confusion Matrix\n",
      "[[399  29  16   4]\n",
      " [ 61 363  20   4]\n",
      " [ 32  49 365   2]\n",
      " [ 47  11   0 390]]\n"
     ]
    },
    {
     "data": {
      "image/png": "[encoded data removed]",
      "text/plain": [
       "<Figure size 720x720 with 1 Axes>"
      ]
     },
     "metadata": {},
     "output_type": "display_data"
    }
   ],
   "source": [
    "plt.rcParams[\"axes.grid\"] = False\n",
    "plt.rcParams.update({'font.size': 20})\n",
    "\n",
    "labels = []\n",
    "\n",
    "label = test_generator.class_indices\n",
    "indexlabel = dict((value, key) for key, value in label.items())\n",
    "\n",
    "for k,v in indexlabel.items():\n",
    "    labels.append(v)\n",
    "\n",
    "from sklearn.metrics import confusion_matrix\n",
    "import itertools\n",
    "def plot_confusion_matrix(cm, classes,\n",
    "                          normalize=False,\n",
    "                          title='Confusion matrix',\n",
    "                          cmap=plt.cm.Blues):\n",
    "    accuracy = np.trace(cm) / float(np.sum(cm))\n",
    "    misclass = 1 - accuracy\n",
    "    if normalize:\n",
    "        cm = cm.astype('float') / cm.sum(axis=1)[:, np.newaxis]\n",
    "        print(\"Normalized confusion matrix\")\n",
    "    else:\n",
    "        print('Confusion Matrix')\n",
    "\n",
    "    print(cm)\n",
    "#     fig = plt.figure()\n",
    "    plt.imshow(cm, interpolation='nearest', cmap=cmap)\n",
    "#     plt.title(title)\n",
    "#     plt.colorbar()\n",
    "    tick_marks = np.arange(len(classes))\n",
    "    plt.xticks(tick_marks, classes, rotation=45)\n",
    "    plt.yticks(tick_marks, classes)\n",
    "\n",
    "    fmt = '.2f' if normalize else 'd'\n",
    "    thresh = cm.max() / 2.\n",
    "    for i, j in itertools.product(range(cm.shape[0]), range(cm.shape[1])):\n",
    "        plt.text(j, i, format(cm[i, j], fmt),\n",
    "                 horizontalalignment=\"center\",\n",
    "                 color=\"white\" if cm[i, j] > thresh else \"black\")\n",
    "\n",
    "    plt.tight_layout()\n",
    "    plt.ylabel('True label')\n",
    "    plt.xlabel('Predicted label\\naccuracy={:0.4f}; misclass={:0.4f}'.format(accuracy, misclass))\n",
    "#     plt.savefig('plots/3.InceptionV3-2-Private-DataSet-CM.png', bbox_inches='tight', dpi = 100) \n",
    "\n",
    "\n",
    "plt.figure(figsize=(10,10))\n",
    "plot_confusion_matrix(cm, classes=labels, title=' ')"
   ]
  },
  {
   "cell_type": "code",
   "execution_count": 53,
   "metadata": {},
   "outputs": [
    {
     "name": "stdout",
     "output_type": "stream",
     "text": [
      "[[399  29  16   4]\n",
      " [ 61 363  20   4]\n",
      " [ 32  49 365   2]\n",
      " [ 47  11   0 390]]\n",
      "              precision    recall  f1-score   support\n",
      "\n",
      "      InSitu       0.74      0.89      0.81       448\n",
      "      Normal       0.80      0.81      0.81       448\n",
      "      Benign       0.91      0.81      0.86       448\n",
      "    Invasive       0.97      0.87      0.92       448\n",
      "\n",
      "   micro avg       0.85      0.85      0.85      1792\n",
      "   macro avg       0.86      0.85      0.85      1792\n",
      "weighted avg       0.86      0.85      0.85      1792\n",
      "\n"
     ]
    }
   ],
   "source": [
    "from sklearn.preprocessing import LabelEncoder\n",
    "from sklearn.metrics import confusion_matrix, classification_report\n",
    "y_pred=predictions\n",
    "y_pred_probabilities=y_pred\n",
    "\n",
    "# y_pred = np.argmax(y_pred,axis = 1) \n",
    "y_actual = y_true\n",
    "\n",
    "classnames=[]\n",
    "for classname in test_generator.class_indices:\n",
    "    classnames.append(classname)\n",
    "\n",
    "confusion_mtx = confusion_matrix(y_actual, y_pred) \n",
    "print(confusion_mtx)\n",
    "target_names = classnames\n",
    "print(classification_report(y_actual, y_pred, target_names=target_names))"
   ]
  },
  {
   "cell_type": "code",
   "execution_count": 54,
   "metadata": {},
   "outputs": [
    {
     "name": "stdout",
     "output_type": "stream",
     "text": [
      "Sensitivity :  86.73913043478261\n",
      "Specificity :  92.60204081632652\n"
     ]
    }
   ],
   "source": [
    "total=sum(sum(cm))\n",
    "\n",
    "# accuracy = (cm[0,0]+cm[1,1]) / total\n",
    "# print ('Accuracy : ', accuracy*100)\n",
    "\n",
    "sensitivity = cm[0,0]/(cm[0,0]+cm[1,0])\n",
    "print('Sensitivity : ', sensitivity*100 )\n",
    "\n",
    "Specificity = cm[1,1]/(cm[1,1]+cm[0,1])\n",
    "print('Specificity : ', Specificity*100 )"
   ]
  },
  {
   "cell_type": "markdown",
   "metadata": {},
   "source": [
    "____\n",
    "# test without augmentation"
   ]
  },
  {
   "cell_type": "code",
   "execution_count": 55,
   "metadata": {},
   "outputs": [
    {
     "name": "stdout",
     "output_type": "stream",
     "text": [
      "Found 112 images belonging to 4 classes.\n",
      "nb_test_samples: 112\n",
      "predict_size_test: 4\n"
     ]
    }
   ],
   "source": [
    "test_dir_whithout_aug = \"data/512/test-without-aug/\"\n",
    "test_generator_without_aug = test_datagen.flow_from_directory(\n",
    "    test_dir_whithout_aug,\n",
    "    target_size=(img_height, img_width),\n",
    "    batch_size=batch_size,\n",
    "    seed = random_seed,\n",
    "    shuffle = False,\n",
    "    class_mode='categorical')\n",
    "\n",
    "nb_test_without_aug_samples = len(test_generator_without_aug.filenames)\n",
    "predict_size_test_without_aug = int(math.ceil(nb_test_without_aug_samples / batch_size))\n",
    "\n",
    "print(\"nb_test_samples:\", nb_test_without_aug_samples)\n",
    "print(\"predict_size_test:\", predict_size_test_without_aug)"
   ]
  },
  {
   "cell_type": "code",
   "execution_count": 56,
   "metadata": {},
   "outputs": [],
   "source": [
    "bottleneck_features_test_without_aug = bottleneck_final_model.predict_generator(test_generator_without_aug, predict_size_test_without_aug)\n",
    "np.save(extracted_features_dir+'bottleneck_features_test_without_aug_'+model_name+'.npy', bottleneck_features_test_without_aug)"
   ]
  },
  {
   "cell_type": "code",
   "execution_count": 57,
   "metadata": {},
   "outputs": [],
   "source": [
    "test_data_without_aug = np.load(extracted_features_dir+'bottleneck_features_test_without_aug_'+model_name+'.npy')\n",
    "\n",
    "test_labels_without_aug = test_generator_without_aug.classes\n",
    "test_labels_without_aug = to_categorical(test_labels_without_aug, num_classes=num_classes)"
   ]
  },
  {
   "cell_type": "code",
   "execution_count": 58,
   "metadata": {},
   "outputs": [
    {
     "name": "stdout",
     "output_type": "stream",
     "text": [
      "Accuracy 0.8571428571428571\n"
     ]
    }
   ],
   "source": [
    "preds = model.predict(test_data_without_aug)\n",
    "\n",
    "predictions = [i.argmax() for i in preds]\n",
    "y_true = [i.argmax() for i in test_labels_without_aug]\n",
    "cm = confusion_matrix(y_pred=predictions, y_true=y_true)\n",
    "\n",
    "print('Accuracy {}'.format(accuracy_score(y_true=y_true, y_pred=predictions)))"
   ]
  },
  {
   "cell_type": "code",
   "execution_count": 59,
   "metadata": {},
   "outputs": [
    {
     "name": "stdout",
     "output_type": "stream",
     "text": [
      "Confusion Matrix\n",
      "[[26  1  0  1]\n",
      " [ 4 23  1  0]\n",
      " [ 2  4 22  0]\n",
      " [ 3  0  0 25]]\n"
     ]
    },
    {
     "data": {
      "image/png": "[encoded data removed]",
      "text/plain": [
       "<Figure size 720x720 with 1 Axes>"
      ]
     },
     "metadata": {},
     "output_type": "display_data"
    }
   ],
   "source": [
    "plt.rcParams[\"axes.grid\"] = False\n",
    "plt.rcParams.update({'font.size': 20})\n",
    "\n",
    "labels = []\n",
    "\n",
    "label = test_generator_without_aug.class_indices\n",
    "indexlabel = dict((value, key) for key, value in label.items())\n",
    "\n",
    "for k,v in indexlabel.items():\n",
    "    labels.append(v)\n",
    "\n",
    "from sklearn.metrics import confusion_matrix\n",
    "import itertools\n",
    "def plot_confusion_matrix(cm, classes,\n",
    "                          normalize=False,\n",
    "                          title='Confusion matrix',\n",
    "                          cmap=plt.cm.Blues):\n",
    "    accuracy = np.trace(cm) / float(np.sum(cm))\n",
    "    misclass = 1 - accuracy\n",
    "    if normalize:\n",
    "        cm = cm.astype('float') / cm.sum(axis=1)[:, np.newaxis]\n",
    "        print(\"Normalized confusion matrix\")\n",
    "    else:\n",
    "        print('Confusion Matrix')\n",
    "\n",
    "    print(cm)\n",
    "#     fig = plt.figure()\n",
    "    plt.imshow(cm, interpolation='nearest', cmap=cmap)\n",
    "#     plt.title(title)\n",
    "#     plt.colorbar()\n",
    "    tick_marks = np.arange(len(classes))\n",
    "    plt.xticks(tick_marks, classes, rotation=45)\n",
    "    plt.yticks(tick_marks, classes)\n",
    "\n",
    "    fmt = '.2f' if normalize else 'd'\n",
    "    thresh = cm.max() / 2.\n",
    "    for i, j in itertools.product(range(cm.shape[0]), range(cm.shape[1])):\n",
    "        plt.text(j, i, format(cm[i, j], fmt),\n",
    "                 horizontalalignment=\"center\",\n",
    "                 color=\"white\" if cm[i, j] > thresh else \"black\")\n",
    "\n",
    "    plt.tight_layout()\n",
    "    plt.ylabel('True label')\n",
    "    plt.xlabel('Predicted label\\naccuracy={:0.4f}; misclass={:0.4f}'.format(accuracy, misclass))\n",
    "#     plt.savefig('plots/3.InceptionV3-2-Private-DataSet-CM.png', bbox_inches='tight', dpi = 100) \n",
    "\n",
    "\n",
    "plt.figure(figsize=(10,10))\n",
    "plot_confusion_matrix(cm, classes=labels, title=' ')"
   ]
  },
  {
   "cell_type": "code",
   "execution_count": 60,
   "metadata": {},
   "outputs": [
    {
     "name": "stdout",
     "output_type": "stream",
     "text": [
      "[[26  1  0  1]\n",
      " [ 4 23  1  0]\n",
      " [ 2  4 22  0]\n",
      " [ 3  0  0 25]]\n",
      "              precision    recall  f1-score   support\n",
      "\n",
      "      InSitu       0.74      0.93      0.83        28\n",
      "      Normal       0.82      0.82      0.82        28\n",
      "      Benign       0.96      0.79      0.86        28\n",
      "    Invasive       0.96      0.89      0.93        28\n",
      "\n",
      "   micro avg       0.86      0.86      0.86       112\n",
      "   macro avg       0.87      0.86      0.86       112\n",
      "weighted avg       0.87      0.86      0.86       112\n",
      "\n"
     ]
    }
   ],
   "source": [
    "from sklearn.preprocessing import LabelEncoder\n",
    "from sklearn.metrics import confusion_matrix, classification_report\n",
    "y_pred=predictions\n",
    "y_pred_probabilities=y_pred\n",
    "\n",
    "# y_pred = np.argmax(y_pred,axis = 1) \n",
    "y_actual = y_true\n",
    "\n",
    "classnames=[]\n",
    "for classname in test_generator_without_aug.class_indices:\n",
    "    classnames.append(classname)\n",
    "\n",
    "confusion_mtx = confusion_matrix(y_actual, y_pred) \n",
    "print(confusion_mtx)\n",
    "target_names = classnames\n",
    "print(classification_report(y_actual, y_pred, target_names=target_names))"
   ]
  },
  {
   "cell_type": "code",
   "execution_count": 61,
   "metadata": {},
   "outputs": [
    {
     "name": "stdout",
     "output_type": "stream",
     "text": [
      "Sensitivity :  86.66666666666667\n",
      "Specificity :  95.83333333333334\n"
     ]
    }
   ],
   "source": [
    "total=sum(sum(cm))\n",
    "\n",
    "# accuracy = (cm[0,0]+cm[1,1]) / total\n",
    "# print ('Accuracy : ', accuracy*100)\n",
    "\n",
    "sensitivity = cm[0,0]/(cm[0,0]+cm[1,0])\n",
    "print('Sensitivity : ', sensitivity*100 )\n",
    "\n",
    "Specificity = cm[1,1]/(cm[1,1]+cm[0,1])\n",
    "print('Specificity : ', Specificity*100 )"
   ]
  },
  {
   "cell_type": "code",
   "execution_count": null,
   "metadata": {},
   "outputs": [],
   "source": []
  }
 ],
 "metadata": {
  "kernelspec": {
   "display_name": "Python 3",
   "language": "python",
   "name": "python3"
  },
  "language_info": {
   "codemirror_mode": {
    "name": "ipython",
    "version": 3
   },
   "file_extension": ".py",
   "mimetype": "text/x-python",
   "name": "python",
   "nbconvert_exporter": "python",
   "pygments_lexer": "ipython3",
   "version": "3.5.2"
  }
 },
 "nbformat": 4,
 "nbformat_minor": 2
}
