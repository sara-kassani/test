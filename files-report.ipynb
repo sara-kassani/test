{
 "cells": [
  {
   "cell_type": "code",
   "execution_count": 1,
   "metadata": {},
   "outputs": [],
   "source": [
    "import warnings\n",
    "warnings.filterwarnings('always')\n",
    "warnings.filterwarnings('ignore')"
   ]
  },
  {
   "cell_type": "code",
   "execution_count": 2,
   "metadata": {},
   "outputs": [],
   "source": [
    "import os\n",
    "import math\n",
    "import numpy as np"
   ]
  },
  {
   "cell_type": "code",
   "execution_count": 3,
   "metadata": {},
   "outputs": [],
   "source": [
    "train_dir = 'data-new-split/wheat/RGB/train/'\n",
    "test_dir = 'data-new-split/wheat/RGB/test/'"
   ]
  },
  {
   "cell_type": "code",
   "execution_count": 7,
   "metadata": {},
   "outputs": [
    {
     "name": "stdout",
     "output_type": "stream",
     "text": [
      "data-new-split/wheat/RGB/train/ 0\n",
      "data-new-split/wheat/RGB/train/Lodged 82\n",
      "data-new-split/wheat/RGB/train/Nonlodged 142\n",
      "******************************\n",
      "data-new-split/wheat/RGB/test/ 0\n",
      "data-new-split/wheat/RGB/test/Lodged 98\n",
      "data-new-split/wheat/RGB/test/Nonlodged 143\n",
      "******************************\n",
      "train samples: 224\n",
      "test samples: 241\n"
     ]
    }
   ],
   "source": [
    "for root,dirs,files in os.walk(train_dir):\n",
    "    print (root, len(files))\n",
    "\n",
    "print(\"*\"*30)\n",
    "for root,dirs,files in os.walk(test_dir):\n",
    "    print (root, len(files))\n",
    "    \n",
    "nb_train_samples = sum([len(files) for r, d, files in os.walk(train_dir)])\n",
    "nb_test_samples = sum([len(files) for r, d, files in os.walk(test_dir)])\n",
    "print(\"*\"*30)\n",
    "print(\"train samples:\", nb_train_samples)\n",
    "print(\"test samples:\", nb_test_samples)"
   ]
  },
  {
   "cell_type": "code",
   "execution_count": 8,
   "metadata": {},
   "outputs": [],
   "source": [
    "train_dir = 'data-old-split/wheat/RGB/train/'\n",
    "test_dir = 'data-old-split/wheat/RGB/test/'"
   ]
  },
  {
   "cell_type": "code",
   "execution_count": 9,
   "metadata": {},
   "outputs": [
    {
     "name": "stdout",
     "output_type": "stream",
     "text": [
      "data-old-split/wheat/RGB/train/ 0\n",
      "data-old-split/wheat/RGB/train/Lodged 141\n",
      "data-old-split/wheat/RGB/train/Nonlodged 235\n",
      "******************************\n",
      "data-old-split/wheat/RGB/test/ 0\n",
      "data-old-split/wheat/RGB/test/Lodged 39\n",
      "data-old-split/wheat/RGB/test/Nonlodged 50\n",
      "******************************\n",
      "train samples: 376\n",
      "test samples: 89\n"
     ]
    }
   ],
   "source": [
    "for root,dirs,files in os.walk(train_dir):\n",
    "    print (root, len(files))\n",
    "\n",
    "print(\"*\"*30)\n",
    "for root,dirs,files in os.walk(test_dir):\n",
    "    print (root, len(files))\n",
    "    \n",
    "nb_train_samples = sum([len(files) for r, d, files in os.walk(train_dir)])\n",
    "nb_test_samples = sum([len(files) for r, d, files in os.walk(test_dir)])\n",
    "print(\"*\"*30)\n",
    "print(\"train samples:\", nb_train_samples)\n",
    "print(\"test samples:\", nb_test_samples)"
   ]
  }
 ],
 "metadata": {
  "kernelspec": {
   "display_name": "Python 3",
   "language": "python",
   "name": "python3"
  },
  "language_info": {
   "codemirror_mode": {
    "name": "ipython",
    "version": 3
   },
   "file_extension": ".py",
   "mimetype": "text/x-python",
   "name": "python",
   "nbconvert_exporter": "python",
   "pygments_lexer": "ipython3",
   "version": "3.5.2"
  }
 },
 "nbformat": 4,
 "nbformat_minor": 2
}
