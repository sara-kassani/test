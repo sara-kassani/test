{
 "cells": [
  {
   "cell_type": "code",
   "execution_count": 2,
   "metadata": {},
   "outputs": [],
   "source": [
    "import os\n",
    "import pandas as pd\n",
    "\n",
    "import numpy as np\n",
    "from glob import glob\n",
    "import cv2\n",
    "import skimage\n",
    "from skimage.transform import resize\n",
    "\n",
    "import keras\n",
    "from keras import layers\n",
    "from keras import models\n",
    "from keras import optimizers\n",
    "from keras.models import load_model\n",
    "import keras.callbacks as kcall\n",
    "from keras.optimizers import Adam\n",
    "from keras.models import Model\n",
    "from keras.models import Sequential\n",
    "from keras.layers import Flatten, Dense, Activation, Dropout, Conv2D, MaxPooling2D, BatchNormalization\n",
    "from keras.applications.xception import Xception, preprocess_input\n",
    "from keras.preprocessing.image import ImageDataGenerator\n",
    "from keras.callbacks import ModelCheckpoint\n",
    "import matplotlib.pyplot as plt\n",
    "from keras.applications.resnet50 import ResNet50\n",
    "from keras import optimizers, metrics, models\n",
    "from keras.layers import Input, Flatten, Dense\n",
    "from keras.optimizers import SGD\n",
    "\n",
    "%matplotlib inline"
   ]
  },
  {
   "cell_type": "code",
   "execution_count": 3,
   "metadata": {},
   "outputs": [],
   "source": [
    "train_dir = 'data/train-preprocess'"
   ]
  },
  {
   "cell_type": "code",
   "execution_count": 4,
   "metadata": {},
   "outputs": [
    {
     "name": "stdout",
     "output_type": "stream",
     "text": [
      "data/train-preprocess 0\n",
      "data/train-preprocess/MEL 1113\n",
      "data/train-preprocess/DF 115\n",
      "data/train-preprocess/BKL 1099\n",
      "data/train-preprocess/BCC 514\n",
      "data/train-preprocess/VASC 142\n",
      "data/train-preprocess/AKIEC 327\n",
      "data/train-preprocess/NV 6705\n"
     ]
    }
   ],
   "source": [
    "for root,dirs,files in os.walk(train_dir):\n",
    "    print (root, len(files))"
   ]
  },
  {
   "cell_type": "code",
   "execution_count": 5,
   "metadata": {},
   "outputs": [
    {
     "name": "stdout",
     "output_type": "stream",
     "text": [
      "Found 7515 images belonging to 7 classes.\n",
      "Found 2500 images belonging to 7 classes.\n"
     ]
    }
   ],
   "source": [
    "from keras.preprocessing.image import ImageDataGenerator\n",
    "\n",
    "# this is the augmentation configuration we will use for training\n",
    "train_datagen = ImageDataGenerator(\n",
    "    rescale=1. / 255,\n",
    "    shear_range=0.2,\n",
    "    zoom_range=0.2,\n",
    "        width_shift_range=0.2,\n",
    "        height_shift_range=0.2,\n",
    "        fill_mode='nearest',\n",
    "    horizontal_flip=True,\n",
    "    validation_split=0.25)\n",
    "\n",
    "# target_size = (height, width)\n",
    "target_size = (450, 600)\n",
    "\n",
    "test_datagen = ImageDataGenerator(rescale=1. / 255)\n",
    "\n",
    "train_generator = train_datagen.flow_from_directory(\n",
    "        train_dir,\n",
    "        target_size = target_size,       \n",
    "        class_mode = 'categorical',\n",
    "        batch_size=32,\n",
    "        subset=\"training\",\n",
    "        shuffle = True)\n",
    "\n",
    "validation_generator = train_datagen.flow_from_directory(\n",
    "        train_dir,\n",
    "        target_size = target_size,        \n",
    "        class_mode = 'categorical',\n",
    "        batch_size=32,\n",
    "        subset = \"validation\",\n",
    "        shuffle = True)"
   ]
  },
  {
   "cell_type": "code",
   "execution_count": 6,
   "metadata": {},
   "outputs": [],
   "source": [
    "output_classes = 7\n",
    "\n",
    "batch_size = 32 \n",
    "epochs = 30\n",
    "learning_rate= 0.001\n",
    "# input_shape=(img_height, img_width, img_ckannels),\n",
    "input_shape = (450,600,3)\n",
    "\n",
    "# optimizer = SGD(lr=0.01, momentum=0.9, decay=0.0005, nesterov=True)\n",
    "optimizer = 'adam'"
   ]
  },
  {
   "cell_type": "code",
   "execution_count": 7,
   "metadata": {},
   "outputs": [],
   "source": [
    "model = Sequential()\n",
    "model.add(ResNet50(include_top=False, pooling='avg', weights='imagenet'))\n",
    "model.add(Dense(output_classes, activation='softmax'))"
   ]
  },
  {
   "cell_type": "code",
   "execution_count": 8,
   "metadata": {},
   "outputs": [
    {
     "name": "stdout",
     "output_type": "stream",
     "text": [
      "_________________________________________________________________\n",
      "Layer (type)                 Output Shape              Param #   \n",
      "=================================================================\n",
      "resnet50 (Model)             (None, 2048)              23587712  \n",
      "_________________________________________________________________\n",
      "dense_1 (Dense)              (None, 7)                 14343     \n",
      "=================================================================\n",
      "Total params: 23,602,055\n",
      "Trainable params: 14,343\n",
      "Non-trainable params: 23,587,712\n",
      "_________________________________________________________________\n"
     ]
    }
   ],
   "source": [
    "model.layers[0].trainable = False\n",
    "model.compile(optimizer=Adam(lr=learning_rate), loss='categorical_crossentropy', metrics=['accuracy'])\n",
    "model.summary()"
   ]
  },
  {
   "cell_type": "code",
   "execution_count": 9,
   "metadata": {},
   "outputs": [
    {
     "name": "stdout",
     "output_type": "stream",
     "text": [
      "Epoch 1/30\n",
      "400/400 [==============================] - 12549s 31s/step - loss: 0.8901 - acc: 0.6917 - val_loss: 3.1621 - val_acc: 0.6704\n",
      "Epoch 2/30\n",
      "400/400 [==============================] - 12524s 31s/step - loss: 0.7485 - acc: 0.7285 - val_loss: 3.2434 - val_acc: 0.6704\n",
      "Epoch 3/30\n",
      "400/400 [==============================] - 12530s 31s/step - loss: 0.7203 - acc: 0.7379 - val_loss: 3.1653 - val_acc: 0.6704\n",
      "Epoch 4/30\n",
      "400/400 [==============================] - 12528s 31s/step - loss: 0.6853 - acc: 0.7477 - val_loss: 3.1709 - val_acc: 0.6704\n",
      "Epoch 5/30\n",
      "400/400 [==============================] - 12535s 31s/step - loss: 0.6644 - acc: 0.7508 - val_loss: 3.4239 - val_acc: 0.6704\n",
      "Epoch 6/30\n",
      "400/400 [==============================] - 12533s 31s/step - loss: 0.6349 - acc: 0.7642 - val_loss: 3.0378 - val_acc: 0.6704\n",
      "Epoch 7/30\n",
      "400/400 [==============================] - 12536s 31s/step - loss: 0.6298 - acc: 0.7698 - val_loss: 3.6697 - val_acc: 0.6704\n",
      "Epoch 8/30\n",
      "400/400 [==============================] - 12537s 31s/step - loss: 0.6228 - acc: 0.7719 - val_loss: 3.5453 - val_acc: 0.6704\n",
      "Epoch 9/30\n",
      "400/400 [==============================] - 12536s 31s/step - loss: 0.6043 - acc: 0.7759 - val_loss: 3.6955 - val_acc: 0.6704\n",
      "Epoch 10/30\n",
      "400/400 [==============================] - 12532s 31s/step - loss: 0.6116 - acc: 0.7771 - val_loss: 3.6701 - val_acc: 0.6704\n",
      "Epoch 11/30\n",
      "400/400 [==============================] - 12537s 31s/step - loss: 0.5887 - acc: 0.7816 - val_loss: 3.9191 - val_acc: 0.6704\n",
      "Epoch 12/30\n",
      "400/400 [==============================] - 12534s 31s/step - loss: 0.5815 - acc: 0.7863 - val_loss: 3.7836 - val_acc: 0.6704\n",
      "Epoch 13/30\n",
      "400/400 [==============================] - 12540s 31s/step - loss: 0.5778 - acc: 0.7861 - val_loss: 3.4970 - val_acc: 0.6704\n",
      "Epoch 14/30\n",
      "400/400 [==============================] - 12537s 31s/step - loss: 0.5823 - acc: 0.7867 - val_loss: 3.7182 - val_acc: 0.6704\n",
      "Epoch 15/30\n",
      "400/400 [==============================] - 12534s 31s/step - loss: 0.5690 - acc: 0.7896 - val_loss: 4.5192 - val_acc: 0.0112\n",
      "Epoch 16/30\n",
      "400/400 [==============================] - 12532s 31s/step - loss: 0.5754 - acc: 0.7895 - val_loss: 4.0275 - val_acc: 0.6704\n",
      "Epoch 17/30\n",
      "400/400 [==============================] - 12541s 31s/step - loss: 0.5652 - acc: 0.7918 - val_loss: 3.9690 - val_acc: 0.6700\n",
      "Epoch 18/30\n",
      "400/400 [==============================] - 12539s 31s/step - loss: 0.5607 - acc: 0.7924 - val_loss: 4.1833 - val_acc: 0.0116\n",
      "Epoch 19/30\n",
      "400/400 [==============================] - 12541s 31s/step - loss: 0.5527 - acc: 0.7961 - val_loss: 4.5746 - val_acc: 0.6704\n",
      "Epoch 20/30\n",
      "400/400 [==============================] - 12518s 31s/step - loss: 0.5411 - acc: 0.7997 - val_loss: 7.2659 - val_acc: 0.0112\n",
      "Epoch 21/30\n",
      "400/400 [==============================] - 12510s 31s/step - loss: 0.5403 - acc: 0.7965 - val_loss: 6.7710 - val_acc: 0.0112\n",
      "Epoch 22/30\n",
      "400/400 [==============================] - 12514s 31s/step - loss: 0.5417 - acc: 0.7967 - val_loss: 7.4369 - val_acc: 0.0112\n",
      "Epoch 23/30\n",
      "400/400 [==============================] - 12510s 31s/step - loss: 0.5377 - acc: 0.8019 - val_loss: 6.1748 - val_acc: 0.0112\n",
      "Epoch 24/30\n",
      "400/400 [==============================] - 12513s 31s/step - loss: 0.5475 - acc: 0.7944 - val_loss: 6.9136 - val_acc: 0.0112\n",
      "Epoch 25/30\n",
      "400/400 [==============================] - 12510s 31s/step - loss: 0.5358 - acc: 0.8020 - val_loss: 6.0617 - val_acc: 0.0112\n",
      "Epoch 26/30\n",
      "400/400 [==============================] - 12514s 31s/step - loss: 0.5391 - acc: 0.8010 - val_loss: 5.0947 - val_acc: 0.0112\n",
      "Epoch 27/30\n",
      "400/400 [==============================] - 12513s 31s/step - loss: 0.5252 - acc: 0.8048 - val_loss: 5.6699 - val_acc: 0.0112\n",
      "Epoch 28/30\n",
      "400/400 [==============================] - 12511s 31s/step - loss: 0.5259 - acc: 0.8032 - val_loss: 5.4158 - val_acc: 0.0112\n",
      "Epoch 29/30\n",
      "400/400 [==============================] - 12508s 31s/step - loss: 0.5392 - acc: 0.8001 - val_loss: 4.7505 - val_acc: 0.0112\n",
      "Epoch 30/30\n",
      "400/400 [==============================] - 12568s 31s/step - loss: 0.5154 - acc: 0.8065 - val_loss: 5.2567 - val_acc: 0.0112\n"
     ]
    }
   ],
   "source": [
    "history = model.fit_generator(\n",
    "      train_generator,\n",
    "      steps_per_epoch = 400,\n",
    "      epochs = epochs,\n",
    "      verbose = 1,      \n",
    "      validation_data = validation_generator,\n",
    "      validation_steps = 100)"
   ]
  },
  {
   "cell_type": "code",
   "execution_count": 10,
   "metadata": {},
   "outputs": [
    {
     "name": "stdout",
     "output_type": "stream",
     "text": [
      "Test Score:  5.203288269042969\n",
      "Test Accuracy:  0.013125\n"
     ]
    }
   ],
   "source": [
    "score = model.evaluate_generator(validation_generator, steps=50)\n",
    "\n",
    "print ('Test Score: ', score[0])\n",
    "print ('Test Accuracy: ',score[1])"
   ]
  },
  {
   "cell_type": "code",
   "execution_count": 11,
   "metadata": {},
   "outputs": [
    {
     "data": {
      "image/png": "[encoded data removed]",
      "text/plain": [
       "<Figure size 432x288 with 1 Axes>"
      ]
     },
     "metadata": {},
     "output_type": "display_data"
    },
    {
     "data": {
      "image/png": "[encoded data removed]",
      "text/plain": [
       "<Figure size 432x288 with 1 Axes>"
      ]
     },
     "metadata": {},
     "output_type": "display_data"
    }
   ],
   "source": [
    "import matplotlib.pyplot as plt\n",
    "\n",
    "plt.plot(history.history['acc'])\n",
    "plt.plot(history.history['val_acc'])\n",
    "plt.title('model accuracy')\n",
    "plt.ylabel('accuracy')\n",
    "plt.xlabel('epoch')\n",
    "plt.legend(['train', 'test'], loc='upper left')\n",
    "plt.show()\n",
    "# summarize history for loss\n",
    "plt.plot(history.history['loss'])\n",
    "plt.plot(history.history['val_loss'])\n",
    "plt.title('model loss')\n",
    "plt.ylabel('loss')\n",
    "plt.xlabel('epoch')\n",
    "plt.legend(['train', 'test'], loc='upper left')\n",
    "plt.show()"
   ]
  },
  {
   "cell_type": "code",
   "execution_count": 12,
   "metadata": {},
   "outputs": [],
   "source": [
    "filename = validation_generator.filenames\n",
    "truth = validation_generator.classes\n",
    "label = validation_generator.class_indices\n",
    "indexlabel = dict((value, key) for key, value in label.items())"
   ]
  },
  {
   "cell_type": "code",
   "execution_count": 13,
   "metadata": {},
   "outputs": [
    {
     "name": "stdout",
     "output_type": "stream",
     "text": [
      "79/78 [==============================] - 2652s 34s/step\n",
      "No of errors = 2472/2500\n"
     ]
    }
   ],
   "source": [
    "predicts = model.predict_generator(validation_generator, steps=validation_generator.samples/validation_generator.batch_size, verbose=1)\n",
    "predict_class = np.argmax(predicts, axis=1)\n",
    "errors = np.where(predict_class != truth)[0]\n",
    "print(\"No of errors = {}/{}\".format(len(errors),validation_generator.samples))"
   ]
  },
  {
   "cell_type": "code",
   "execution_count": 14,
   "metadata": {},
   "outputs": [
    {
     "name": "stderr",
     "output_type": "stream",
     "text": [
      "/home/sara/anaconda3/lib/python3.6/importlib/_bootstrap.py:219: RuntimeWarning: numpy.dtype size changed, may indicate binary incompatibility. Expected 96, got 88\n",
      "  return f(*args, **kwds)\n",
      "/home/sara/anaconda3/lib/python3.6/importlib/_bootstrap.py:219: RuntimeWarning: numpy.dtype size changed, may indicate binary incompatibility. Expected 96, got 88\n",
      "  return f(*args, **kwds)\n"
     ]
    },
    {
     "name": "stdout",
     "output_type": "stream",
     "text": [
      "Confusion matrix, without normalization\n",
      "[[   0    0    0   81    0    0    0]\n",
      " [   0    0    0  128    0    0    0]\n",
      " [   0    0    0  274    0    0    0]\n",
      " [   0    0    0   28    0    0    0]\n",
      " [   0    0    0  278    0    0    0]\n",
      " [   0    0    0 1676    0    0    0]\n",
      " [   0    0    0   35    0    0    0]]\n"
     ]
    },
    {
     "data": {
      "image/png": "[encoded data removed]",
      "text/plain": [
       "<Figure size 720x720 with 2 Axes>"
      ]
     },
     "metadata": {},
     "output_type": "display_data"
    }
   ],
   "source": [
    "from sklearn.metrics import confusion_matrix\n",
    "cm = confusion_matrix(truth,predict_class)\n",
    "\n",
    "labels = []\n",
    "for k,v in indexlabel.items():\n",
    "    labels.append(v)\n",
    "    \n",
    "import itertools\n",
    "def plot_confusion_matrix(cm, classes,\n",
    "                          normalize=False,\n",
    "                          title='Confusion matrix',\n",
    "                          cmap=plt.cm.Blues):\n",
    "    \"\"\"\n",
    "    This function prints and plots the confusion matrix.\n",
    "    Normalization can be applied by setting `normalize=True`.\n",
    "    \"\"\"\n",
    "    if normalize:\n",
    "        cm = cm.astype('float') / cm.sum(axis=1)[:, np.newaxis]\n",
    "        print(\"Normalized confusion matrix\")\n",
    "    else:\n",
    "        print('Confusion matrix, without normalization')\n",
    "\n",
    "    print(cm)\n",
    "\n",
    "    plt.imshow(cm, interpolation='nearest', cmap=cmap)\n",
    "    plt.title(title)\n",
    "    plt.colorbar()\n",
    "    tick_marks = np.arange(len(classes))\n",
    "    plt.xticks(tick_marks, classes, rotation=45)\n",
    "    plt.yticks(tick_marks, classes)\n",
    "\n",
    "    fmt = '.2f' if normalize else 'd'\n",
    "    thresh = cm.max() / 2.\n",
    "    for i, j in itertools.product(range(cm.shape[0]), range(cm.shape[1])):\n",
    "        plt.text(j, i, format(cm[i, j], fmt),\n",
    "                 horizontalalignment=\"center\",\n",
    "                 color=\"white\" if cm[i, j] > thresh else \"black\")\n",
    "\n",
    "    plt.tight_layout()\n",
    "    plt.ylabel('True label')\n",
    "    plt.xlabel('Predicted label')\n",
    "    \n",
    "\n",
    "plt.figure(figsize=(10,10))\n",
    "plot_confusion_matrix(cm, classes=labels,\n",
    "                      title='Confusion matrix')"
   ]
  },
  {
   "cell_type": "code",
   "execution_count": 15,
   "metadata": {},
   "outputs": [],
   "source": [
    "def predict_and_report(gen, model):\n",
    "    y_true = []\n",
    "    y_pred = []\n",
    "    gen.reset()\n",
    "    for img, label in gen:\n",
    "        #get true labels for batch and store them\n",
    "        y_true.extend([int(z[1]) for z in label])\n",
    "        #Get predictions as probabilities\n",
    "        batch_pred = model.predict_on_batch(img)\n",
    "        #turn probabilities to class labels and store\n",
    "        batch_pred = np.argmax(batch_pred, axis=1)\n",
    "        y_pred.extend(batch_pred)\n",
    "        #break loop\n",
    "        if gen.batch_index == 0:\n",
    "            break\n",
    "            \n",
    "    print('Accuracy:', accuracy_score(y_true, y_pred))\n",
    "    print('Area Under the Receiver Operating Characteristic Curve:', roc_auc_score(y_true, y_pred)) #Area under the curve\n",
    "    print(classification_report(y_true, y_pred))"
   ]
  },
  {
   "cell_type": "code",
   "execution_count": null,
   "metadata": {},
   "outputs": [],
   "source": [
    "predict_and_report(train_generator, model)\n",
    "predict_and_report(validation_generator, model)"
   ]
  },
  {
   "cell_type": "code",
   "execution_count": null,
   "metadata": {},
   "outputs": [],
   "source": [
    "best_train_acc = max(history.history['acc'])\n",
    "best_train_acc"
   ]
  },
  {
   "cell_type": "code",
   "execution_count": null,
   "metadata": {},
   "outputs": [],
   "source": [
    "last_train_acc = history.history['acc'][-1]\n",
    "last_train_acc"
   ]
  },
  {
   "cell_type": "code",
   "execution_count": null,
   "metadata": {},
   "outputs": [],
   "source": [
    "results.append([train_dir, optimizer,learning_rate, batch_size, epochs, last_train_acc, best_train_acc, score[0], score[1]])"
   ]
  },
  {
   "cell_type": "code",
   "execution_count": null,
   "metadata": {},
   "outputs": [],
   "source": [
    "import  pandas  as  pd\n",
    "res = pd.DataFrame(results)\n",
    "res.columns = ['data', 'optimizer','learning_rate','batch_size', 'epochs','last_train_accuracy', 'best_training_accuracy','test Score', 'test_accuracy']\n",
    "res"
   ]
  },
  {
   "cell_type": "code",
   "execution_count": null,
   "metadata": {},
   "outputs": [],
   "source": [
    "res.to_csv(\"ResNet-With.csv\", sep=',', encoding='utf-8')"
   ]
  },
  {
   "cell_type": "code",
   "execution_count": null,
   "metadata": {},
   "outputs": [],
   "source": []
  }
 ],
 "metadata": {
  "kernelspec": {
   "display_name": "Python 3",
   "language": "python",
   "name": "python3"
  },
  "language_info": {
   "codemirror_mode": {
    "name": "ipython",
    "version": 3
   },
   "file_extension": ".py",
   "mimetype": "text/x-python",
   "name": "python",
   "nbconvert_exporter": "python",
   "pygments_lexer": "ipython3",
   "version": "3.6.5"
  }
 },
 "nbformat": 4,
 "nbformat_minor": 2
}
