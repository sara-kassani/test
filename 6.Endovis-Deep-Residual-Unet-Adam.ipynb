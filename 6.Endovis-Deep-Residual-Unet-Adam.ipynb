{
 "cells": [
  {
   "cell_type": "code",
   "execution_count": null,
   "metadata": {
    "_cell_guid": "79c7e3d0-c299-4dcb-8224-4455121ee9b0",
    "_uuid": "d629ff2d2480ee46fbb7e2d37f6b5fab8052498a"
   },
   "outputs": [],
   "source": [
    "from tensorflow.python.client import device_lib\n",
    "print(device_lib.list_local_devices())"
   ]
  },
  {
   "cell_type": "code",
   "execution_count": null,
   "metadata": {
    "_uuid": "b94f5773b040af7dc8a748e0d2eea78911fa52ee"
   },
   "outputs": [],
   "source": [
    "import tensorflow as tf\n",
    "print(tf.test.gpu_device_name())\n",
    "# See https://www.tensorflow.org/tutorials/using_gpu#allowing_gpu_memory_growth\n",
    "config = tf.ConfigProto()\n",
    "config.gpu_options.allow_growth = True"
   ]
  },
  {
   "cell_type": "code",
   "execution_count": 3,
   "metadata": {
    "_uuid": "a36bc26ae76d7090da7d16b84cef20072dd6a76a"
   },
   "outputs": [],
   "source": [
    "from keras.preprocessing.image import ImageDataGenerator\n",
    "import numpy as np \n",
    "import os\n",
    "import glob\n",
    "import skimage.io as io\n",
    "import skimage.transform as trans\n",
    "from skimage.util import random_noise\n",
    "import numpy as np \n",
    "import os\n",
    "import skimage.io as io\n",
    "import skimage.transform as trans\n",
    "import numpy as np\n",
    "from keras.models import *\n",
    "from keras.layers import *\n",
    "from keras.optimizers import *\n",
    "from keras.callbacks import ModelCheckpoint, LearningRateScheduler\n",
    "from keras import backend as keras\n",
    "import random\n",
    "import matplotlib as mpl\n",
    "mpl.rcParams['axes.grid'] = False\n",
    "mpl.rcParams['figure.figsize'] = (12,12)\n",
    "import matplotlib.pyplot as plt\n",
    "\n",
    "%matplotlib inline"
   ]
  },
  {
   "cell_type": "code",
   "execution_count": 4,
   "metadata": {
    "_uuid": "d0bde0547f98961ee8c49e0c59a866a14d463a80"
   },
   "outputs": [],
   "source": [
    "K.set_image_data_format('channels_last')  # TF dimension ordering in this code\n",
    "\n",
    "img_rows = 512\n",
    "img_cols = 640\n",
    "\n",
    "smooth = 1."
   ]
  },
  {
   "cell_type": "code",
   "execution_count": 5,
   "metadata": {
    "_uuid": "8f1be05950d9e9f39d8efd411f699beacb4662b5"
   },
   "outputs": [],
   "source": [
    "def dice_coef(y_true, y_pred):\n",
    "    y_true_f = K.flatten(y_true)\n",
    "    y_pred_f = K.flatten(y_pred)\n",
    "    intersection = K.sum(y_true_f * y_pred_f)\n",
    "    return (2. * intersection + smooth) / (K.sum(y_true_f) + K.sum(y_pred_f) + smooth)\n",
    "\n",
    "\n",
    "def dice_coef_loss(y_true, y_pred):\n",
    "    return -dice_coef(y_true, y_pred)\n",
    "\n",
    "\n",
    "def Specificity(y_true, y_pred):\n",
    "    true_negatives = K.abs(y_pred)- K.abs(y_true)\n",
    "    return ((true_negatives+smooth)/(y_pred+ smooth))\n",
    "\n",
    "def Sensitivity(y_true, y_pred):\n",
    "    y_true = K.flatten(y_true)\n",
    "    y_pred = K.flatten(y_pred)\n",
    "    return ((y_pred+smooth)/ (y_true+smooth))\n",
    "\n",
    "def Jaccard_index(y_true,y_pred):\n",
    "    y_true_f = K.flatten(y_true)\n",
    "    y_pred_f = K.flatten(y_pred)\n",
    "    intersection = K.sum(y_true_f * y_pred_f)\n",
    "    return ((intersection + smooth) / (K.sum(y_true_f) + K.sum(y_pred_f) - intersection + smooth))\n",
    "\n",
    "def precision(y_true, y_pred):\n",
    "    \"\"\"Precision metric.\n",
    "    Only computes a batch-wise average of precision.\n",
    "    Computes the precision, a metric for multi-label classification of\n",
    "    how many selected items are relevant.\n",
    "    \"\"\"\n",
    "    true_positives = K.sum(K.round(K.clip(y_true * y_pred, 0, 1)))\n",
    "    predicted_positives = K.sum(K.round(K.clip(y_pred, 0, 1)))\n",
    "    precision = true_positives / (predicted_positives + K.epsilon())\n",
    "    return precision\n",
    "\n",
    "\n",
    "def recall(y_true, y_pred):\n",
    "    \"\"\"Recall metric.\n",
    "    Only computes a batch-wise average of recall.\n",
    "    Computes the recall, a metric for multi-label classification of\n",
    "    how many relevant items are selected.\n",
    "    \"\"\"\n",
    "    true_positives = K.sum(K.round(K.clip(y_true * y_pred, 0, 1)))\n",
    "    possible_positives = K.sum(K.round(K.clip(y_true, 0, 1)))\n",
    "    recall = true_positives / (possible_positives + K.epsilon())\n",
    "    return recall\n",
    "\n",
    "\n",
    "def f1score(y_true, y_pred):\n",
    "    def recall(y_true, y_pred):\n",
    "        \"\"\"Recall metric.\n",
    "        Only computes a batch-wise average of recall.\n",
    "        Computes the recall, a metric for multi-label classification of\n",
    "        how many relevant items are selected.\n",
    "        \"\"\"\n",
    "        true_positives = K.sum(K.round(K.clip(y_true * y_pred, 0, 1)))\n",
    "        possible_positives = K.sum(K.round(K.clip(y_true, 0, 1)))\n",
    "        recall = true_positives / (possible_positives + K.epsilon())\n",
    "        return recall\n",
    "\n",
    "    def precision(y_true, y_pred):\n",
    "        \"\"\"Precision metric.\n",
    "        Only computes a batch-wise average of precision.\n",
    "        Computes the precision, a metric for multi-label classification of\n",
    "        how many selected items are relevant.\n",
    "        \"\"\"\n",
    "        true_positives = K.sum(K.round(K.clip(y_true * y_pred, 0, 1)))\n",
    "        predicted_positives = K.sum(K.round(K.clip(y_pred, 0, 1)))\n",
    "        precision = true_positives / (predicted_positives + K.epsilon())\n",
    "        return precision\n",
    "\n",
    "    precision = precision(y_true, y_pred)\n",
    "    recall = recall(y_true, y_pred)\n",
    "    return 2 * ((precision * recall) / (precision + recall))"
   ]
  },
  {
   "cell_type": "code",
   "execution_count": 6,
   "metadata": {},
   "outputs": [],
   "source": [
    "batch_size = 32\n",
    "epochs = 30\n",
    "target_size = (512,640)\n",
    "\n",
    "metrics=[dice_coef, 'acc',Jaccard_index, Specificity, Sensitivity, precision, recall, f1score]\n",
    "\n",
    "sgd_opt = SGD(lr=1E-2, decay=1E-4, momentum=0.9, nesterov=True)\n",
    "adam_opt = Adam(lr=1E-4, beta_1=0.9, beta_2=0.999, epsilon=1e-08, decay=1E-4)"
   ]
  },
  {
   "cell_type": "code",
   "execution_count": 7,
   "metadata": {},
   "outputs": [],
   "source": [
    "# we create two instances with the same arguments\n",
    "train_data_gen_args = dict(featurewise_center=False,\n",
    "                     featurewise_std_normalization=False,\n",
    "                     rotation_range=0.2,\n",
    "                     width_shift_range=0.05,\n",
    "                     height_shift_range=0.05,\n",
    "                     shear_range=0.05,\n",
    "                     zoom_range=0.05,\n",
    "                     horizontal_flip=True,\n",
    "                     fill_mode='nearest')\n",
    "train_image_datagen = ImageDataGenerator(**train_data_gen_args)\n",
    "train_mask_datagen = ImageDataGenerator(**train_data_gen_args)\n",
    "\n",
    "val_image_datagen = ImageDataGenerator()\n",
    "val_mask_datagen = ImageDataGenerator()"
   ]
  },
  {
   "cell_type": "code",
   "execution_count": 8,
   "metadata": {},
   "outputs": [
    {
     "name": "stdout",
     "output_type": "stream",
     "text": [
      "Found 2 images belonging to 1 classes.\n",
      "Found 2 images belonging to 1 classes.\n",
      "Found 2 images belonging to 1 classes.\n",
      "Found 2 images belonging to 1 classes.\n"
     ]
    }
   ],
   "source": [
    "seed = 1\n",
    "batch_size=10\n",
    "train_image_generator = train_image_datagen.flow_from_directory(\n",
    "    'data/training/images',\n",
    "    color_mode=\"grayscale\",\n",
    "    class_mode=None,\n",
    "    seed=seed,\n",
    "    target_size = target_size,\n",
    "    batch_size=batch_size)\n",
    "\n",
    "train_mask_generator = train_mask_datagen.flow_from_directory(\n",
    "    'data/training/masks',\n",
    "    color_mode=\"grayscale\",\n",
    "    class_mode=None,\n",
    "    seed=seed,\n",
    "    target_size = target_size,\n",
    "    batch_size=batch_size)\n",
    "\n",
    "# combine generators into one which yields image and masks at desired batch_size\n",
    "train_generator = zip(train_image_generator, train_mask_generator)\n",
    "\n",
    "val_image_generator = val_image_datagen.flow_from_directory(\n",
    "    'data/validation/images',\n",
    "    color_mode=\"grayscale\",\n",
    "    class_mode=None,\n",
    "    seed=seed,\n",
    "    target_size = target_size,\n",
    "    batch_size=batch_size)\n",
    "\n",
    "val_mask_generator = val_mask_datagen.flow_from_directory(\n",
    "    'data/validation/masks',\n",
    "    color_mode=\"grayscale\",\n",
    "    class_mode=None,\n",
    "    seed=seed,\n",
    "    target_size = target_size,\n",
    "    batch_size=batch_size)\n",
    "\n",
    "# combine generators into one which yields image and masks at desired batch_size\n",
    "val_generator = zip(val_image_generator, val_mask_generator)"
   ]
  },
  {
   "cell_type": "code",
   "execution_count": 9,
   "metadata": {},
   "outputs": [],
   "source": [
    "from keras.models import *\n",
    "from keras.layers import Input, Conv2D, UpSampling2D, BatchNormalization, Activation, add, concatenate\n",
    "\n",
    "\n",
    "def res_block(x, nb_filters, strides):\n",
    "    res_path = BatchNormalization()(x)\n",
    "    res_path = Activation(activation='relu')(res_path)\n",
    "    res_path = Conv2D(filters=nb_filters[0], kernel_size=(3, 3), padding='same', strides=strides[0])(res_path)\n",
    "    res_path = BatchNormalization()(res_path)\n",
    "    res_path = Activation(activation='relu')(res_path)\n",
    "    res_path = Conv2D(filters=nb_filters[1], kernel_size=(3, 3), padding='same', strides=strides[1])(res_path)\n",
    "\n",
    "    shortcut = Conv2D(nb_filters[1], kernel_size=(1, 1), strides=strides[0])(x)\n",
    "    shortcut = BatchNormalization()(shortcut)\n",
    "\n",
    "    res_path = add([shortcut, res_path])\n",
    "    return res_path\n",
    "\n",
    "\n",
    "def encoder(x):\n",
    "    to_decoder = []\n",
    "\n",
    "    main_path = Conv2D(filters=64, kernel_size=(3, 3), padding='same', strides=(1, 1))(x)\n",
    "    main_path = BatchNormalization()(main_path)\n",
    "    main_path = Activation(activation='relu')(main_path)\n",
    "\n",
    "    main_path = Conv2D(filters=64, kernel_size=(3, 3), padding='same', strides=(1, 1))(main_path)\n",
    "\n",
    "    shortcut = Conv2D(filters=64, kernel_size=(1, 1), strides=(1, 1))(x)\n",
    "    shortcut = BatchNormalization()(shortcut)\n",
    "\n",
    "    main_path = add([shortcut, main_path])\n",
    "    # first branching to decoder\n",
    "    to_decoder.append(main_path)\n",
    "\n",
    "    main_path = res_block(main_path, [128, 128], [(2, 2), (1, 1)])\n",
    "    to_decoder.append(main_path)\n",
    "\n",
    "    main_path = res_block(main_path, [256, 256], [(2, 2), (1, 1)])\n",
    "    to_decoder.append(main_path)\n",
    "\n",
    "    return to_decoder\n",
    "\n",
    "\n",
    "def decoder(x, from_encoder):\n",
    "    main_path = UpSampling2D(size=(2, 2))(x)\n",
    "    main_path = concatenate([main_path, from_encoder[2]], axis=3)\n",
    "    main_path = res_block(main_path, [256, 256], [(1, 1), (1, 1)])\n",
    "\n",
    "    main_path = UpSampling2D(size=(2, 2))(main_path)\n",
    "    main_path = concatenate([main_path, from_encoder[1]], axis=3)\n",
    "    main_path = res_block(main_path, [128, 128], [(1, 1), (1, 1)])\n",
    "\n",
    "    main_path = UpSampling2D(size=(2, 2))(main_path)\n",
    "    main_path = concatenate([main_path, from_encoder[0]], axis=3)\n",
    "    main_path = res_block(main_path, [64, 64], [(1, 1), (1, 1)])\n",
    "\n",
    "    return main_path\n",
    "\n",
    "\n",
    "def build_res_unet(input_shape):\n",
    "    inputs = Input(shape=input_shape)\n",
    "\n",
    "    to_decoder = encoder(inputs)\n",
    "\n",
    "    path = res_block(to_decoder[2], [512, 512], [(2, 2), (1, 1)])\n",
    "\n",
    "    path = decoder(path, from_encoder=to_decoder)\n",
    "\n",
    "    path = Conv2D(filters=1, kernel_size=(1, 1), activation='sigmoid')(path)\n",
    "\n",
    "    return Model(input=inputs, output=path)\n"
   ]
  },
  {
   "cell_type": "code",
   "execution_count": 10,
   "metadata": {
    "_uuid": "f2565e8589898363818d57573dd4ef1a4e376d21"
   },
   "outputs": [
    {
     "name": "stdout",
     "output_type": "stream",
     "text": [
      "__________________________________________________________________________________________________\n",
      "Layer (type)                    Output Shape         Param #     Connected to                     \n",
      "==================================================================================================\n",
      "input_1 (InputLayer)            (None, 512, 640, 1)  0                                            \n",
      "__________________________________________________________________________________________________\n",
      "conv2d_1 (Conv2D)               (None, 512, 640, 64) 640         input_1[0][0]                    \n",
      "__________________________________________________________________________________________________\n",
      "batch_normalization_1 (BatchNor (None, 512, 640, 64) 256         conv2d_1[0][0]                   \n",
      "__________________________________________________________________________________________________\n",
      "conv2d_3 (Conv2D)               (None, 512, 640, 64) 128         input_1[0][0]                    \n",
      "__________________________________________________________________________________________________\n",
      "activation_1 (Activation)       (None, 512, 640, 64) 0           batch_normalization_1[0][0]      \n",
      "__________________________________________________________________________________________________\n",
      "batch_normalization_2 (BatchNor (None, 512, 640, 64) 256         conv2d_3[0][0]                   \n",
      "__________________________________________________________________________________________________\n",
      "conv2d_2 (Conv2D)               (None, 512, 640, 64) 36928       activation_1[0][0]               \n",
      "__________________________________________________________________________________________________\n",
      "add_1 (Add)                     (None, 512, 640, 64) 0           batch_normalization_2[0][0]      \n",
      "                                                                 conv2d_2[0][0]                   \n",
      "__________________________________________________________________________________________________\n",
      "batch_normalization_3 (BatchNor (None, 512, 640, 64) 256         add_1[0][0]                      \n",
      "__________________________________________________________________________________________________\n",
      "activation_2 (Activation)       (None, 512, 640, 64) 0           batch_normalization_3[0][0]      \n",
      "__________________________________________________________________________________________________\n",
      "conv2d_4 (Conv2D)               (None, 256, 320, 128 73856       activation_2[0][0]               \n",
      "__________________________________________________________________________________________________\n",
      "batch_normalization_4 (BatchNor (None, 256, 320, 128 512         conv2d_4[0][0]                   \n",
      "__________________________________________________________________________________________________\n",
      "conv2d_6 (Conv2D)               (None, 256, 320, 128 8320        add_1[0][0]                      \n",
      "__________________________________________________________________________________________________\n",
      "activation_3 (Activation)       (None, 256, 320, 128 0           batch_normalization_4[0][0]      \n",
      "__________________________________________________________________________________________________\n",
      "batch_normalization_5 (BatchNor (None, 256, 320, 128 512         conv2d_6[0][0]                   \n",
      "__________________________________________________________________________________________________\n",
      "conv2d_5 (Conv2D)               (None, 256, 320, 128 147584      activation_3[0][0]               \n",
      "__________________________________________________________________________________________________\n",
      "add_2 (Add)                     (None, 256, 320, 128 0           batch_normalization_5[0][0]      \n",
      "                                                                 conv2d_5[0][0]                   \n",
      "__________________________________________________________________________________________________\n",
      "batch_normalization_6 (BatchNor (None, 256, 320, 128 512         add_2[0][0]                      \n",
      "__________________________________________________________________________________________________\n",
      "activation_4 (Activation)       (None, 256, 320, 128 0           batch_normalization_6[0][0]      \n",
      "__________________________________________________________________________________________________\n",
      "conv2d_7 (Conv2D)               (None, 128, 160, 256 295168      activation_4[0][0]               \n",
      "__________________________________________________________________________________________________\n",
      "batch_normalization_7 (BatchNor (None, 128, 160, 256 1024        conv2d_7[0][0]                   \n",
      "__________________________________________________________________________________________________\n",
      "conv2d_9 (Conv2D)               (None, 128, 160, 256 33024       add_2[0][0]                      \n",
      "__________________________________________________________________________________________________\n",
      "activation_5 (Activation)       (None, 128, 160, 256 0           batch_normalization_7[0][0]      \n",
      "__________________________________________________________________________________________________\n",
      "batch_normalization_8 (BatchNor (None, 128, 160, 256 1024        conv2d_9[0][0]                   \n",
      "__________________________________________________________________________________________________\n",
      "conv2d_8 (Conv2D)               (None, 128, 160, 256 590080      activation_5[0][0]               \n",
      "__________________________________________________________________________________________________\n",
      "add_3 (Add)                     (None, 128, 160, 256 0           batch_normalization_8[0][0]      \n",
      "                                                                 conv2d_8[0][0]                   \n",
      "__________________________________________________________________________________________________\n",
      "batch_normalization_9 (BatchNor (None, 128, 160, 256 1024        add_3[0][0]                      \n",
      "__________________________________________________________________________________________________\n",
      "activation_6 (Activation)       (None, 128, 160, 256 0           batch_normalization_9[0][0]      \n",
      "__________________________________________________________________________________________________\n",
      "conv2d_10 (Conv2D)              (None, 64, 80, 512)  1180160     activation_6[0][0]               \n",
      "__________________________________________________________________________________________________\n",
      "batch_normalization_10 (BatchNo (None, 64, 80, 512)  2048        conv2d_10[0][0]                  \n",
      "__________________________________________________________________________________________________\n",
      "conv2d_12 (Conv2D)              (None, 64, 80, 512)  131584      add_3[0][0]                      \n",
      "__________________________________________________________________________________________________\n",
      "activation_7 (Activation)       (None, 64, 80, 512)  0           batch_normalization_10[0][0]     \n",
      "__________________________________________________________________________________________________\n",
      "batch_normalization_11 (BatchNo (None, 64, 80, 512)  2048        conv2d_12[0][0]                  \n",
      "__________________________________________________________________________________________________\n",
      "conv2d_11 (Conv2D)              (None, 64, 80, 512)  2359808     activation_7[0][0]               \n",
      "__________________________________________________________________________________________________\n",
      "add_4 (Add)                     (None, 64, 80, 512)  0           batch_normalization_11[0][0]     \n",
      "                                                                 conv2d_11[0][0]                  \n",
      "__________________________________________________________________________________________________\n",
      "up_sampling2d_1 (UpSampling2D)  (None, 128, 160, 512 0           add_4[0][0]                      \n",
      "__________________________________________________________________________________________________\n",
      "concatenate_1 (Concatenate)     (None, 128, 160, 768 0           up_sampling2d_1[0][0]            \n",
      "                                                                 add_3[0][0]                      \n",
      "__________________________________________________________________________________________________\n",
      "batch_normalization_12 (BatchNo (None, 128, 160, 768 3072        concatenate_1[0][0]              \n",
      "__________________________________________________________________________________________________\n",
      "activation_8 (Activation)       (None, 128, 160, 768 0           batch_normalization_12[0][0]     \n",
      "__________________________________________________________________________________________________\n",
      "conv2d_13 (Conv2D)              (None, 128, 160, 256 1769728     activation_8[0][0]               \n",
      "__________________________________________________________________________________________________\n",
      "batch_normalization_13 (BatchNo (None, 128, 160, 256 1024        conv2d_13[0][0]                  \n",
      "__________________________________________________________________________________________________\n",
      "conv2d_15 (Conv2D)              (None, 128, 160, 256 196864      concatenate_1[0][0]              \n",
      "__________________________________________________________________________________________________\n",
      "activation_9 (Activation)       (None, 128, 160, 256 0           batch_normalization_13[0][0]     \n",
      "__________________________________________________________________________________________________\n",
      "batch_normalization_14 (BatchNo (None, 128, 160, 256 1024        conv2d_15[0][0]                  \n",
      "__________________________________________________________________________________________________\n",
      "conv2d_14 (Conv2D)              (None, 128, 160, 256 590080      activation_9[0][0]               \n",
      "__________________________________________________________________________________________________\n",
      "add_5 (Add)                     (None, 128, 160, 256 0           batch_normalization_14[0][0]     \n",
      "                                                                 conv2d_14[0][0]                  \n",
      "__________________________________________________________________________________________________\n",
      "up_sampling2d_2 (UpSampling2D)  (None, 256, 320, 256 0           add_5[0][0]                      \n",
      "__________________________________________________________________________________________________\n",
      "concatenate_2 (Concatenate)     (None, 256, 320, 384 0           up_sampling2d_2[0][0]            \n",
      "                                                                 add_2[0][0]                      \n",
      "__________________________________________________________________________________________________\n",
      "batch_normalization_15 (BatchNo (None, 256, 320, 384 1536        concatenate_2[0][0]              \n",
      "__________________________________________________________________________________________________\n",
      "activation_10 (Activation)      (None, 256, 320, 384 0           batch_normalization_15[0][0]     \n",
      "__________________________________________________________________________________________________\n",
      "conv2d_16 (Conv2D)              (None, 256, 320, 128 442496      activation_10[0][0]              \n",
      "__________________________________________________________________________________________________\n",
      "batch_normalization_16 (BatchNo (None, 256, 320, 128 512         conv2d_16[0][0]                  \n",
      "__________________________________________________________________________________________________\n",
      "conv2d_18 (Conv2D)              (None, 256, 320, 128 49280       concatenate_2[0][0]              \n",
      "__________________________________________________________________________________________________\n",
      "activation_11 (Activation)      (None, 256, 320, 128 0           batch_normalization_16[0][0]     \n",
      "__________________________________________________________________________________________________\n",
      "batch_normalization_17 (BatchNo (None, 256, 320, 128 512         conv2d_18[0][0]                  \n",
      "__________________________________________________________________________________________________\n",
      "conv2d_17 (Conv2D)              (None, 256, 320, 128 147584      activation_11[0][0]              \n",
      "__________________________________________________________________________________________________\n",
      "add_6 (Add)                     (None, 256, 320, 128 0           batch_normalization_17[0][0]     \n",
      "                                                                 conv2d_17[0][0]                  \n",
      "__________________________________________________________________________________________________\n",
      "up_sampling2d_3 (UpSampling2D)  (None, 512, 640, 128 0           add_6[0][0]                      \n",
      "__________________________________________________________________________________________________\n",
      "concatenate_3 (Concatenate)     (None, 512, 640, 192 0           up_sampling2d_3[0][0]            \n",
      "                                                                 add_1[0][0]                      \n",
      "__________________________________________________________________________________________________\n",
      "batch_normalization_18 (BatchNo (None, 512, 640, 192 768         concatenate_3[0][0]              \n",
      "__________________________________________________________________________________________________\n",
      "activation_12 (Activation)      (None, 512, 640, 192 0           batch_normalization_18[0][0]     \n",
      "__________________________________________________________________________________________________\n",
      "conv2d_19 (Conv2D)              (None, 512, 640, 64) 110656      activation_12[0][0]              \n",
      "__________________________________________________________________________________________________\n",
      "batch_normalization_19 (BatchNo (None, 512, 640, 64) 256         conv2d_19[0][0]                  \n",
      "__________________________________________________________________________________________________\n",
      "conv2d_21 (Conv2D)              (None, 512, 640, 64) 12352       concatenate_3[0][0]              \n",
      "__________________________________________________________________________________________________\n",
      "activation_13 (Activation)      (None, 512, 640, 64) 0           batch_normalization_19[0][0]     \n",
      "__________________________________________________________________________________________________\n",
      "batch_normalization_20 (BatchNo (None, 512, 640, 64) 256         conv2d_21[0][0]                  \n",
      "__________________________________________________________________________________________________\n",
      "conv2d_20 (Conv2D)              (None, 512, 640, 64) 36928       activation_13[0][0]              \n",
      "__________________________________________________________________________________________________\n",
      "add_7 (Add)                     (None, 512, 640, 64) 0           batch_normalization_20[0][0]     \n",
      "                                                                 conv2d_20[0][0]                  \n",
      "__________________________________________________________________________________________________\n",
      "conv2d_22 (Conv2D)              (None, 512, 640, 1)  65          add_7[0][0]                      \n",
      "==================================================================================================\n",
      "Total params: 8,231,745\n",
      "Trainable params: 8,222,529\n",
      "Non-trainable params: 9,216\n",
      "__________________________________________________________________________________________________\n"
     ]
    },
    {
     "name": "stderr",
     "output_type": "stream",
     "text": [
      "/home/sara/anaconda3/lib/python3.6/site-packages/ipykernel_launcher.py:72: UserWarning: Update your `Model` call to the Keras 2 API: `Model(inputs=Tensor(\"in..., outputs=Tensor(\"co...)`\n"
     ]
    }
   ],
   "source": [
    "input_shape = (512,640,1)\n",
    "model = build_res_unet(input_shape=input_shape)\n",
    "model.summary()\n",
    "model.compile(optimizer=adam_opt, loss=dice_coef_loss, metrics= metrics)\n",
    "model_checkpoint = ModelCheckpoint('models/endovis-Deep-Residual-Unet.hdf5', monitor='loss',verbose=1, save_best_only=True)"
   ]
  },
  {
   "cell_type": "code",
   "execution_count": 13,
   "metadata": {},
   "outputs": [
    {
     "data": {
      "text/plain": [
       "2"
      ]
     },
     "execution_count": 13,
     "metadata": {},
     "output_type": "execute_result"
    }
   ],
   "source": [
    "num_train_samples= len(train_image_generator.filenames)\n",
    "num_train_samples"
   ]
  },
  {
   "cell_type": "code",
   "execution_count": 14,
   "metadata": {},
   "outputs": [
    {
     "data": {
      "text/plain": [
       "2"
      ]
     },
     "execution_count": 14,
     "metadata": {},
     "output_type": "execute_result"
    }
   ],
   "source": [
    "num_val_samples= len(val_image_generator.filenames)\n",
    "num_val_samples"
   ]
  },
  {
   "cell_type": "code",
   "execution_count": 15,
   "metadata": {},
   "outputs": [],
   "source": [
    "experiment_name = \"Endovis-UNet\"\n",
    "img_dim = (512,640,1)\n",
    "dataset='Endovis'\n",
    "model_name = \"Deep-Residual-UNet-Adam\""
   ]
  },
  {
   "cell_type": "code",
   "execution_count": 16,
   "metadata": {},
   "outputs": [
    {
     "name": "stdout",
     "output_type": "stream",
     "text": [
      "Epoch 1/5\n",
      "1/1 [==============================] - 125s 125s/step - loss: -0.9841 - dice_coef: 0.9841 - acc: 0.2982 - Jaccard_index: 0.9688 - Specificity: -38.0029 - Sensitivity: 0.8071 - precision: 0.9235 - recall: 0.9980 - f1score: 0.9593 - val_loss: -1.1412 - val_dice_coef: 1.1412 - val_acc: 0.2148 - val_Jaccard_index: 1.3289 - val_Specificity: -32.4086 - val_Sensitivity: 0.8127 - val_precision: 0.8337 - val_recall: 0.9978 - val_f1score: 0.9084\n",
      "\n",
      "Epoch 00001: loss improved from inf to -0.98415, saving model to models/endovis-Deep-Residual-Unet.hdf5\n",
      "Epoch 2/5\n",
      "1/1 [==============================] - 139s 139s/step - loss: -0.9536 - dice_coef: 0.9536 - acc: 0.2723 - Jaccard_index: 0.9112 - Specificity: -37.4492 - Sensitivity: 0.8727 - precision: 0.8172 - recall: 0.9959 - f1score: 0.8978 - val_loss: -1.2080 - val_dice_coef: 1.2080 - val_acc: 0.2006 - val_Jaccard_index: 1.5251 - val_Specificity: -31.8178 - val_Sensitivity: 0.8071 - val_precision: 0.7607 - val_recall: 0.9794 - val_f1score: 0.8563\n",
      "\n",
      "Epoch 00002: loss did not improve from -0.98415\n",
      "Epoch 3/5\n",
      "1/1 [==============================] - 135s 135s/step - loss: -1.2601 - dice_coef: 1.2601 - acc: 0.2108 - Jaccard_index: 1.7030 - Specificity: -34.8267 - Sensitivity: 0.8970 - precision: 0.6579 - recall: 0.9789 - f1score: 0.7869 - val_loss: -1.1976 - val_dice_coef: 1.1976 - val_acc: 0.2749 - val_Jaccard_index: 1.4925 - val_Specificity: -31.8012 - val_Sensitivity: 0.7466 - val_precision: 0.8624 - val_recall: 0.9650 - val_f1score: 0.9108\n",
      "\n",
      "Epoch 00003: loss improved from -0.98415 to -1.26008, saving model to models/endovis-Deep-Residual-Unet.hdf5\n",
      "Epoch 4/5\n",
      "1/1 [==============================] - 105s 105s/step - loss: -1.3714 - dice_coef: 1.3714 - acc: 0.2006 - Jaccard_index: 2.1818 - Specificity: -32.9735 - Sensitivity: 0.9141 - precision: 0.6186 - recall: 0.9728 - f1score: 0.7563 - val_loss: -1.3318 - val_dice_coef: 1.3318 - val_acc: 0.2096 - val_Jaccard_index: 1.9933 - val_Specificity: -30.3006 - val_Sensitivity: 0.7928 - val_precision: 0.7164 - val_recall: 0.9590 - val_f1score: 0.8201\n",
      "\n",
      "Epoch 00004: loss improved from -1.26008 to -1.37143, saving model to models/endovis-Deep-Residual-Unet.hdf5\n",
      "Epoch 5/5\n",
      "1/1 [==============================] - 114s 114s/step - loss: -1.4310 - dice_coef: 1.4310 - acc: 0.1687 - Jaccard_index: 2.5147 - Specificity: -32.8096 - Sensitivity: 0.9319 - precision: 0.5831 - recall: 0.9663 - f1score: 0.7273 - val_loss: -1.4764 - val_dice_coef: 1.4764 - val_acc: 0.1367 - val_Jaccard_index: 2.8198 - val_Specificity: -28.7536 - val_Sensitivity: 0.8616 - val_precision: 0.6201 - val_recall: 0.9646 - val_f1score: 0.7549\n",
      "\n",
      "Epoch 00005: loss improved from -1.37143 to -1.43096, saving model to models/endovis-Deep-Residual-Unet.hdf5\n"
     ]
    }
   ],
   "source": [
    "history = model.fit_generator(train_generator,\n",
    "                 steps_per_epoch =int(np.ceil(num_train_samples * 1.0 / batch_size)),\n",
    "                 validation_data = val_generator,\n",
    "                 validation_steps=int(np.ceil(num_val_samples * 1.0 / batch_size)),\n",
    "                 callbacks=[model_checkpoint],\n",
    "                 epochs=epochs)"
   ]
  },
  {
   "cell_type": "code",
   "execution_count": 17,
   "metadata": {},
   "outputs": [
    {
     "data": {
      "text/plain": [
       "[-1.1412392854690552,\n",
       " -1.207964301109314,\n",
       " -1.197577953338623,\n",
       " -1.331838846206665,\n",
       " -1.4764082431793213]"
      ]
     },
     "execution_count": 17,
     "metadata": {},
     "output_type": "execute_result"
    }
   ],
   "source": [
    "history.history[\"val_loss\"]"
   ]
  },
  {
   "cell_type": "code",
   "execution_count": 18,
   "metadata": {},
   "outputs": [
    {
     "data": {
      "text/plain": [
       "[1.1412392854690552,\n",
       " 1.207964301109314,\n",
       " 1.197577953338623,\n",
       " 1.331838846206665,\n",
       " 1.4764082431793213]"
      ]
     },
     "execution_count": 18,
     "metadata": {},
     "output_type": "execute_result"
    }
   ],
   "source": [
    "history.history[\"val_dice_coef\"]"
   ]
  },
  {
   "cell_type": "code",
   "execution_count": 19,
   "metadata": {},
   "outputs": [
    {
     "data": {
      "text/plain": [
       "[0.21481171250343323,\n",
       " 0.200633242726326,\n",
       " 0.2749481201171875,\n",
       " 0.20961761474609375,\n",
       " 0.13670197129249573]"
      ]
     },
     "execution_count": 19,
     "metadata": {},
     "output_type": "execute_result"
    }
   ],
   "source": [
    "history.history[\"val_acc\"]"
   ]
  },
  {
   "cell_type": "code",
   "execution_count": 20,
   "metadata": {},
   "outputs": [
    {
     "data": {
      "text/plain": [
       "[1.328937292098999,\n",
       " 1.5251386165618896,\n",
       " 1.492454171180725,\n",
       " 1.993289589881897,\n",
       " 2.819770097732544]"
      ]
     },
     "execution_count": 20,
     "metadata": {},
     "output_type": "execute_result"
    }
   ],
   "source": [
    "history.history[\"val_Jaccard_index\"]"
   ]
  },
  {
   "cell_type": "code",
   "execution_count": 21,
   "metadata": {},
   "outputs": [
    {
     "data": {
      "text/plain": [
       "[-0.9841489195823669,\n",
       " -0.953559160232544,\n",
       " -1.2600764036178589,\n",
       " -1.3714269399642944,\n",
       " -1.4309630393981934]"
      ]
     },
     "execution_count": 21,
     "metadata": {},
     "output_type": "execute_result"
    }
   ],
   "source": [
    "history.history[\"loss\"]"
   ]
  },
  {
   "cell_type": "code",
   "execution_count": 22,
   "metadata": {},
   "outputs": [
    {
     "data": {
      "text/plain": [
       "[0.9841489195823669,\n",
       " 0.953559160232544,\n",
       " 1.2600764036178589,\n",
       " 1.3714269399642944,\n",
       " 1.4309630393981934]"
      ]
     },
     "execution_count": 22,
     "metadata": {},
     "output_type": "execute_result"
    }
   ],
   "source": [
    "history.history[\"dice_coef\"]"
   ]
  },
  {
   "cell_type": "code",
   "execution_count": 23,
   "metadata": {},
   "outputs": [
    {
     "data": {
      "text/plain": [
       "[0.29817962646484375,\n",
       " 0.272317498922348,\n",
       " 0.2107894867658615,\n",
       " 0.20056915283203125,\n",
       " 0.1687057465314865]"
      ]
     },
     "execution_count": 23,
     "metadata": {},
     "output_type": "execute_result"
    }
   ],
   "source": [
    "history.history[\"acc\"]"
   ]
  },
  {
   "cell_type": "code",
   "execution_count": 24,
   "metadata": {},
   "outputs": [
    {
     "data": {
      "text/plain": [
       "[0.9687924981117249,\n",
       " 0.9112403988838196,\n",
       " 1.702981948852539,\n",
       " 2.1818103790283203,\n",
       " 2.5147101879119873]"
      ]
     },
     "execution_count": 24,
     "metadata": {},
     "output_type": "execute_result"
    }
   ],
   "source": [
    "history.history[\"Jaccard_index\"]"
   ]
  },
  {
   "cell_type": "code",
   "execution_count": 25,
   "metadata": {
    "_uuid": "0d4dbd514257d4dac990dd3aa738aceee8e843d5"
   },
   "outputs": [
    {
     "name": "stdout",
     "output_type": "stream",
     "text": [
      "Test Score:  -1.4764082860946655\n",
      "Test Accuracy:  1.4764082860946655\n"
     ]
    }
   ],
   "source": [
    "score = model.evaluate_generator(val_generator, steps=50)\n",
    "\n",
    "print ('Test Score: ', score[0])\n",
    "print ('Test Accuracy: ',score[1])"
   ]
  },
  {
   "cell_type": "code",
   "execution_count": 26,
   "metadata": {},
   "outputs": [
    {
     "name": "stdout",
     "output_type": "stream",
     "text": [
      "dice_coef: 147.64%\n"
     ]
    }
   ],
   "source": [
    "print(\"%s: %.2f%%\" % (model.metrics_names[1], score[1] * 100))"
   ]
  },
  {
   "cell_type": "code",
   "execution_count": 27,
   "metadata": {},
   "outputs": [
    {
     "name": "stdout",
     "output_type": "stream",
     "text": [
      "dict_keys(['val_loss', 'val_dice_coef', 'val_acc', 'val_Jaccard_index', 'val_Specificity', 'val_Sensitivity', 'val_precision', 'val_recall', 'val_f1score', 'loss', 'dice_coef', 'acc', 'Jaccard_index', 'Specificity', 'Sensitivity', 'precision', 'recall', 'f1score'])\n"
     ]
    }
   ],
   "source": [
    "print(history.history.keys())"
   ]
  },
  {
   "cell_type": "code",
   "execution_count": 30,
   "metadata": {},
   "outputs": [],
   "source": [
    "test_imgs = val_image_generator.next()\n",
    "test_masks = val_mask_generator.next()\n",
    "# Let's visualize some of the outputs \n",
    "predictions = model.predict_on_batch(test_imgs)"
   ]
  },
  {
   "cell_type": "code",
   "execution_count": 31,
   "metadata": {},
   "outputs": [
    {
     "ename": "IndexError",
     "evalue": "index 2 is out of bounds for axis 0 with size 2",
     "output_type": "error",
     "traceback": [
      "\u001b[0;31m---------------------------------------------------------------------------\u001b[0m",
      "\u001b[0;31mIndexError\u001b[0m                                Traceback (most recent call last)",
      "\u001b[0;32m<ipython-input-31-a062a90ed4fc>\u001b[0m in \u001b[0;36m<module>\u001b[0;34m()\u001b[0m\n\u001b[1;32m      2\u001b[0m \u001b[0mplt\u001b[0m\u001b[0;34m.\u001b[0m\u001b[0mfigure\u001b[0m\u001b[0;34m(\u001b[0m\u001b[0mfigsize\u001b[0m\u001b[0;34m=\u001b[0m\u001b[0;34m(\u001b[0m\u001b[0;36m10\u001b[0m\u001b[0;34m,\u001b[0m \u001b[0;36m20\u001b[0m\u001b[0;34m)\u001b[0m\u001b[0;34m)\u001b[0m\u001b[0;34m\u001b[0m\u001b[0m\n\u001b[1;32m      3\u001b[0m \u001b[0;32mfor\u001b[0m \u001b[0mi\u001b[0m \u001b[0;32min\u001b[0m \u001b[0mrange\u001b[0m\u001b[0;34m(\u001b[0m\u001b[0;36m5\u001b[0m\u001b[0;34m)\u001b[0m\u001b[0;34m:\u001b[0m\u001b[0;34m\u001b[0m\u001b[0m\n\u001b[0;32m----> 4\u001b[0;31m     \u001b[0mimg\u001b[0m \u001b[0;34m=\u001b[0m \u001b[0mtest_imgs\u001b[0m\u001b[0;34m[\u001b[0m\u001b[0mi\u001b[0m\u001b[0;34m,\u001b[0m\u001b[0;34m:\u001b[0m\u001b[0;34m,\u001b[0m\u001b[0;34m:\u001b[0m\u001b[0;34m,\u001b[0m\u001b[0;36m0\u001b[0m\u001b[0;34m]\u001b[0m\u001b[0;34m\u001b[0m\u001b[0m\n\u001b[0m\u001b[1;32m      5\u001b[0m     \u001b[0mlabel\u001b[0m \u001b[0;34m=\u001b[0m \u001b[0mtest_masks\u001b[0m\u001b[0;34m[\u001b[0m\u001b[0mi\u001b[0m\u001b[0;34m,\u001b[0m\u001b[0;34m:\u001b[0m\u001b[0;34m,\u001b[0m\u001b[0;34m:\u001b[0m\u001b[0;34m,\u001b[0m\u001b[0;36m0\u001b[0m\u001b[0;34m]\u001b[0m\u001b[0;34m\u001b[0m\u001b[0m\n\u001b[1;32m      6\u001b[0m     \u001b[0mpredicted_label\u001b[0m \u001b[0;34m=\u001b[0m \u001b[0mpredictions\u001b[0m\u001b[0;34m[\u001b[0m\u001b[0mi\u001b[0m\u001b[0;34m,\u001b[0m\u001b[0;34m:\u001b[0m\u001b[0;34m,\u001b[0m\u001b[0;34m:\u001b[0m\u001b[0;34m,\u001b[0m\u001b[0;36m0\u001b[0m\u001b[0;34m]\u001b[0m\u001b[0;34m\u001b[0m\u001b[0m\n",
      "\u001b[0;31mIndexError\u001b[0m: index 2 is out of bounds for axis 0 with size 2"
     ]
    },
    {
     "data": {
      "image/png": "[encoded data removed]",
      "text/plain": [
       "<Figure size 720x1440 with 8 Axes>"
      ]
     },
     "metadata": {},
     "output_type": "display_data"
    }
   ],
   "source": [
    "# Running next element in our graph will produce a batch of images\n",
    "plt.figure(figsize=(10, 20))\n",
    "for i in range(5):\n",
    "    img = test_imgs[i,:,:,0]\n",
    "    label = test_masks[i,:,:,0]\n",
    "    predicted_label = predictions[i,:,:,0]\n",
    "\n",
    "    plt.subplot(5, 4, 4 * i + 1)\n",
    "    plt.imshow(img)\n",
    "    plt.title(\"Input image\")\n",
    "\n",
    "    plt.subplot(5, 4, 4 * i + 2)\n",
    "    plt.imshow(label)\n",
    "    plt.title(\"Actual Mask\")\n",
    "    \n",
    "    plt.subplot(5, 4, 4 * i + 3)\n",
    "    plt.imshow(predicted_label)\n",
    "    plt.title(\"Predictions\")\n",
    "    \n",
    "    plt.subplot(5, 4, 4 * i + 4)\n",
    "    plt.imshow(predicted_label>0.99)\n",
    "    plt.title(\"Predicted mask\")\n",
    "    \n",
    "plt.show()"
   ]
  },
  {
   "cell_type": "code",
   "execution_count": 32,
   "metadata": {
    "_uuid": "e5a32e20bc01581a2c9d8e71efe6aa96bbb3b6f7"
   },
   "outputs": [
    {
     "data": {
      "image/png": "[encoded data removed]",
      "text/plain": [
       "<Figure size 432x288 with 1 Axes>"
      ]
     },
     "metadata": {},
     "output_type": "display_data"
    },
    {
     "data": {
      "image/png": "[encoded data removed]",
      "text/plain": [
       "<Figure size 432x288 with 1 Axes>"
      ]
     },
     "metadata": {},
     "output_type": "display_data"
    }
   ],
   "source": [
    "import matplotlib.pyplot as plt\n",
    "\n",
    "# summarize history for accuracy\n",
    "plt.plot(history.history['dice_coef'])\n",
    "plt.plot(history.history['val_dice_coef'])\n",
    "plt.title('model dice_coeff')\n",
    "plt.ylabel('dice_coef')\n",
    "plt.xlabel('epoch')\n",
    "plt.legend(['train', 'validation'], loc='upper left')\n",
    "plt.show()\n",
    "# summarize history for loss\n",
    "plt.plot(history.history['loss'])\n",
    "plt.plot(history.history['val_loss'])\n",
    "plt.title('model loss')\n",
    "plt.ylabel('loss')\n",
    "plt.xlabel('epoch')\n",
    "plt.legend(['train', 'validation'], loc='upper left')\n",
    "plt.show()"
   ]
  },
  {
   "cell_type": "code",
   "execution_count": 33,
   "metadata": {},
   "outputs": [
    {
     "data": {
      "image/png": "[encoded data removed]",
      "text/plain": [
       "<Figure size 432x288 with 1 Axes>"
      ]
     },
     "metadata": {},
     "output_type": "display_data"
    },
    {
     "data": {
      "image/png": "[encoded data removed]",
      "text/plain": [
       "<Figure size 432x288 with 1 Axes>"
      ]
     },
     "metadata": {},
     "output_type": "display_data"
    }
   ],
   "source": [
    "plt.plot(history.history['acc'])\n",
    "plt.plot(history.history['val_acc'])\n",
    "plt.title('model accuracy')\n",
    "plt.ylabel('accuracy')\n",
    "plt.xlabel('epoch')\n",
    "plt.legend(['train', 'test'], loc='upper left')\n",
    "plt.show()\n",
    "# summarize history for loss\n",
    "plt.plot(history.history['loss'])\n",
    "plt.plot(history.history['val_loss'])\n",
    "plt.title('model loss')\n",
    "plt.ylabel('loss')\n",
    "plt.xlabel('epoch')\n",
    "plt.legend(['train', 'test'], loc='upper left')\n",
    "plt.show()"
   ]
  },
  {
   "cell_type": "code",
   "execution_count": 34,
   "metadata": {
    "_uuid": "098e286016ad7f4b0742d280320d42d8d02524c1"
   },
   "outputs": [
    {
     "data": {
      "image/png": "[encoded data removed]",
      "text/plain": [
       "<Figure size 432x288 with 1 Axes>"
      ]
     },
     "metadata": {},
     "output_type": "display_data"
    },
    {
     "data": {
      "image/png": "[encoded data removed]",
      "text/plain": [
       "<Figure size 432x288 with 1 Axes>"
      ]
     },
     "metadata": {},
     "output_type": "display_data"
    }
   ],
   "source": [
    "acc = history.history['acc']\n",
    "val_acc = history.history['val_acc']\n",
    "loss = history.history['loss']\n",
    "val_loss = history.history['val_loss']\n",
    "\n",
    "epochs = range(len(acc))\n",
    "\n",
    "plt.plot(epochs, acc, 'bo', label='Training acc')\n",
    "plt.plot(epochs, val_acc, 'b', label='Validation acc')\n",
    "plt.title('Training and validation accuracy')\n",
    "plt.legend()\n",
    "\n",
    "plt.figure()\n",
    "\n",
    "plt.plot(epochs, loss, 'bo', label='Training loss')\n",
    "plt.plot(epochs, val_loss, 'b', label='Validation loss')\n",
    "plt.title('Training and validation loss')\n",
    "plt.legend()\n",
    "\n",
    "plt.show()"
   ]
  },
  {
   "cell_type": "code",
   "execution_count": 35,
   "metadata": {
    "_uuid": "c42eedad7631b667a3e874de84cc4ad4a9dad935"
   },
   "outputs": [
    {
     "data": {
      "image/png": "[encoded data removed]",
      "text/plain": [
       "<Figure size 432x288 with 1 Axes>"
      ]
     },
     "metadata": {},
     "output_type": "display_data"
    }
   ],
   "source": [
    "import numpy as np\n",
    "plt.figure(1)\n",
    "plt.plot(history.history['loss'],'r')\n",
    "plt.plot(history.history['val_loss'],'g')\n",
    "\n",
    "plt.rcParams['figure.figsize'] = (8, 6)\n",
    "plt.xlabel(\"Num of Epochs\")\n",
    "plt.ylabel(\"Loss\")\n",
    "plt.title(\"Training Loss vs Validation Loss\")\n",
    "plt.legend(['train','validation'])\n",
    "\n",
    "plt.show()"
   ]
  },
  {
   "cell_type": "code",
   "execution_count": 38,
   "metadata": {},
   "outputs": [
    {
     "name": "stdout",
     "output_type": "stream",
     "text": [
      "10/10 [==============================] - 266s 27s/step\n"
     ]
    }
   ],
   "source": [
    "prediction = model.predict_generator(val_generator, verbose=1, steps=10)"
   ]
  },
  {
   "cell_type": "code",
   "execution_count": 39,
   "metadata": {},
   "outputs": [
    {
     "data": {
      "text/plain": [
       "array([[[[1.6950378e-01],\n",
       "         [2.4227031e-02],\n",
       "         [5.8845212e-03],\n",
       "         ...,\n",
       "         [4.1787385e-05],\n",
       "         [3.9799568e-05],\n",
       "         [1.9571111e-05]],\n",
       "\n",
       "        [[5.2313503e-02],\n",
       "         [1.1143698e-02],\n",
       "         [3.5950472e-03],\n",
       "         ...,\n",
       "         [6.3393013e-06],\n",
       "         [4.1375464e-05],\n",
       "         [1.6453917e-04]],\n",
       "\n",
       "        [[5.7789072e-02],\n",
       "         [5.0577544e-02],\n",
       "         [2.5803851e-02],\n",
       "         ...,\n",
       "         [1.1603900e-05],\n",
       "         [2.4546401e-04],\n",
       "         [5.3195463e-04]],\n",
       "\n",
       "        ...,\n",
       "\n",
       "        [[4.7143824e-02],\n",
       "         [5.3188939e-02],\n",
       "         [1.5053202e-02],\n",
       "         ...,\n",
       "         [9.4910824e-01],\n",
       "         [9.7846621e-01],\n",
       "         [9.3100768e-01]],\n",
       "\n",
       "        [[4.7223736e-02],\n",
       "         [2.6165696e-02],\n",
       "         [2.0669905e-02],\n",
       "         ...,\n",
       "         [6.6194326e-01],\n",
       "         [8.4401220e-01],\n",
       "         [9.3713987e-01]],\n",
       "\n",
       "        [[7.8271301e-03],\n",
       "         [5.0547076e-03],\n",
       "         [3.1368064e-03],\n",
       "         ...,\n",
       "         [8.2128227e-01],\n",
       "         [9.2143935e-01],\n",
       "         [9.5659298e-01]]],\n",
       "\n",
       "\n",
       "       [[[6.4258075e-01],\n",
       "         [3.0049378e-01],\n",
       "         [1.0326827e-01],\n",
       "         ...,\n",
       "         [3.0653311e-03],\n",
       "         [7.6136799e-03],\n",
       "         [3.2147742e-03]],\n",
       "\n",
       "        [[4.7479206e-01],\n",
       "         [1.2913008e-01],\n",
       "         [4.7482919e-02],\n",
       "         ...,\n",
       "         [7.3504692e-04],\n",
       "         [1.1109695e-03],\n",
       "         [5.0841304e-03]],\n",
       "\n",
       "        [[5.0906891e-01],\n",
       "         [3.8013384e-01],\n",
       "         [4.2377386e-02],\n",
       "         ...,\n",
       "         [2.7372508e-04],\n",
       "         [7.5291615e-04],\n",
       "         [2.8661962e-03]],\n",
       "\n",
       "        ...,\n",
       "\n",
       "        [[5.6720603e-01],\n",
       "         [7.7673244e-01],\n",
       "         [2.0464373e-01],\n",
       "         ...,\n",
       "         [7.1891923e-03],\n",
       "         [2.0238082e-03],\n",
       "         [1.3606281e-03]],\n",
       "\n",
       "        [[4.5804545e-01],\n",
       "         [7.0914668e-01],\n",
       "         [4.0451357e-01],\n",
       "         ...,\n",
       "         [2.6068371e-02],\n",
       "         [3.9463402e-03],\n",
       "         [7.3016342e-03]],\n",
       "\n",
       "        [[7.7104054e-02],\n",
       "         [1.9366050e-01],\n",
       "         [8.9209653e-02],\n",
       "         ...,\n",
       "         [3.7499624e-03],\n",
       "         [7.7088102e-04],\n",
       "         [3.3265532e-03]]],\n",
       "\n",
       "\n",
       "       [[[1.6950378e-01],\n",
       "         [2.4227031e-02],\n",
       "         [5.8845212e-03],\n",
       "         ...,\n",
       "         [4.1787385e-05],\n",
       "         [3.9799568e-05],\n",
       "         [1.9571111e-05]],\n",
       "\n",
       "        [[5.2313503e-02],\n",
       "         [1.1143698e-02],\n",
       "         [3.5950472e-03],\n",
       "         ...,\n",
       "         [6.3393013e-06],\n",
       "         [4.1375464e-05],\n",
       "         [1.6453917e-04]],\n",
       "\n",
       "        [[5.7789072e-02],\n",
       "         [5.0577544e-02],\n",
       "         [2.5803851e-02],\n",
       "         ...,\n",
       "         [1.1603900e-05],\n",
       "         [2.4546401e-04],\n",
       "         [5.3195463e-04]],\n",
       "\n",
       "        ...,\n",
       "\n",
       "        [[4.7143824e-02],\n",
       "         [5.3188939e-02],\n",
       "         [1.5053202e-02],\n",
       "         ...,\n",
       "         [9.4910824e-01],\n",
       "         [9.7846621e-01],\n",
       "         [9.3100768e-01]],\n",
       "\n",
       "        [[4.7223736e-02],\n",
       "         [2.6165696e-02],\n",
       "         [2.0669905e-02],\n",
       "         ...,\n",
       "         [6.6194326e-01],\n",
       "         [8.4401220e-01],\n",
       "         [9.3713987e-01]],\n",
       "\n",
       "        [[7.8271301e-03],\n",
       "         [5.0547076e-03],\n",
       "         [3.1368064e-03],\n",
       "         ...,\n",
       "         [8.2128227e-01],\n",
       "         [9.2143935e-01],\n",
       "         [9.5659298e-01]]],\n",
       "\n",
       "\n",
       "       ...,\n",
       "\n",
       "\n",
       "       [[[1.6950378e-01],\n",
       "         [2.4227031e-02],\n",
       "         [5.8845212e-03],\n",
       "         ...,\n",
       "         [4.1787385e-05],\n",
       "         [3.9799568e-05],\n",
       "         [1.9571111e-05]],\n",
       "\n",
       "        [[5.2313503e-02],\n",
       "         [1.1143698e-02],\n",
       "         [3.5950472e-03],\n",
       "         ...,\n",
       "         [6.3393013e-06],\n",
       "         [4.1375464e-05],\n",
       "         [1.6453917e-04]],\n",
       "\n",
       "        [[5.7789072e-02],\n",
       "         [5.0577544e-02],\n",
       "         [2.5803851e-02],\n",
       "         ...,\n",
       "         [1.1603900e-05],\n",
       "         [2.4546401e-04],\n",
       "         [5.3195463e-04]],\n",
       "\n",
       "        ...,\n",
       "\n",
       "        [[4.7143824e-02],\n",
       "         [5.3188939e-02],\n",
       "         [1.5053202e-02],\n",
       "         ...,\n",
       "         [9.4910824e-01],\n",
       "         [9.7846621e-01],\n",
       "         [9.3100768e-01]],\n",
       "\n",
       "        [[4.7223736e-02],\n",
       "         [2.6165696e-02],\n",
       "         [2.0669905e-02],\n",
       "         ...,\n",
       "         [6.6194326e-01],\n",
       "         [8.4401220e-01],\n",
       "         [9.3713987e-01]],\n",
       "\n",
       "        [[7.8271301e-03],\n",
       "         [5.0547076e-03],\n",
       "         [3.1368064e-03],\n",
       "         ...,\n",
       "         [8.2128227e-01],\n",
       "         [9.2143935e-01],\n",
       "         [9.5659298e-01]]],\n",
       "\n",
       "\n",
       "       [[[6.4258075e-01],\n",
       "         [3.0049378e-01],\n",
       "         [1.0326827e-01],\n",
       "         ...,\n",
       "         [3.0653311e-03],\n",
       "         [7.6136799e-03],\n",
       "         [3.2147742e-03]],\n",
       "\n",
       "        [[4.7479206e-01],\n",
       "         [1.2913008e-01],\n",
       "         [4.7482919e-02],\n",
       "         ...,\n",
       "         [7.3504692e-04],\n",
       "         [1.1109695e-03],\n",
       "         [5.0841304e-03]],\n",
       "\n",
       "        [[5.0906891e-01],\n",
       "         [3.8013384e-01],\n",
       "         [4.2377386e-02],\n",
       "         ...,\n",
       "         [2.7372508e-04],\n",
       "         [7.5291615e-04],\n",
       "         [2.8661962e-03]],\n",
       "\n",
       "        ...,\n",
       "\n",
       "        [[5.6720603e-01],\n",
       "         [7.7673244e-01],\n",
       "         [2.0464373e-01],\n",
       "         ...,\n",
       "         [7.1891923e-03],\n",
       "         [2.0238082e-03],\n",
       "         [1.3606281e-03]],\n",
       "\n",
       "        [[4.5804545e-01],\n",
       "         [7.0914668e-01],\n",
       "         [4.0451357e-01],\n",
       "         ...,\n",
       "         [2.6068371e-02],\n",
       "         [3.9463402e-03],\n",
       "         [7.3016342e-03]],\n",
       "\n",
       "        [[7.7104054e-02],\n",
       "         [1.9366050e-01],\n",
       "         [8.9209653e-02],\n",
       "         ...,\n",
       "         [3.7499624e-03],\n",
       "         [7.7088102e-04],\n",
       "         [3.3265532e-03]]],\n",
       "\n",
       "\n",
       "       [[[1.6950378e-01],\n",
       "         [2.4227031e-02],\n",
       "         [5.8845212e-03],\n",
       "         ...,\n",
       "         [4.1787385e-05],\n",
       "         [3.9799568e-05],\n",
       "         [1.9571111e-05]],\n",
       "\n",
       "        [[5.2313503e-02],\n",
       "         [1.1143698e-02],\n",
       "         [3.5950472e-03],\n",
       "         ...,\n",
       "         [6.3393013e-06],\n",
       "         [4.1375464e-05],\n",
       "         [1.6453917e-04]],\n",
       "\n",
       "        [[5.7789072e-02],\n",
       "         [5.0577544e-02],\n",
       "         [2.5803851e-02],\n",
       "         ...,\n",
       "         [1.1603900e-05],\n",
       "         [2.4546401e-04],\n",
       "         [5.3195463e-04]],\n",
       "\n",
       "        ...,\n",
       "\n",
       "        [[4.7143824e-02],\n",
       "         [5.3188939e-02],\n",
       "         [1.5053202e-02],\n",
       "         ...,\n",
       "         [9.4910824e-01],\n",
       "         [9.7846621e-01],\n",
       "         [9.3100768e-01]],\n",
       "\n",
       "        [[4.7223736e-02],\n",
       "         [2.6165696e-02],\n",
       "         [2.0669905e-02],\n",
       "         ...,\n",
       "         [6.6194326e-01],\n",
       "         [8.4401220e-01],\n",
       "         [9.3713987e-01]],\n",
       "\n",
       "        [[7.8271301e-03],\n",
       "         [5.0547076e-03],\n",
       "         [3.1368064e-03],\n",
       "         ...,\n",
       "         [8.2128227e-01],\n",
       "         [9.2143935e-01],\n",
       "         [9.5659298e-01]]]], dtype=float32)"
      ]
     },
     "execution_count": 39,
     "metadata": {},
     "output_type": "execute_result"
    }
   ],
   "source": [
    "prediction"
   ]
  },
  {
   "cell_type": "code",
   "execution_count": 40,
   "metadata": {},
   "outputs": [
    {
     "data": {
      "text/plain": [
       "20"
      ]
     },
     "execution_count": 40,
     "metadata": {},
     "output_type": "execute_result"
    }
   ],
   "source": [
    "len(prediction)"
   ]
  },
  {
   "cell_type": "code",
   "execution_count": 41,
   "metadata": {},
   "outputs": [],
   "source": [
    "def labelVisualize(num_class,color_dict,img):\n",
    "    img = img[:,:,0] if len(img.shape) == 3 else img\n",
    "    img_out = np.zeros(img.shape + (3,))\n",
    "    for i in range(num_class):\n",
    "        img_out[img == i,:] = color_dict[i]\n",
    "    return img_out / 255\n",
    "\n",
    "def saveResult(save_path,npyfile,flag_multi_class = False,num_class = 2):\n",
    "    for i,item in enumerate(npyfile):\n",
    "        img = labelVisualize(num_class,COLOR_DICT,item) if flag_multi_class else item[:,:,0]\n",
    "        io.imsave(os.path.join(save_path,\"%d_predict.png\"%i),img)\n",
    "#         io.imsave(os.path.join(save_path, str(image_id) + '_pred.png'), img)"
   ]
  },
  {
   "cell_type": "code",
   "execution_count": 42,
   "metadata": {},
   "outputs": [
    {
     "name": "stderr",
     "output_type": "stream",
     "text": [
      "/home/sara/anaconda3/lib/python3.6/site-packages/skimage/util/dtype.py:122: UserWarning: Possible precision loss when converting from float32 to uint16\n",
      "  .format(dtypeobj_in, dtypeobj_out))\n"
     ]
    }
   ],
   "source": [
    "saveResult('results_dir6',prediction)"
   ]
  },
  {
   "cell_type": "code",
   "execution_count": 43,
   "metadata": {},
   "outputs": [
    {
     "name": "stdout",
     "output_type": "stream",
     "text": [
      "dice_coef: 147.64%\n"
     ]
    }
   ],
   "source": [
    "# https://github.com/danielelic/deep-hands/blob/59517243823372af4be154ee1f622fcb119f0c59/train_inception-v3.py\n",
    "print(\"%s: %.2f%%\" % (model.metrics_names[1], score[1] * 100))"
   ]
  },
  {
   "cell_type": "code",
   "execution_count": 44,
   "metadata": {},
   "outputs": [
    {
     "name": "stdout",
     "output_type": "stream",
     "text": [
      "loss: 147.64%\n"
     ]
    }
   ],
   "source": [
    "print(\"%s: %.2f%%\" % (model.metrics_names[0], score[1] * 100))"
   ]
  },
  {
   "cell_type": "code",
   "execution_count": 45,
   "metadata": {},
   "outputs": [
    {
     "name": "stdout",
     "output_type": "stream",
     "text": [
      "\n",
      "Results validating with training data: dice_coef: 147.64%\n",
      "\n",
      "Results validating with training data: acc: 13.67%\n",
      "\n",
      "Results validating with training data: Jaccard_index: 281.98%\n",
      "\n",
      "Results validating with training data: Specificity: -2875.35%\n",
      "\n",
      "Results validating with training data: Sensitivity: 86.15%\n",
      "\n",
      "Results validating with training data: precision: 62.01%\n",
      "\n",
      "Results validating with training data: recall: 96.46%\n",
      "\n",
      "Results validating with training data: f1score: 75.49%\n"
     ]
    }
   ],
   "source": [
    "for i in range(1, len(model.metrics_names)):\n",
    "    print(\"\\nResults validating with training data: %s: %.2f%%\" % (model.metrics_names[i], score[i]*100))"
   ]
  },
  {
   "cell_type": "code",
   "execution_count": 46,
   "metadata": {},
   "outputs": [],
   "source": [
    "model.save('models/EndoVis-Deep-Residual-Unet-Adam-Model.h5')\n",
    "model.save_weights('models/EndoVis-Deep-Residual-Unet-Adam-Weights.h5')"
   ]
  },
  {
   "cell_type": "markdown",
   "metadata": {},
   "source": [
    "___"
   ]
  },
  {
   "cell_type": "code",
   "execution_count": null,
   "metadata": {},
   "outputs": [],
   "source": [
    "%pylab inline\n",
    "import matplotlib.pyplot as plt\n",
    "import matplotlib.image as mpimg\n",
    "img=mpimg.imread('results_dir6/35_predict.png')\n",
    "imgplot = plt.imshow(img)\n",
    "plt.show()"
   ]
  },
  {
   "cell_type": "code",
   "execution_count": null,
   "metadata": {},
   "outputs": [],
   "source": [
    "# https://www.kaggle.com/pestipeti/explanation-of-scoring-metric\n",
    "\n",
    "import matplotlib.pyplot as plt\n",
    "import numpy as np\n",
    "import pandas as pd\n",
    "import imageio\n",
    "\n",
    "from scipy import ndimage\n",
    "from pathlib import Path\n",
    "\n",
    "img= plt.imread(\"data/training/images/ISIC_0000000.jpg\")\n",
    "target_mask = plt.imread(\"results_dir6/prediction_0_69_pred.jpg\")\n",
    "pred_mask = plt.imread(\"data/augmented/image_0_10533.png\")\n",
    "\n",
    "\n",
    "# Plot the objects\n",
    "# plt.imshow(im.reshape(im.shape[0], im.shape[1]), cmap=plt.cm.Greys)\n",
    "\n",
    "fig, axes = plt.subplots(1,3, figsize=(16,9))\n",
    "axes[0].imshow(img)\n",
    "axes[1].imshow(target_mask,cmap='jet')\n",
    "axes[2].imshow(pred_mask, cmap='jet')\n",
    "\n",
    "labels = ['Original', '\"GroundTruth\" Mask', '\"Predicted\" Mask']\n",
    "for ind, ax in enumerate(axes):\n",
    "    ax.set_title(labels[ind], fontsize=18)\n",
    "    ax.axis('off')"
   ]
  },
  {
   "cell_type": "code",
   "execution_count": null,
   "metadata": {},
   "outputs": [],
   "source": [
    "import numpy as np\n",
    "\n",
    "\n",
    "def dice(im1, im2):\n",
    "    \"\"\"\n",
    "    Computes the Dice coefficient, a measure of set similarity.\n",
    "    Parameters\n",
    "    ----------\n",
    "    im1 : array-like, bool\n",
    "        Any array of arbitrary size. If not boolean, will be converted.\n",
    "    im2 : array-like, bool\n",
    "        Any other array of identical size. If not boolean, will be converted.\n",
    "    Returns\n",
    "    -------\n",
    "    dice : float\n",
    "        Dice coefficient as a float on range [0,1].\n",
    "        Maximum similarity = 1\n",
    "        No similarity = 0\n",
    "        \n",
    "    Notes\n",
    "    -----\n",
    "    The order of inputs for `dice` is irrelevant. The result will be\n",
    "    identical if `im1` and `im2` are switched.\n",
    "    \"\"\"\n",
    "    im1 = np.asarray(im1).astype(np.bool)\n",
    "    im2 = np.asarray(im2).astype(np.bool)\n",
    "\n",
    "    if im1.shape != im2.shape:\n",
    "        raise ValueError(\"Shape mismatch: im1 and im2 must have the same shape.\", \"image1 shape:\", im1.shape,\"image2 shape:\", im2.shape)\n",
    "\n",
    "    # Compute Dice coefficient\n",
    "    intersection = np.logical_and(im1, im2)\n",
    "\n",
    "    return 2. * intersection.sum() / (im1.sum() + im2.sum())"
   ]
  },
  {
   "cell_type": "code",
   "execution_count": null,
   "metadata": {},
   "outputs": [],
   "source": [
    "groundTruth = plt.imread(\"results_dir6/prediction_0_69_pred.jpg\")\n",
    "resultImage = plt.imread(\"data/augmented/image_0_10533.png\")"
   ]
  },
  {
   "cell_type": "code",
   "execution_count": null,
   "metadata": {},
   "outputs": [],
   "source": [
    "resultImage = (resultImage - resultImage.min()) / (resultImage.max() - resultImage.min())\n",
    "groundTruth = (groundTruth - groundTruth.min()) / (groundTruth.max() - groundTruth.min())"
   ]
  },
  {
   "cell_type": "code",
   "execution_count": null,
   "metadata": {},
   "outputs": [],
   "source": [
    "dice(resultImage, groundTruth)"
   ]
  },
  {
   "cell_type": "code",
   "execution_count": null,
   "metadata": {},
   "outputs": [],
   "source": [
    "resultImage.shape"
   ]
  },
  {
   "cell_type": "code",
   "execution_count": null,
   "metadata": {},
   "outputs": [],
   "source": [
    "groundTruth.shape"
   ]
  },
  {
   "cell_type": "code",
   "execution_count": null,
   "metadata": {},
   "outputs": [],
   "source": [
    "groundTruth.ndim , groundTruth.ndim"
   ]
  },
  {
   "cell_type": "code",
   "execution_count": null,
   "metadata": {},
   "outputs": [],
   "source": [
    "target_mask = plt.imread(\"results_dir6/prediction_0_69_pred.jpg\")\n",
    "pred_mask = plt.imread(\"data/augmented/image_0_10533.png\")"
   ]
  },
  {
   "cell_type": "code",
   "execution_count": null,
   "metadata": {},
   "outputs": [],
   "source": [
    "A = target_mask\n",
    "B = pred_mask\n",
    "intersection = np.logical_and(A, B)\n",
    "union = np.logical_or(A, B)\n",
    "\n",
    "fig, axes = plt.subplots(1,4, figsize=(18,12))\n",
    "axes[0].imshow(A, cmap='hot')\n",
    "axes[0].annotate('npixels = {}'.format(np.sum(A>0)), \n",
    "                 xy=(10, 10), color='white', fontsize=12)\n",
    "axes[1].imshow(B, cmap='hot')\n",
    "axes[1].annotate('npixels = {}'.format(np.sum(B>0)), \n",
    "                 xy=(10, 10), color='white', fontsize=12)\n",
    "\n",
    "axes[2].imshow(intersection, cmap='hot')\n",
    "axes[2].annotate('npixels = {}'.format(np.sum(intersection>0)), \n",
    "                 xy=(10, 10), color='white', fontsize=12)\n",
    "\n",
    "axes[3].imshow(union, cmap='hot')\n",
    "axes[3].annotate('npixels = {}'.format(np.sum(union>0)), \n",
    "                 xy=(10, 10), color='white', fontsize=12)\n",
    "\n",
    "labels = ['GroundTruth', 'Predicted', 'Intersection', 'Union']\n",
    "for ind, ax in enumerate(axes):\n",
    "    ax.set_title(labels[ind], fontsize=18)"
   ]
  },
  {
   "cell_type": "code",
   "execution_count": null,
   "metadata": {},
   "outputs": [],
   "source": [
    "def histdata(accuracy):\n",
    "    numvalues, x = np.histogram(accuracy, bins=np.arange(0,1.1,0.1))\n",
    "    print(\"Accuracy  :   No. of predictions\\n\")\n",
    "    for i in range(len(numvalues)):\n",
    "        print(\"{:03.1f} - {:03.1f} : {:>4}\".format(x[i],x[i+1],numvalues[i]))"
   ]
  },
  {
   "cell_type": "code",
   "execution_count": null,
   "metadata": {},
   "outputs": [],
   "source": [
    "histdata(prediction)"
   ]
  },
  {
   "cell_type": "code",
   "execution_count": null,
   "metadata": {},
   "outputs": [],
   "source": [
    "print(\"Mean Accuracy:\",np.mean(prediction))\n",
    "print(\"Accuracy > 0.8 :\", np.mean(prediction>=0.8)*100,\"%\")"
   ]
  },
  {
   "cell_type": "code",
   "execution_count": null,
   "metadata": {},
   "outputs": [],
   "source": [
    "from sklearn.metrics import precision_score, recall_score, f1_score, accuracy_score\n",
    "from scipy.spatial.distance import directed_hausdorff\n",
    "\n",
    "target_mask = plt.imread(\"results_dir6/prediction_0_69_pred.jpg\")\n",
    "pred_mask = plt.imread(\"data/augmented/image_0_10533.png\")\n",
    "\n",
    "gt = np.asarray(target_mask).astype(np.bool)\n",
    "pred = np.asarray(pred_mask).astype(np.bool)\n",
    "\n",
    "intersection = np.logical_and(gt, pred)\n",
    "print(\"Dice score: \" + str(2. * intersection.sum() / (gt.sum() + pred.sum())))\n",
    "\n",
    "print(\"precision: \" + str(precision_score(gt.flatten(), pred.flatten())))\n",
    "print(\"accuracy: \" + str(accuracy_score(gt.flatten(), pred.flatten())))\n",
    "print(\"recall: \" + str(recall_score(gt.flatten(), pred.flatten())))\n",
    "print(\"f1 (Dice): \" + str(f1_score(gt.flatten(), pred.flatten())))"
   ]
  }
 ],
 "metadata": {
  "kernelspec": {
   "display_name": "Python 3",
   "language": "python",
   "name": "python3"
  },
  "language_info": {
   "codemirror_mode": {
    "name": "ipython",
    "version": 3
   },
   "file_extension": ".py",
   "mimetype": "text/x-python",
   "name": "python",
   "nbconvert_exporter": "python",
   "pygments_lexer": "ipython3",
   "version": "3.6.5"
  }
 },
 "nbformat": 4,
 "nbformat_minor": 1
}
